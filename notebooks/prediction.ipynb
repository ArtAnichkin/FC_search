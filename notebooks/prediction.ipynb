{
 "cells": [
  {
   "cell_type": "markdown",
   "id": "d9f96009-2461-4eb0-8d4b-4db21c7cade9",
   "metadata": {},
   "source": [
    "## Prepare"
   ]
  },
  {
   "cell_type": "code",
   "execution_count": 1,
   "id": "12fd491d-d485-4ef6-a674-bfa080432e5f",
   "metadata": {
    "execution": {
     "iopub.execute_input": "2024-04-30T14:40:15.165974Z",
     "iopub.status.busy": "2024-04-30T14:40:15.164880Z",
     "iopub.status.idle": "2024-04-30T14:40:23.794298Z",
     "shell.execute_reply": "2024-04-30T14:40:23.793574Z",
     "shell.execute_reply.started": "2024-04-30T14:40:15.165926Z"
    },
    "tags": []
   },
   "outputs": [],
   "source": [
    "import os\n",
    "import numpy as np\n",
    "import pandas as pd\n",
    "import matplotlib.pyplot as plt\n",
    "import seaborn as sns\n",
    "\n",
    "import rdkit\n",
    "from rdkit import Chem\n",
    "from rdkit.Chem import Descriptors\n",
    "from rdkit.Chem import PandasTools\n",
    "from rdkit.Chem import AllChem, DataStructs\n",
    "from rdkit.ML.Descriptors import MoleculeDescriptors\n",
    "from mordred import Calculator, descriptors\n",
    "\n",
    "import re\n",
    "import phik\n",
    "from umap import UMAP\n",
    "\n",
    "from IPython.display import clear_output"
   ]
  },
  {
   "cell_type": "code",
   "execution_count": 2,
   "id": "a834cb0c-337c-4a71-b940-f2d21cc3773d",
   "metadata": {
    "execution": {
     "iopub.execute_input": "2024-04-30T14:40:23.796298Z",
     "iopub.status.busy": "2024-04-30T14:40:23.795594Z",
     "iopub.status.idle": "2024-04-30T14:40:24.464778Z",
     "shell.execute_reply": "2024-04-30T14:40:24.463909Z",
     "shell.execute_reply.started": "2024-04-30T14:40:23.796262Z"
    },
    "tags": []
   },
   "outputs": [],
   "source": [
    "import pandas as pd\n",
    "import numpy as np\n",
    "import matplotlib.pyplot as plt\n",
    "import seaborn as sns\n",
    "\n",
    "import sklearn\n",
    "from sklearn.model_selection import train_test_split, GridSearchCV, RandomizedSearchCV, KFold, cross_val_score\n",
    "from sklearn.preprocessing import QuantileTransformer, MinMaxScaler\n",
    "from sklearn.pipeline import Pipeline\n",
    "from sklearn.compose import ColumnTransformer\n",
    "from sklearn.metrics import r2_score, mean_squared_error, mean_absolute_error\n",
    "from sklearn.ensemble import RandomForestRegressor\n",
    "from sklearn.linear_model import Lasso\n",
    "from sklearn.inspection import permutation_importance\n",
    "from sklearn.svm import SVR, LinearSVR\n",
    "from sklearn.kernel_ridge import KernelRidge\n",
    "from catboost import CatBoostRegressor\n",
    "\n",
    "import shap\n",
    "from boruta import BorutaPy\n",
    "import os\n",
    "import phik\n",
    "\n",
    "from joblib import dump, load"
   ]
  },
  {
   "cell_type": "code",
   "execution_count": 4,
   "id": "656ff816-b0be-4d1b-ab55-828399556a8f",
   "metadata": {
    "execution": {
     "iopub.execute_input": "2024-04-30T14:40:24.610019Z",
     "iopub.status.busy": "2024-04-30T14:40:24.609497Z",
     "iopub.status.idle": "2024-04-30T14:40:24.641284Z",
     "shell.execute_reply": "2024-04-30T14:40:24.640513Z",
     "shell.execute_reply.started": "2024-04-30T14:40:24.609986Z"
    },
    "tags": []
   },
   "outputs": [],
   "source": [
    "fpps_good = load('../model_features/fpps_good.joblib') \n",
    "mcf7_good = load('../model_features/mcf7_good.joblib') \n",
    "pc3_good = load('../model_features/pc3_good.joblib') \n",
    "\n",
    "def get_descr_value(molecule, descr_func):\n",
    "    out_arr = np.zeros((1,), dtype=int)\n",
    "    descriptor = descr_func(molecule)\n",
    "    if isinstance(descriptor, rdkit.DataStructs.cDataStructs.ExplicitBitVect):\n",
    "        DataStructs.ConvertToNumpyArray(descriptor, out_arr)\n",
    "        return out_arr\n",
    "    return descriptor\n",
    "\n",
    "def All_Mordred_descriptors(data):\n",
    "    calc = Calculator(descriptors, ignore_3D=False)\n",
    "    mols = [Chem.MolFromSmiles(smi) for smi in data]\n",
    "    df = calc.pandas(mols)\n",
    "    return df\n",
    "\n",
    "def RDkit_descriptors(smiles):\n",
    "    mols = [Chem.MolFromSmiles(i) for i in smiles]\n",
    "    calc = MoleculeDescriptors.MolecularDescriptorCalculator([x[0] for x in Descriptors._descList])\n",
    "    desc_names = calc.GetDescriptorNames()\n",
    "\n",
    "    Mol_descriptors = []\n",
    "    for mol in mols:\n",
    "        mol=Chem.AddHs(mol)\n",
    "        descriptors = calc.CalcDescriptors(mol)\n",
    "        Mol_descriptors.append(descriptors)\n",
    "    return Mol_descriptors, desc_names   \n",
    "\n",
    "def get_clust_df(df, good_col):\n",
    "    mols = [Chem.MolFromSmiles(smile) for smile in df['smiles']]\n",
    "    fps = []\n",
    "    col = [f'mor_{i}' for i in range(1024)]\n",
    "    col.extend([f'mac_{i}' for i in range(167)])\n",
    "    df_clust = df.copy()\n",
    "    \n",
    "    # mor+mac\n",
    "    for i in range(len(mols)):\n",
    "        mac = get_descr_value(mols[i], AllChem.GetMACCSKeysFingerprint)\n",
    "        mor = np.array(AllChem.GetMorganFingerprintAsBitVect(mols[i], radius=3, useFeatures=False, nBits=1024))\n",
    "        fps.append(np.concatenate([mor, mac]))\n",
    "    fps = np.array(fps)\n",
    "    \n",
    "    #mordred\n",
    "    mordred_descriptors = All_Mordred_descriptors(df['smiles'])\n",
    "    mordred_descriptors = mordred_descriptors.drop(columns=mordred_descriptors.columns[mordred_descriptors.dtypes == object])\n",
    "    mordred_descriptors = mordred_descriptors.drop(columns=mordred_descriptors.columns[mordred_descriptors.dtypes == bool])\n",
    "    mordred_descriptors = mordred_descriptors.dropna(axis=1)\n",
    "    \n",
    "    #rdkit\n",
    "    Mol_descriptors, desc_names = RDkit_descriptors(df['smiles'])\n",
    "    Mol_descriptors = pd.DataFrame(Mol_descriptors)[good_col]\n",
    "    Mol_descriptors.columns = [f'rdkit_{i}' for i in range(len(Mol_descriptors.columns))]\n",
    "    \n",
    "    df_clust = pd.concat([\n",
    "        df_clust,\n",
    "        pd.DataFrame(columns=col, data=fps)],\n",
    "        axis=1)\n",
    "    df_clust = pd.concat([df_clust, Mol_descriptors, mordred_descriptors], axis=1)\n",
    "    df_clust.columns = [str(col) for col in df_clust.columns]\n",
    "    return df_clust"
   ]
  },
  {
   "cell_type": "code",
   "execution_count": 5,
   "id": "f5bbb164-f058-4abe-bf63-54cc1e2b31f5",
   "metadata": {
    "execution": {
     "iopub.execute_input": "2024-04-30T14:40:24.642800Z",
     "iopub.status.busy": "2024-04-30T14:40:24.642330Z",
     "iopub.status.idle": "2024-04-30T14:40:24.658058Z",
     "shell.execute_reply": "2024-04-30T14:40:24.657303Z",
     "shell.execute_reply.started": "2024-04-30T14:40:24.642766Z"
    },
    "tags": []
   },
   "outputs": [],
   "source": [
    "np.float = np.float64"
   ]
  },
  {
   "cell_type": "markdown",
   "id": "5479cc4d-cdfe-4ab1-8cf1-cd72aacd41fb",
   "metadata": {},
   "source": [
    "## pred"
   ]
  },
  {
   "cell_type": "code",
   "execution_count": 6,
   "id": "639e6b0d-365d-4b45-9668-fabd04fa550a",
   "metadata": {
    "execution": {
     "iopub.execute_input": "2024-04-30T12:58:34.830769Z",
     "iopub.status.busy": "2024-04-30T12:58:34.829995Z",
     "iopub.status.idle": "2024-04-30T12:58:35.409180Z",
     "shell.execute_reply": "2024-04-30T12:58:35.408350Z",
     "shell.execute_reply.started": "2024-04-30T12:58:34.830732Z"
    },
    "tags": []
   },
   "outputs": [],
   "source": [
    "df = pd.read_excel('BF_all.xlsx')\n",
    "df.columns = ['smiles', 'fpps', 'mcf7', 'pc3']"
   ]
  },
  {
   "cell_type": "code",
   "execution_count": 7,
   "id": "a1b73347-277e-4940-90cd-749f7f22f700",
   "metadata": {
    "execution": {
     "iopub.execute_input": "2024-04-30T12:58:35.411028Z",
     "iopub.status.busy": "2024-04-30T12:58:35.410229Z",
     "iopub.status.idle": "2024-04-30T12:58:46.798732Z",
     "shell.execute_reply": "2024-04-30T12:58:46.797923Z",
     "shell.execute_reply.started": "2024-04-30T12:58:35.410992Z"
    },
    "tags": []
   },
   "outputs": [
    {
     "name": "stderr",
     "output_type": "stream",
     "text": [
      "100%|██████████| 111/111 [00:08<00:00, 12.51it/s]\n"
     ]
    }
   ],
   "source": [
    "df_clust = get_clust_df(df[['smiles']], fpps_good)\n",
    "\n",
    "reg = load('../models/fpps_reg.joblib')\n",
    "pre = reg.predict(df_clust[reg.feature_names_in_])\n",
    "df['fpps'] = pre"
   ]
  },
  {
   "cell_type": "code",
   "execution_count": 9,
   "id": "3eb7903e-ee17-4a48-be62-4ef02d1a0056",
   "metadata": {
    "execution": {
     "iopub.execute_input": "2024-04-30T14:41:21.190029Z",
     "iopub.status.busy": "2024-04-30T14:41:21.189557Z",
     "iopub.status.idle": "2024-04-30T14:41:43.868136Z",
     "shell.execute_reply": "2024-04-30T14:41:43.867414Z",
     "shell.execute_reply.started": "2024-04-30T14:41:21.189997Z"
    },
    "tags": []
   },
   "outputs": [
    {
     "name": "stderr",
     "output_type": "stream",
     "text": [
      "100%|██████████| 238/238 [00:17<00:00, 13.61it/s]\n",
      "<ipython-input-9-cfc03857f884>:6: SettingWithCopyWarning: \n",
      "A value is trying to be set on a copy of a slice from a DataFrame.\n",
      "Try using .loc[row_indexer,col_indexer] = value instead\n",
      "\n",
      "See the caveats in the documentation: https://pandas.pydata.org/pandas-docs/stable/user_guide/indexing.html#returning-a-view-versus-a-copy\n",
      "  df['mcf7'] = pre\n"
     ]
    }
   ],
   "source": [
    "df_clust = get_clust_df(df[['smiles']], mcf7_good)\n",
    "df_clust = df_clust[df_clust.drop(columns=['smiles']).columns]\n",
    "\n",
    "reg = load('../models/mcf7_reg.joblib')\n",
    "pre = reg.predict(df_clust)\n",
    "df['mcf7'] = pre"
   ]
  },
  {
   "cell_type": "code",
   "execution_count": 10,
   "id": "b60c0009-fab9-473a-8b2c-50f0b2ed3cc3",
   "metadata": {
    "execution": {
     "iopub.execute_input": "2024-04-30T14:41:43.870Z",
     "iopub.status.busy": "2024-04-30T14:41:43.869524Z",
     "iopub.status.idle": "2024-04-30T14:42:10.835396Z",
     "shell.execute_reply": "2024-04-30T14:42:10.834569Z",
     "shell.execute_reply.started": "2024-04-30T14:41:43.869965Z"
    },
    "tags": []
   },
   "outputs": [
    {
     "name": "stderr",
     "output_type": "stream",
     "text": [
      "100%|██████████| 238/238 [00:17<00:00, 13.61it/s]\n",
      "<ipython-input-10-bd0bff441b98>:5: SettingWithCopyWarning: \n",
      "A value is trying to be set on a copy of a slice from a DataFrame.\n",
      "Try using .loc[row_indexer,col_indexer] = value instead\n",
      "\n",
      "See the caveats in the documentation: https://pandas.pydata.org/pandas-docs/stable/user_guide/indexing.html#returning-a-view-versus-a-copy\n",
      "  df['pc3'] = pre\n"
     ]
    }
   ],
   "source": [
    "df_clust = get_clust_df(df[['smiles']], pc3_good)\n",
    "\n",
    "reg = load('../models/pc3_reg.joblib')\n",
    "pre = reg.predict(df_clust[reg.feature_names_in_])\n",
    "df['pc3'] = pre"
   ]
  },
  {
   "cell_type": "code",
   "execution_count": 18,
   "id": "9bc187dd-6533-428e-a8a8-824b6b8a06e6",
   "metadata": {
    "execution": {
     "iopub.execute_input": "2024-04-30T14:44:31.981605Z",
     "iopub.status.busy": "2024-04-30T14:44:31.980799Z",
     "iopub.status.idle": "2024-04-30T14:44:31.998223Z",
     "shell.execute_reply": "2024-04-30T14:44:31.997509Z",
     "shell.execute_reply.started": "2024-04-30T14:44:31.981560Z"
    },
    "tags": []
   },
   "outputs": [],
   "source": [
    "df = df.sort_values('fpps')\n",
    "df"
   ]
  },
  {
   "cell_type": "code",
   "execution_count": 13,
   "id": "3eeaa389-14bb-475a-86d9-8b831fbedb9a",
   "metadata": {
    "execution": {
     "iopub.execute_input": "2024-04-30T13:00:00.285037Z",
     "iopub.status.busy": "2024-04-30T13:00:00.284227Z",
     "iopub.status.idle": "2024-04-30T13:00:00.395958Z",
     "shell.execute_reply": "2024-04-30T13:00:00.395040Z",
     "shell.execute_reply.started": "2024-04-30T13:00:00.284998Z"
    },
    "tags": []
   },
   "outputs": [],
   "source": [
    "mols = [Chem.MolFromSmiles(i) for i in df['smiles']]\n",
    "df['mol'] = mols\n",
    "PandasTools.SaveXlsxFromFrame(df, '../result_data/predicted.xlsx', molCol='mol', size=(100,100))"
   ]
  }
 ],
 "metadata": {
  "kernelspec": {
   "display_name": "DataSphere Kernel",
   "language": "python",
   "name": "python3"
  },
  "language_info": {
   "codemirror_mode": {
    "name": "ipython",
    "version": 3
   },
   "file_extension": ".py",
   "mimetype": "text/x-python",
   "name": "python",
   "nbconvert_exporter": "python",
   "pygments_lexer": "ipython3",
   "version": "3.10.12"
  }
 },
 "nbformat": 4,
 "nbformat_minor": 5
}
