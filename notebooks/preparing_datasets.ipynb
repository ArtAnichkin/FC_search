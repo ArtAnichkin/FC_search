{
 "cells": [
  {
   "cell_type": "markdown",
   "id": "03a7eb53",
   "metadata": {},
   "source": [
    "## Preparation"
   ]
  },
  {
   "cell_type": "code",
   "execution_count": 8,
   "id": "d1c025db",
   "metadata": {
    "execution": {
     "iopub.execute_input": "2024-06-09T15:24:20.817772Z",
     "iopub.status.busy": "2024-06-09T15:24:20.816981Z",
     "iopub.status.idle": "2024-06-09T15:24:26.319206Z",
     "shell.execute_reply": "2024-06-09T15:24:26.318435Z",
     "shell.execute_reply.started": "2024-06-09T15:24:20.817733Z"
    },
    "scrolled": true,
    "tags": []
   },
   "outputs": [],
   "source": [
    "import os\n",
    "import numpy as np\n",
    "import pandas as pd\n",
    "import matplotlib.pyplot as plt\n",
    "import seaborn as sns\n",
    "\n",
    "import rdkit\n",
    "from rdkit import Chem\n",
    "from rdkit.Chem import Draw\n",
    "from rdkit.Chem import Descriptors\n",
    "from rdkit.ML.Descriptors import MoleculeDescriptors\n",
    "from mordred import Calculator, descriptors\n",
    "\n",
    "import re\n",
    "import phik\n",
    "from umap import UMAP\n",
    "\n",
    "from IPython.display import clear_output"
   ]
  },
  {
   "cell_type": "code",
   "execution_count": 9,
   "id": "8071f231",
   "metadata": {
    "execution": {
     "iopub.execute_input": "2024-06-09T15:24:26.321742Z",
     "iopub.status.busy": "2024-06-09T15:24:26.320642Z",
     "iopub.status.idle": "2024-06-09T15:24:26.341328Z",
     "shell.execute_reply": "2024-06-09T15:24:26.340500Z",
     "shell.execute_reply.started": "2024-06-09T15:24:26.321704Z"
    },
    "tags": []
   },
   "outputs": [],
   "source": [
    "import sklearn\n",
    "from sklearn.preprocessing import QuantileTransformer, MinMaxScaler, StandardScaler, OneHotEncoder\n",
    "from sklearn.decomposition import PCA\n",
    "from sklearn.cluster import KMeans"
   ]
  },
  {
   "cell_type": "code",
   "execution_count": 10,
   "id": "7db13078",
   "metadata": {
    "execution": {
     "iopub.execute_input": "2024-06-09T15:24:26.343496Z",
     "iopub.status.busy": "2024-06-09T15:24:26.342313Z",
     "iopub.status.idle": "2024-06-09T15:24:26.355536Z",
     "shell.execute_reply": "2024-06-09T15:24:26.354882Z",
     "shell.execute_reply.started": "2024-06-09T15:24:26.343458Z"
    },
    "tags": []
   },
   "outputs": [],
   "source": [
    "from rdkit.Chem import AllChem, DataStructs"
   ]
  },
  {
   "cell_type": "code",
   "execution_count": 11,
   "id": "e761341c",
   "metadata": {
    "execution": {
     "iopub.execute_input": "2024-06-09T15:24:26.358471Z",
     "iopub.status.busy": "2024-06-09T15:24:26.357333Z",
     "iopub.status.idle": "2024-06-09T15:24:26.367272Z",
     "shell.execute_reply": "2024-06-09T15:24:26.366637Z",
     "shell.execute_reply.started": "2024-06-09T15:24:26.358434Z"
    },
    "tags": []
   },
   "outputs": [],
   "source": [
    "np.float = np.float64"
   ]
  },
  {
   "cell_type": "markdown",
   "id": "97a788f5",
   "metadata": {
    "tags": []
   },
   "source": [
    "## FPPS"
   ]
  },
  {
   "cell_type": "markdown",
   "id": "de06c283",
   "metadata": {
    "tags": []
   },
   "source": [
    "### Cleaning"
   ]
  },
  {
   "cell_type": "code",
   "execution_count": 12,
   "id": "9b012685",
   "metadata": {
    "execution": {
     "iopub.execute_input": "2024-06-09T15:24:27.618764Z",
     "iopub.status.busy": "2024-06-09T15:24:27.617797Z",
     "iopub.status.idle": "2024-06-09T15:24:27.651711Z",
     "shell.execute_reply": "2024-06-09T15:24:27.650758Z",
     "shell.execute_reply.started": "2024-06-09T15:24:27.618723Z"
    },
    "tags": []
   },
   "outputs": [],
   "source": [
    "df = pd.read_csv('../data/raw_data/fpps.csv', sep=';')\n",
    "df.columns = [col.lower().replace(' ', '_') for col in df.columns]\n",
    "df = df[[\n",
    "    'molecule_chembl_id', 'molecular_weight', 'alogp',\n",
    "    'smiles', 'standard_relation', 'standard_value',\n",
    "    'standard_units', 'data_validity_comment', 'assay_description',\n",
    "    'assay_organism',\n",
    "]]"
   ]
  },
  {
   "cell_type": "code",
   "execution_count": 13,
   "id": "23c93868-ab28-4971-9cb9-cadbc18057f8",
   "metadata": {
    "execution": {
     "iopub.execute_input": "2024-06-09T15:24:27.856558Z",
     "iopub.status.busy": "2024-06-09T15:24:27.855373Z",
     "iopub.status.idle": "2024-06-09T15:24:27.907569Z",
     "shell.execute_reply": "2024-06-09T15:24:27.906652Z",
     "shell.execute_reply.started": "2024-06-09T15:24:27.856513Z"
    },
    "tags": []
   },
   "outputs": [
    {
     "data": {
      "text/html": [
       "<div>\n",
       "<style scoped>\n",
       "    .dataframe tbody tr th:only-of-type {\n",
       "        vertical-align: middle;\n",
       "    }\n",
       "\n",
       "    .dataframe tbody tr th {\n",
       "        vertical-align: top;\n",
       "    }\n",
       "\n",
       "    .dataframe thead th {\n",
       "        text-align: right;\n",
       "    }\n",
       "</style>\n",
       "<table border=\"1\" class=\"dataframe\">\n",
       "  <thead>\n",
       "    <tr style=\"text-align: right;\">\n",
       "      <th></th>\n",
       "      <th>molecule_chembl_id</th>\n",
       "      <th>molecular_weight</th>\n",
       "      <th>alogp</th>\n",
       "      <th>smiles</th>\n",
       "      <th>standard_relation</th>\n",
       "      <th>standard_value</th>\n",
       "      <th>standard_units</th>\n",
       "      <th>data_validity_comment</th>\n",
       "      <th>assay_description</th>\n",
       "      <th>assay_organism</th>\n",
       "    </tr>\n",
       "  </thead>\n",
       "  <tbody>\n",
       "    <tr>\n",
       "      <th>0</th>\n",
       "      <td>CHEMBL323299</td>\n",
       "      <td>286.12</td>\n",
       "      <td>-0.74</td>\n",
       "      <td>Cc1nc(CC(O)(P(=O)(O)O)P(=O)(O)O)c[nH]1</td>\n",
       "      <td>'='</td>\n",
       "      <td>50.82</td>\n",
       "      <td>nM</td>\n",
       "      <td>NaN</td>\n",
       "      <td>Negative logarithm of inhibitory concentration...</td>\n",
       "      <td>Rattus norvegicus</td>\n",
       "    </tr>\n",
       "    <tr>\n",
       "      <th>1</th>\n",
       "      <td>CHEMBL392675</td>\n",
       "      <td>280.18</td>\n",
       "      <td>-1.38</td>\n",
       "      <td>C[S+](C)CCC(O)(P(=O)([O-])O)P(=O)(O)O</td>\n",
       "      <td>'='</td>\n",
       "      <td>10000.00</td>\n",
       "      <td>nM</td>\n",
       "      <td>NaN</td>\n",
       "      <td>Inhibition of human FPPS</td>\n",
       "      <td>Homo sapiens</td>\n",
       "    </tr>\n",
       "    <tr>\n",
       "      <th>2</th>\n",
       "      <td>CHEMBL299717</td>\n",
       "      <td>233.10</td>\n",
       "      <td>-0.38</td>\n",
       "      <td>CCCNC(P(=O)(O)O)P(=O)(O)O</td>\n",
       "      <td>'='</td>\n",
       "      <td>1659.59</td>\n",
       "      <td>nM</td>\n",
       "      <td>NaN</td>\n",
       "      <td>Inhibitory activity against farnesyl Pyrophosp...</td>\n",
       "      <td>Leishmania major</td>\n",
       "    </tr>\n",
       "    <tr>\n",
       "      <th>3</th>\n",
       "      <td>CHEMBL412889</td>\n",
       "      <td>301.22</td>\n",
       "      <td>1.33</td>\n",
       "      <td>O=P(O)(O)C(NC1CCCCCCC1)P(=O)(O)O</td>\n",
       "      <td>'='</td>\n",
       "      <td>2454.71</td>\n",
       "      <td>nM</td>\n",
       "      <td>NaN</td>\n",
       "      <td>Inhibitory activity against farnesyl Pyrophosp...</td>\n",
       "      <td>Leishmania major</td>\n",
       "    </tr>\n",
       "    <tr>\n",
       "      <th>4</th>\n",
       "      <td>CHEMBL55464</td>\n",
       "      <td>367.28</td>\n",
       "      <td>0.99</td>\n",
       "      <td>O=P(O)(O)C(O)(CCNCCCCc1ccccc1)P(=O)(O)O</td>\n",
       "      <td>'='</td>\n",
       "      <td>250.00</td>\n",
       "      <td>nM</td>\n",
       "      <td>NaN</td>\n",
       "      <td>Inhibitory activity against farnesyl Pyrophosp...</td>\n",
       "      <td>Leishmania major</td>\n",
       "    </tr>\n",
       "  </tbody>\n",
       "</table>\n",
       "</div>"
      ],
      "text/plain": [
       "  molecule_chembl_id  ...     assay_organism\n",
       "0       CHEMBL323299  ...  Rattus norvegicus\n",
       "1       CHEMBL392675  ...       Homo sapiens\n",
       "2       CHEMBL299717  ...   Leishmania major\n",
       "3       CHEMBL412889  ...   Leishmania major\n",
       "4        CHEMBL55464  ...   Leishmania major\n",
       "\n",
       "[5 rows x 10 columns]"
      ]
     },
     "execution_count": 13,
     "metadata": {},
     "output_type": "execute_result"
    }
   ],
   "source": [
    "df.head()"
   ]
  },
  {
   "cell_type": "code",
   "execution_count": 14,
   "id": "788baf77",
   "metadata": {
    "execution": {
     "iopub.execute_input": "2024-06-09T15:24:28.212872Z",
     "iopub.status.busy": "2024-06-09T15:24:28.211917Z",
     "iopub.status.idle": "2024-06-09T15:24:28.232891Z",
     "shell.execute_reply": "2024-06-09T15:24:28.232099Z",
     "shell.execute_reply.started": "2024-06-09T15:24:28.212833Z"
    },
    "tags": []
   },
   "outputs": [],
   "source": [
    "df = df[df['assay_organism'] == 'Homo sapiens']\n",
    "df = df[df['data_validity_comment'] != 'Outside typical range']\n",
    "df = df[df['data_validity_comment'] != 'Potential transcription error']\n",
    "df = df[df['standard_units'] == 'nM']"
   ]
  },
  {
   "cell_type": "code",
   "execution_count": 15,
   "id": "0339dacd",
   "metadata": {
    "execution": {
     "iopub.execute_input": "2024-06-09T15:24:28.498389Z",
     "iopub.status.busy": "2024-06-09T15:24:28.497464Z",
     "iopub.status.idle": "2024-06-09T15:24:28.511026Z",
     "shell.execute_reply": "2024-06-09T15:24:28.510267Z",
     "shell.execute_reply.started": "2024-06-09T15:24:28.498353Z"
    },
    "tags": []
   },
   "outputs": [],
   "source": [
    "df = df[df['standard_relation'] == \"'='\"]\n",
    "df = df[['molecular_weight', 'smiles', 'standard_value', 'alogp']]\n",
    "df['standard_value'] = np.log(df['standard_value'])"
   ]
  },
  {
   "cell_type": "code",
   "execution_count": 16,
   "id": "3143f2d1",
   "metadata": {
    "execution": {
     "iopub.execute_input": "2024-06-09T15:24:33.039028Z",
     "iopub.status.busy": "2024-06-09T15:24:33.037916Z",
     "iopub.status.idle": "2024-06-09T15:24:33.070379Z",
     "shell.execute_reply": "2024-06-09T15:24:33.069596Z",
     "shell.execute_reply.started": "2024-06-09T15:24:33.038990Z"
    },
    "tags": []
   },
   "outputs": [],
   "source": [
    "df = df[df['alogp'] != 'None']\n",
    "df['alogp'] = df['alogp'].astype(float)"
   ]
  },
  {
   "cell_type": "code",
   "execution_count": 17,
   "id": "342ca479-bb57-426e-95af-5c837c6492de",
   "metadata": {
    "execution": {
     "iopub.execute_input": "2024-06-09T15:24:35.669385Z",
     "iopub.status.busy": "2024-06-09T15:24:35.668485Z",
     "iopub.status.idle": "2024-06-09T15:24:35.695087Z",
     "shell.execute_reply": "2024-06-09T15:24:35.694292Z",
     "shell.execute_reply.started": "2024-06-09T15:24:35.669352Z"
    },
    "tags": []
   },
   "outputs": [],
   "source": [
    "mean_sv = df.groupby('smiles')['standard_value'].mean()\n",
    "df = df[~df['smiles'].duplicated()]\n",
    "df = df.set_index('smiles')\n",
    "df['standard_value'] = mean_sv\n",
    "\n",
    "df = df.reset_index()"
   ]
  },
  {
   "cell_type": "code",
   "execution_count": 18,
   "id": "d021ba22-c96f-42ac-a176-a86e89dd6b89",
   "metadata": {
    "execution": {
     "iopub.execute_input": "2024-06-09T15:24:35.940834Z",
     "iopub.status.busy": "2024-06-09T15:24:35.939732Z",
     "iopub.status.idle": "2024-06-09T15:24:35.995116Z",
     "shell.execute_reply": "2024-06-09T15:24:35.994373Z",
     "shell.execute_reply.started": "2024-06-09T15:24:35.940797Z"
    },
    "tags": []
   },
   "outputs": [
    {
     "name": "stdout",
     "output_type": "stream",
     "text": [
      "<class 'pandas.core.frame.DataFrame'>\n",
      "RangeIndex: 238 entries, 0 to 237\n",
      "Data columns (total 4 columns):\n",
      " #   Column            Non-Null Count  Dtype  \n",
      "---  ------            --------------  -----  \n",
      " 0   smiles            238 non-null    object \n",
      " 1   molecular_weight  238 non-null    float64\n",
      " 2   standard_value    238 non-null    float64\n",
      " 3   alogp             238 non-null    float64\n",
      "dtypes: float64(3), object(1)\n",
      "memory usage: 7.6+ KB\n"
     ]
    }
   ],
   "source": [
    "df.info()"
   ]
  },
  {
   "cell_type": "code",
   "execution_count": 19,
   "id": "0e3519e2-aa5c-438d-9ce8-1ff62b8a33bc",
   "metadata": {
    "execution": {
     "iopub.execute_input": "2024-06-09T15:24:36.942891Z",
     "iopub.status.busy": "2024-06-09T15:24:36.941121Z",
     "iopub.status.idle": "2024-06-09T15:24:37.025796Z",
     "shell.execute_reply": "2024-06-09T15:24:37.025005Z",
     "shell.execute_reply.started": "2024-06-09T15:24:36.942846Z"
    },
    "tags": []
   },
   "outputs": [
    {
     "data": {
      "image/png": "[encoded data removed]",
      "text/plain": [
       "<ml_kernel._vendor.IPython.core.display.Image object>"
      ]
     },
     "execution_count": 19,
     "metadata": {},
     "output_type": "execute_result"
    }
   ],
   "source": [
    "molecules = [Chem.MolFromSmiles(smiles) for smiles in df['smiles']][:8]\n",
    "Draw.MolsToGridImage(molecules, molsPerRow=4, subImgSize=(250,250))"
   ]
  },
  {
   "cell_type": "code",
   "execution_count": 20,
   "id": "5139193e-0a72-40f2-aa8e-a85d1454ed26",
   "metadata": {
    "execution": {
     "iopub.execute_input": "2024-06-09T15:24:39.724360Z",
     "iopub.status.busy": "2024-06-09T15:24:39.723275Z",
     "iopub.status.idle": "2024-06-09T15:24:40.077448Z",
     "shell.execute_reply": "2024-06-09T15:24:40.076666Z",
     "shell.execute_reply.started": "2024-06-09T15:24:39.724317Z"
    },
    "tags": []
   },
   "outputs": [
    {
     "data": {
      "image/png": "[encoded data removed]",
      "text/plain": [
       "<Figure size 600x400 with 1 Axes>"
      ]
     },
     "metadata": {},
     "output_type": "display_data"
    }
   ],
   "source": [
    "plt.figure(figsize=(6, 4))\n",
    "sns.histplot(data=df, x='standard_value', bins=100)\n",
    "plt.ylabel('Count', size=16)\n",
    "plt.xlabel('$log(IC_{50})$', size=16) \n",
    "plt.title('FPPS $log(IC_{50})$', size=20) \n",
    "  \n",
    "# Display figure \n",
    "plt.show() "
   ]
  },
  {
   "cell_type": "code",
   "execution_count": 21,
   "id": "a8239f3d-0f4d-4bf0-8f8f-5286dc80c328",
   "metadata": {
    "execution": {
     "iopub.execute_input": "2024-06-09T15:24:40.805723Z",
     "iopub.status.busy": "2024-06-09T15:24:40.804694Z",
     "iopub.status.idle": "2024-06-09T15:24:40.825726Z",
     "shell.execute_reply": "2024-06-09T15:24:40.824878Z",
     "shell.execute_reply.started": "2024-06-09T15:24:40.805679Z"
    },
    "tags": []
   },
   "outputs": [],
   "source": [
    "df.to_csv('../data/clean_data/fpps_cl.csv')"
   ]
  },
  {
   "cell_type": "markdown",
   "id": "456020cc",
   "metadata": {
    "tags": []
   },
   "source": [
    "### Descryption"
   ]
  },
  {
   "cell_type": "code",
   "execution_count": 22,
   "id": "8f5f8bd7",
   "metadata": {
    "execution": {
     "iopub.execute_input": "2024-06-09T15:24:42.518508Z",
     "iopub.status.busy": "2024-06-09T15:24:42.517294Z",
     "iopub.status.idle": "2024-06-09T15:24:42.547674Z",
     "shell.execute_reply": "2024-06-09T15:24:42.546975Z",
     "shell.execute_reply.started": "2024-06-09T15:24:42.518464Z"
    },
    "tags": []
   },
   "outputs": [],
   "source": [
    "def get_descr_value(molecule, descr_func):\n",
    "    out_arr = np.zeros((1,), dtype=int)\n",
    "    descriptor = descr_func(molecule)\n",
    "    if isinstance(descriptor, rdkit.DataStructs.cDataStructs.ExplicitBitVect):\n",
    "        DataStructs.ConvertToNumpyArray(descriptor, out_arr)\n",
    "        return out_arr\n",
    "    return descriptor\n",
    "\n",
    "def All_Mordred_descriptors(data):\n",
    "    calc = Calculator(descriptors, ignore_3D=False)\n",
    "    mols = [Chem.MolFromSmiles(smi) for smi in data]\n",
    "    df = calc.pandas(mols)\n",
    "    return df\n",
    "\n",
    "def RDkit_descriptors(smiles):\n",
    "    mols = [Chem.MolFromSmiles(i) for i in smiles]\n",
    "    calc = MoleculeDescriptors.MolecularDescriptorCalculator([x[0] for x in Descriptors._descList])\n",
    "    desc_names = calc.GetDescriptorNames()\n",
    "\n",
    "    Mol_descriptors =[]\n",
    "    for mol in mols:\n",
    "        mol=Chem.AddHs(mol)\n",
    "        descriptors = calc.CalcDescriptors(mol)\n",
    "        Mol_descriptors.append(descriptors)\n",
    "    return Mol_descriptors, desc_names   \n",
    "\n",
    "def get_descr_df(df):\n",
    "    mols = [Chem.MolFromSmiles(smile) for smile in df['smiles']]\n",
    "    fps = []\n",
    "    col = [f'mor_{i}' for i in range(1024)]\n",
    "    col.extend([f'mac_{i}' for i in range(167)])\n",
    "    df_clust = df.copy()\n",
    "    \n",
    "    # mor+mac\n",
    "    for i in range(len(mols)):\n",
    "        mac = get_descr_value(mols[i], AllChem.GetMACCSKeysFingerprint)\n",
    "        mor = np.array(AllChem.GetMorganFingerprintAsBitVect(mols[i], radius=3, useFeatures=False, nBits=1024))\n",
    "        fps.append(np.concatenate([mor, mac]))\n",
    "    fps = np.array(fps)\n",
    "    \n",
    "    #mordred\n",
    "    mordred_descriptors = All_Mordred_descriptors(df['smiles'])\n",
    "    mordred_descriptors = mordred_descriptors.drop(columns=mordred_descriptors.columns[mordred_descriptors.dtypes == object])\n",
    "    mordred_descriptors = mordred_descriptors.drop(columns=mordred_descriptors.columns[mordred_descriptors.dtypes == bool])\n",
    "    mordred_descriptors = mordred_descriptors.dropna(axis=1)\n",
    "    \n",
    "    #rdkit\n",
    "    Mol_descriptors, desc_names = RDkit_descriptors(df['smiles'])\n",
    "    Mol_descriptors = pd.DataFrame(Mol_descriptors).dropna(axis=1)\n",
    "    Mol_descriptors.columns = [f'rdkit_{i}' for i in range(len(Mol_descriptors.columns))]\n",
    "    \n",
    "    df_clust = pd.concat([\n",
    "        df_clust,\n",
    "        pd.DataFrame(columns=col, data=fps)],\n",
    "        axis=1)\n",
    "    df_clust = pd.concat([df_clust, Mol_descriptors, mordred_descriptors], axis=1)\n",
    "    df_clust.columns = [str(col) for col in df_clust.columns]\n",
    "    \n",
    "    df_clust = df_clust.drop(columns=['molecular_weight', 'alogp'])\n",
    "    return df_clust"
   ]
  },
  {
   "cell_type": "code",
   "execution_count": 23,
   "id": "77d9f568",
   "metadata": {
    "execution": {
     "iopub.execute_input": "2024-06-09T15:24:43.455093Z",
     "iopub.status.busy": "2024-06-09T15:24:43.454318Z",
     "iopub.status.idle": "2024-06-09T15:25:06.488014Z",
     "shell.execute_reply": "2024-06-09T15:25:06.487106Z",
     "shell.execute_reply.started": "2024-06-09T15:24:43.455054Z"
    },
    "tags": []
   },
   "outputs": [
    {
     "name": "stderr",
     "output_type": "stream",
     "text": [
      "100%|██████████| 238/238 [00:17<00:00, 13.24it/s]\n"
     ]
    }
   ],
   "source": [
    "df_descr = get_descr_df(df)"
   ]
  },
  {
   "cell_type": "code",
   "execution_count": 24,
   "id": "99f661bb",
   "metadata": {
    "execution": {
     "iopub.execute_input": "2024-06-09T15:25:06.490716Z",
     "iopub.status.busy": "2024-06-09T15:25:06.489577Z",
     "iopub.status.idle": "2024-06-09T15:25:06.809628Z",
     "shell.execute_reply": "2024-06-09T15:25:06.808766Z",
     "shell.execute_reply.started": "2024-06-09T15:25:06.490678Z"
    },
    "tags": []
   },
   "outputs": [],
   "source": [
    "df_descr.to_csv('../data/desc_data/fpps_desc.csv', index=False)"
   ]
  },
  {
   "cell_type": "markdown",
   "id": "013025bc-aa4b-4cbe-9b73-68777627f444",
   "metadata": {
    "tags": []
   },
   "source": [
    "### Checking charge"
   ]
  },
  {
   "cell_type": "code",
   "execution_count": 25,
   "id": "a4b612c5-9146-47ac-802a-10d8d2a2d9cc",
   "metadata": {
    "execution": {
     "iopub.execute_input": "2024-06-09T15:25:06.811470Z",
     "iopub.status.busy": "2024-06-09T15:25:06.810663Z",
     "iopub.status.idle": "2024-06-09T15:25:07.097626Z",
     "shell.execute_reply": "2024-06-09T15:25:07.096631Z",
     "shell.execute_reply.started": "2024-06-09T15:25:06.811433Z"
    },
    "tags": []
   },
   "outputs": [],
   "source": [
    "from rdkit import Chem\n",
    "import ase\n",
    "from ase import Atoms\n",
    "from ase.optimize import BFGS\n",
    "from ase.calculators.nwchem import NWChem\n",
    "from ase.io import write\n",
    "from xtb.ase.calculator import XTB\n",
    "\n",
    "from tqdm.autonotebook import tqdm"
   ]
  },
  {
   "cell_type": "code",
   "execution_count": 26,
   "id": "64a859cc-90ea-459f-aa62-22f09b67617c",
   "metadata": {
    "execution": {
     "iopub.execute_input": "2024-06-09T15:25:07.124143Z",
     "iopub.status.busy": "2024-06-09T15:25:07.111003Z",
     "iopub.status.idle": "2024-06-09T15:25:07.145205Z",
     "shell.execute_reply": "2024-06-09T15:25:07.143710Z",
     "shell.execute_reply.started": "2024-06-09T15:25:07.124096Z"
    },
    "tags": []
   },
   "outputs": [],
   "source": [
    "df = pd.read_csv('../data/clean_data/fpps_cl.csv')"
   ]
  },
  {
   "cell_type": "code",
   "execution_count": 27,
   "id": "9e1d101f-5585-4e86-8633-5a7341078a15",
   "metadata": {
    "execution": {
     "iopub.execute_input": "2024-06-09T15:25:42.359438Z",
     "iopub.status.busy": "2024-06-09T15:25:42.358365Z",
     "iopub.status.idle": "2024-06-09T15:25:42.373280Z",
     "shell.execute_reply": "2024-06-09T15:25:42.372458Z",
     "shell.execute_reply.started": "2024-06-09T15:25:42.359395Z"
    },
    "tags": []
   },
   "outputs": [],
   "source": [
    "def get_charges(smiles):\n",
    "    try:\n",
    "        mol = Chem.MolFromSmiles(smiles)\n",
    "        mol = Chem.AddHs(mol)\n",
    "        AllChem.EmbedMolecule(mol)\n",
    "        AllChem.UFFOptimizeMolecule(mol)\n",
    "        atoms = []\n",
    "        positions = []\n",
    "        for i, atom in enumerate(mol.GetAtoms()):\n",
    "            pos = mol.GetConformer().GetAtomPosition(i)\n",
    "            atoms.append(atom.GetAtomicNum())\n",
    "            positions.append([pos.x, pos.y, pos.z])\n",
    "\n",
    "        mol_calc = Atoms(numbers=atoms, positions=positions)\n",
    "        mol_calc.calc = XTB(method=\"GFN2-xTB\")\n",
    "        opt = BFGS(mol_calc)\n",
    "        opt.run(fmax=0.05)\n",
    "        mol.charges = mol_calc.get_charges()\n",
    "        mol.charges_g = True\n",
    "    except:\n",
    "        mol.charges_g = False\n",
    "        return mol\n",
    "    return mol"
   ]
  },
  {
   "cell_type": "code",
   "execution_count": 28,
   "id": "91b36442-d06a-43e0-9d0d-cc8be56a749c",
   "metadata": {
    "collapsed": true,
    "jupyter": {
     "outputs_hidden": true
    },
    "tags": []
   },
   "outputs": [
    {
     "name": "stdout",
     "output_type": "stream",
     "text": [
      "BFGS:    4 17:52:18    -2601.170393        0.5773\n",
      "BFGS:    5 17:52:18    -2601.229721        0.4582\n",
      "BFGS:    6 17:52:19    -2601.300078        0.4859\n",
      "BFGS:    7 17:52:20    -2601.340819        0.4234\n",
      "BFGS:    8 17:52:20    -2601.374138        0.3405\n",
      "BFGS:    9 17:52:21    -2601.403043        0.3410\n",
      "BFGS:   10 17:52:22    -2601.433203        0.2868\n",
      "BFGS:   11 17:52:23    -2601.459268        0.2491\n",
      "BFGS:   12 17:52:23    -2601.477402        0.2465\n",
      "BFGS:   13 17:52:24    -2601.489906        0.2202\n",
      "BFGS:   14 17:52:25    -2601.501743        0.1979\n",
      "BFGS:   15 17:52:25    -2601.513928        0.1958\n",
      "BFGS:   16 17:52:26    -2601.524745        0.1485\n",
      "BFGS:   17 17:52:27    -2601.533767        0.1401\n",
      "BFGS:   18 17:52:27    -2601.541921        0.1386\n",
      "BFGS:   19 17:52:28    -2601.549783        0.1419\n",
      "BFGS:   20 17:52:28    -2601.557005        0.1311\n",
      "BFGS:   21 17:52:29    -2601.563576        0.1250\n",
      "BFGS:   22 17:52:30    -2601.569819        0.1345\n",
      "BFGS:   23 17:52:30    -2601.575896        0.1532\n",
      "BFGS:   24 17:52:31    -2601.581030        0.1516\n",
      "BFGS:   25 17:52:32    -2601.585111        0.1266\n",
      "BFGS:   26 17:52:32    -2601.588305        0.1025\n",
      "BFGS:   27 17:52:33    -2601.591188        0.1022\n",
      "BFGS:   28 17:52:33    -2601.593279        0.1072\n",
      "BFGS:   29 17:52:34    -2601.595028        0.0906\n",
      "BFGS:   30 17:52:35    -2601.596703        0.0840\n",
      "BFGS:   31 17:52:35    -2601.598462        0.0735\n",
      "BFGS:   32 17:52:36    -2601.600090        0.0762\n",
      "BFGS:   33 17:52:37    -2601.601433        0.0688\n",
      "BFGS:   34 17:52:37    -2601.602558        0.0558\n",
      "BFGS:   35 17:52:38    -2601.603628        0.0623\n",
      "BFGS:   36 17:52:38    -2601.604706        0.0568\n",
      "BFGS:   37 17:52:39    -2601.605778        0.0622\n",
      "BFGS:   38 17:52:40    -2601.606807        0.0663\n",
      "BFGS:   39 17:52:40    -2601.607742        0.0593\n",
      "BFGS:   40 17:52:41    -2601.608544        0.0387\n"
     ]
    },
    {
     "name": "stderr",
     "output_type": "stream",
     "text": [
      " 81%|████████  | 193/238 [2:26:57<29:23, 39.19s/it]"
     ]
    },
    {
     "name": "stdout",
     "output_type": "stream",
     "text": [
      "      Step     Time          Energy         fmax\n",
      "BFGS:    0 17:52:42    -1913.908697        2.1132\n",
      "BFGS:    1 17:52:43    -1914.193470        1.2340\n",
      "BFGS:    2 17:52:43    -1914.376712        0.9355\n",
      "BFGS:    3 17:52:44    -1914.514303        0.5155\n",
      "BFGS:    4 17:52:44    -1914.598326        0.3450\n",
      "BFGS:    5 17:52:45    -1914.644689        0.4142\n",
      "BFGS:    6 17:52:46    -1914.683156        0.4489\n",
      "BFGS:    7 17:52:46    -1914.713156        0.3951\n",
      "BFGS:    8 17:52:47    -1914.737285        0.3119\n",
      "BFGS:    9 17:52:47    -1914.757403        0.2261\n",
      "BFGS:   10 17:52:48    -1914.774884        0.2035\n",
      "BFGS:   11 17:52:48    -1914.789187        0.2074\n",
      "BFGS:   12 17:52:49    -1914.800543        0.2026\n",
      "BFGS:   13 17:52:50    -1914.809908        0.1836\n",
      "BFGS:   14 17:52:50    -1914.818438        0.1728\n",
      "BFGS:   15 17:52:51    -1914.826117        0.1503\n",
      "BFGS:   16 17:52:51    -1914.832774        0.1344\n",
      "BFGS:   17 17:52:52    -1914.838704        0.1325\n",
      "BFGS:   18 17:52:52    -1914.844152        0.1331\n",
      "BFGS:   19 17:52:53    -1914.849051        0.1259\n",
      "BFGS:   20 17:52:53    -1914.853505        0.1109\n",
      "BFGS:   21 17:52:54    -1914.858074        0.1217\n",
      "BFGS:   22 17:52:54    -1914.862971        0.1358\n",
      "BFGS:   23 17:52:55    -1914.867770        0.1290\n",
      "BFGS:   24 17:52:56    -1914.871679        0.1323\n",
      "BFGS:   25 17:52:56    -1914.874592        0.1101\n",
      "BFGS:   26 17:52:57    -1914.876801        0.0798\n",
      "BFGS:   27 17:52:57    -1914.878470        0.0820\n",
      "BFGS:   28 17:52:58    -1914.879654        0.0995\n",
      "BFGS:   29 17:52:58    -1914.880640        0.0920\n",
      "BFGS:   30 17:52:59    -1914.881704        0.0595\n",
      "BFGS:   31 17:52:59    -1914.883293        0.0570\n",
      "BFGS:   32 17:53:00    -1914.884215        0.0626\n",
      "BFGS:   33 17:53:00    -1914.885163        0.0616\n",
      "BFGS:   34 17:53:01    -1914.885827        0.0543\n",
      "BFGS:   35 17:53:01    -1914.886528        0.0438\n"
     ]
    },
    {
     "name": "stderr",
     "output_type": "stream",
     "text": [
      " 82%|████████▏ | 194/238 [2:27:17<24:38, 33.61s/it]"
     ]
    },
    {
     "name": "stdout",
     "output_type": "stream",
     "text": [
      "      Step     Time          Energy         fmax\n",
      "BFGS:    0 17:53:02    -1969.851565        4.3975\n",
      "BFGS:    1 17:53:03    -1970.216388        4.6371\n",
      "BFGS:    2 17:53:04    -1970.474294        1.0843\n",
      "BFGS:    3 17:53:05    -1970.654189        1.0310\n",
      "BFGS:    4 17:53:05    -1970.798890        1.0205\n",
      "BFGS:    5 17:53:06    -1970.844774        0.4228\n",
      "BFGS:    6 17:53:06    -1970.884997        0.4376\n",
      "BFGS:    7 17:53:07    -1970.912058        0.4612\n",
      "BFGS:    8 17:53:08    -1970.938394        0.3077\n",
      "BFGS:    9 17:53:08    -1970.957040        0.2305\n",
      "BFGS:   10 17:53:09    -1970.973009        0.2459\n",
      "BFGS:   11 17:53:09    -1970.984950        0.2567\n",
      "BFGS:   12 17:53:10    -1970.993806        0.1518\n",
      "BFGS:   13 17:53:10    -1971.000345        0.1361\n",
      "BFGS:   14 17:53:11    -1971.005549        0.1489\n",
      "BFGS:   15 17:53:12    -1971.009965        0.1304\n",
      "BFGS:   16 17:53:12    -1971.013985        0.1256\n",
      "BFGS:   17 17:53:13    -1971.018051        0.1196\n",
      "BFGS:   18 17:53:13    -1971.022068        0.1683\n",
      "BFGS:   19 17:53:14    -1971.025643        0.1604\n",
      "BFGS:   20 17:53:14    -1971.028651        0.1052\n",
      "BFGS:   21 17:53:15    -1971.031350        0.0949\n",
      "BFGS:   22 17:53:15    -1971.033944        0.0954\n",
      "BFGS:   23 17:53:16    -1971.036458        0.1146\n",
      "BFGS:   24 17:53:16    -1971.038835        0.1002\n",
      "BFGS:   25 17:53:17    -1971.041039        0.0834\n",
      "BFGS:   26 17:53:17    -1971.042764        0.0947\n",
      "BFGS:   27 17:53:18    -1971.043980        0.0913\n",
      "BFGS:   28 17:53:18    -1971.044883        0.0570\n",
      "BFGS:   29 17:53:19    -1971.045816        0.0675\n",
      "BFGS:   30 17:53:19    -1971.046709        0.0631\n",
      "BFGS:   31 17:53:20    -1971.047558        0.0497\n"
     ]
    },
    {
     "name": "stderr",
     "output_type": "stream",
     "text": [
      " 82%|████████▏ | 195/238 [2:27:36<20:50, 29.08s/it]"
     ]
    },
    {
     "name": "stdout",
     "output_type": "stream",
     "text": [
      "      Step     Time          Energy         fmax\n",
      "BFGS:    0 17:53:21    -2485.171387        3.8709\n",
      "BFGS:    1 17:53:22    -2485.956441        2.7281\n",
      "BFGS:    2 17:53:23    -2486.320922        1.2589\n",
      "BFGS:    3 17:53:24    -2486.516762        1.2819\n",
      "BFGS:    4 17:53:24    -2486.603942        1.0049\n",
      "BFGS:    5 17:53:25    -2486.659124        0.4405\n",
      "BFGS:    6 17:53:26    -2486.687229        0.4409\n",
      "BFGS:    7 17:53:26    -2486.716627        0.4550\n",
      "BFGS:    8 17:53:27    -2486.739602        0.3876\n",
      "BFGS:    9 17:53:28    -2486.767137        0.3805\n",
      "BFGS:   10 17:53:28    -2486.802663        0.5822\n",
      "BFGS:   11 17:53:29    -2486.844515        0.5560\n",
      "BFGS:   12 17:53:30    -2486.881732        0.4800\n",
      "BFGS:   13 17:53:31    -2486.910816        0.3925\n",
      "BFGS:   14 17:53:32    -2486.938209        0.3796\n",
      "BFGS:   15 17:53:32    -2486.977245        0.5852\n",
      "BFGS:   16 17:53:33    -2487.021763        0.6173\n",
      "BFGS:   17 17:53:34    -2487.056584        0.6849\n",
      "BFGS:   18 17:53:34    -2487.081689        0.7341\n",
      "BFGS:   19 17:53:35    -2487.108095        0.3345\n",
      "BFGS:   20 17:53:36    -2487.120218        0.2444\n",
      "BFGS:   21 17:53:37    -2487.141044        0.2365\n",
      "BFGS:   22 17:53:37    -2487.154662        0.2670\n",
      "BFGS:   23 17:53:38    -2487.169692        0.2093\n",
      "BFGS:   24 17:53:39    -2487.181034        0.1824\n",
      "BFGS:   25 17:53:39    -2487.189342        0.1398\n",
      "BFGS:   26 17:53:40    -2487.194570        0.1300\n",
      "BFGS:   27 17:53:41    -2487.199484        0.1092\n",
      "BFGS:   28 17:53:41    -2487.204172        0.1170\n",
      "BFGS:   29 17:53:42    -2487.208517        0.1020\n",
      "BFGS:   30 17:53:43    -2487.212206        0.1148\n",
      "BFGS:   31 17:53:43    -2487.215575        0.1014\n",
      "BFGS:   32 17:53:44    -2487.219072        0.0959\n",
      "BFGS:   33 17:53:45    -2487.222871        0.0977\n",
      "BFGS:   34 17:53:45    -2487.226646        0.1111\n",
      "BFGS:   35 17:53:46    -2487.230103        0.1044\n",
      "BFGS:   36 17:53:46    -2487.233181        0.0824\n",
      "BFGS:   37 17:53:47    -2487.236001        0.0964\n",
      "BFGS:   38 17:53:48    -2487.238701        0.0844\n",
      "BFGS:   39 17:53:48    -2487.241470        0.0788\n",
      "BFGS:   40 17:53:49    -2487.244546        0.0994\n",
      "BFGS:   41 17:53:49    -2487.247955        0.0990\n",
      "BFGS:   42 17:53:50    -2487.251325        0.1021\n",
      "BFGS:   43 17:53:51    -2487.254091        0.0898\n",
      "BFGS:   44 17:53:51    -2487.256222        0.0647\n",
      "BFGS:   45 17:53:52    -2487.257965        0.1167\n",
      "BFGS:   46 17:53:53    -2487.259805        0.1122\n",
      "BFGS:   47 17:53:53    -2487.261632        0.0941\n",
      "BFGS:   48 17:53:54    -2487.263836        0.0660\n",
      "BFGS:   49 17:53:55    -2487.265169        0.0705\n",
      "BFGS:   50 17:53:55    -2487.267581        0.0844\n",
      "BFGS:   51 17:53:56    -2487.269492        0.0786\n",
      "BFGS:   52 17:53:56    -2487.271079        0.0705\n",
      "BFGS:   53 17:53:57    -2487.272372        0.0647\n",
      "BFGS:   54 17:53:57    -2487.273687        0.0565\n",
      "BFGS:   55 17:53:58    -2487.274954        0.0593\n",
      "BFGS:   56 17:53:59    -2487.275985        0.0533\n",
      "BFGS:   57 17:53:59    -2487.276875        0.0516\n",
      "BFGS:   58 17:54:00    -2487.277728        0.0528\n",
      "BFGS:   59 17:54:00    -2487.278531        0.0517\n",
      "BFGS:   60 17:54:01    -2487.279252        0.0440\n"
     ]
    },
    {
     "name": "stderr",
     "output_type": "stream",
     "text": [
      " 83%|████████▎ | 198/238 [2:28:17<10:42, 16.06s/it]"
     ]
    },
    {
     "name": "stdout",
     "output_type": "stream",
     "text": [
      "      Step     Time          Energy         fmax\n",
      "BFGS:    0 17:54:02    -2242.316625        4.1115\n",
      "BFGS:    1 17:54:03    -2242.760930        4.9669\n",
      "BFGS:    2 17:54:04    -2243.133899        1.1866\n",
      "BFGS:    3 17:54:04    -2243.313295        0.9706\n",
      "BFGS:    4 17:54:05    -2243.461477        0.9493\n",
      "BFGS:    5 17:54:06    -2243.541291        0.7251\n",
      "BFGS:    6 17:54:06    -2243.617869        0.6023\n",
      "BFGS:    7 17:54:07    -2243.656311        1.0012\n",
      "BFGS:    8 17:54:08    -2243.694849        0.5784\n",
      "BFGS:    9 17:54:08    -2243.732720        0.3813\n",
      "BFGS:   10 17:54:09    -2243.770519        0.4064\n",
      "BFGS:   11 17:54:10    -2243.796134        0.3665\n",
      "BFGS:   12 17:54:10    -2243.820083        0.3417\n",
      "BFGS:   13 17:54:11    -2243.840524        0.3758\n",
      "BFGS:   14 17:54:11    -2243.859347        0.3062\n",
      "BFGS:   15 17:54:12    -2243.875653        0.2423\n",
      "BFGS:   16 17:54:13    -2243.889581        0.2397\n",
      "BFGS:   17 17:54:13    -2243.901366        0.2514\n",
      "BFGS:   18 17:54:14    -2243.912297        0.2245\n",
      "BFGS:   19 17:54:15    -2243.922080        0.1859\n",
      "BFGS:   20 17:54:15    -2243.930605        0.1997\n",
      "BFGS:   21 17:54:16    -2243.938104        0.1785\n",
      "BFGS:   22 17:54:17    -2243.945380        0.1664\n",
      "BFGS:   23 17:54:17    -2243.952496        0.1663\n",
      "BFGS:   24 17:54:18    -2243.958929        0.1527\n",
      "BFGS:   25 17:54:18    -2243.964122        0.1192\n",
      "BFGS:   26 17:54:19    -2243.967992        0.1176\n",
      "BFGS:   27 17:54:20    -2243.970877        0.0815\n",
      "BFGS:   28 17:54:20    -2243.973041        0.1006\n",
      "BFGS:   29 17:54:21    -2243.974792        0.0882\n",
      "BFGS:   30 17:54:21    -2243.976424        0.0875\n",
      "BFGS:   31 17:54:22    -2243.978187        0.0798\n",
      "BFGS:   32 17:54:22    -2243.979999        0.0724\n",
      "BFGS:   33 17:54:23    -2243.981644        0.0652\n",
      "BFGS:   34 17:54:23    -2243.982982        0.0727\n",
      "BFGS:   35 17:54:24    -2243.984182        0.0625\n",
      "BFGS:   36 17:54:25    -2243.985485        0.0729\n",
      "BFGS:   37 17:54:25    -2243.986953        0.0680\n",
      "BFGS:   38 17:54:26    -2243.988374        0.0720\n",
      "BFGS:   39 17:54:26    -2243.989550        0.0501\n",
      "BFGS:   40 17:54:27    -2243.990593        0.0504\n",
      "BFGS:   41 17:54:27    -2243.991657        0.0579\n",
      "BFGS:   42 17:54:28    -2243.992815        0.0742\n",
      "BFGS:   43 17:54:29    -2243.993894        0.0649\n",
      "BFGS:   44 17:54:29    -2243.994782        0.0520\n",
      "BFGS:   45 17:54:30    -2243.995542        0.0567\n",
      "BFGS:   46 17:54:30    -2243.996311        0.0538\n",
      "BFGS:   47 17:54:31    -2243.997109        0.0484\n"
     ]
    },
    {
     "name": "stderr",
     "output_type": "stream",
     "text": [
      " 84%|████████▍ | 200/238 [2:28:47<08:58, 14.18s/it]"
     ]
    },
    {
     "name": "stdout",
     "output_type": "stream",
     "text": [
      "      Step     Time          Energy         fmax\n",
      "BFGS:    0 17:54:32    -2004.577165        4.8828\n",
      "BFGS:    1 17:54:33    -2005.399076        4.2008\n",
      "BFGS:    2 17:54:34    -2005.823819        1.3192\n",
      "BFGS:    3 17:54:34    -2006.097865        1.9354\n",
      "BFGS:    4 17:54:35    -2006.245023        1.2903\n",
      "BFGS:    5 17:54:36    -2006.317754        0.5508\n",
      "BFGS:    6 17:54:36    -2006.365656        0.7878\n",
      "BFGS:    7 17:54:37    -2006.422693        0.9188\n",
      "BFGS:    8 17:54:37    -2006.469690        0.7231\n",
      "BFGS:    9 17:54:38    -2006.507729        0.3764\n",
      "BFGS:   10 17:54:39    -2006.537564        0.3818\n",
      "BFGS:   11 17:54:39    -2006.558609        0.3722\n",
      "BFGS:   12 17:54:40    -2006.572277        0.2735\n",
      "BFGS:   13 17:54:40    -2006.583536        0.2734\n",
      "BFGS:   14 17:54:41    -2006.597372        0.3240\n",
      "BFGS:   15 17:54:41    -2006.614684        0.3759\n",
      "BFGS:   16 17:54:42    -2006.634777        0.3321\n",
      "BFGS:   17 17:54:43    -2006.656079        0.3287\n",
      "BFGS:   18 17:54:43    -2006.678586        0.4046\n",
      "BFGS:   19 17:54:44    -2006.704736        0.4267\n",
      "BFGS:   20 17:54:45    -2006.729693        0.4820\n",
      "BFGS:   21 17:54:45    -2006.743297        0.8339\n",
      "BFGS:   22 17:54:46    -2006.769422        0.4625\n",
      "BFGS:   23 17:54:46    -2006.787370        0.3907\n",
      "BFGS:   24 17:54:47    -2006.801179        0.2027\n",
      "BFGS:   25 17:54:48    -2006.818780        0.2999\n",
      "BFGS:   26 17:54:48    -2006.827838        0.2241\n",
      "BFGS:   27 17:54:49    -2006.838419        0.1483\n",
      "BFGS:   28 17:54:49    -2006.844596        0.2328\n",
      "BFGS:   29 17:54:50    -2006.850519        0.2055\n",
      "BFGS:   30 17:54:50    -2006.857115        0.1674\n",
      "BFGS:   31 17:54:51    -2006.863605        0.1372\n",
      "BFGS:   32 17:54:52    -2006.868331        0.1198\n",
      "BFGS:   33 17:54:52    -2006.873602        0.1498\n",
      "BFGS:   34 17:54:53    -2006.879361        0.1482\n",
      "BFGS:   35 17:54:53    -2006.884320        0.1271\n",
      "BFGS:   36 17:54:54    -2006.888373        0.1474\n",
      "BFGS:   37 17:54:55    -2006.892218        0.1455\n",
      "BFGS:   38 17:54:55    -2006.897067        0.1766\n",
      "BFGS:   39 17:54:56    -2006.902980        0.1439\n",
      "BFGS:   40 17:54:56    -2006.908872        0.1262\n",
      "BFGS:   41 17:54:57    -2006.912797        0.1360\n",
      "BFGS:   42 17:54:57    -2006.917645        0.1635\n",
      "BFGS:   43 17:54:58    -2006.922855        0.1674\n",
      "BFGS:   44 17:54:58    -2006.928401        0.1523\n",
      "BFGS:   45 17:54:59    -2006.932453        0.2048\n",
      "BFGS:   46 17:55:00    -2006.936292        0.1872\n",
      "BFGS:   47 17:55:00    -2006.939382        0.1217\n",
      "BFGS:   48 17:55:01    -2006.943505        0.1307\n",
      "BFGS:   49 17:55:01    -2006.946006        0.1231\n",
      "BFGS:   50 17:55:02    -2006.947889        0.0890\n",
      "BFGS:   51 17:55:03    -2006.949374        0.0774\n",
      "BFGS:   52 17:55:03    -2006.951074        0.0907\n",
      "BFGS:   53 17:55:04    -2006.952655        0.0778\n",
      "BFGS:   54 17:55:04    -2006.954145        0.0856\n",
      "BFGS:   55 17:55:05    -2006.955544        0.0810\n",
      "BFGS:   56 17:55:05    -2006.957034        0.0783\n",
      "BFGS:   57 17:55:06    -2006.958368        0.1044\n",
      "BFGS:   58 17:55:06    -2006.960163        0.0919\n",
      "BFGS:   59 17:55:07    -2006.962766        0.1254\n",
      "BFGS:   60 17:55:08    -2006.966364        0.1298\n",
      "BFGS:   61 17:55:08    -2006.970105        0.1240\n",
      "BFGS:   62 17:55:09    -2006.973017        0.1375\n",
      "BFGS:   63 17:55:09    -2006.974954        0.1292\n",
      "BFGS:   64 17:55:10    -2006.976491        0.1377\n",
      "BFGS:   65 17:55:10    -2006.978549        0.1504\n",
      "BFGS:   66 17:55:11    -2006.982304        0.1784\n",
      "BFGS:   67 17:55:12    -2006.986193        0.1774\n",
      "BFGS:   68 17:55:12    -2006.990922        0.2425\n",
      "BFGS:   69 17:55:13    -2006.995747        0.2265\n",
      "BFGS:   70 17:55:13    -2006.997307        0.5030\n",
      "BFGS:   71 17:55:14    -2007.002827        0.0776\n",
      "BFGS:   72 17:55:15    -2007.004494        0.0761\n",
      "BFGS:   73 17:55:15    -2007.008251        0.1709\n",
      "BFGS:   74 17:55:16    -2007.009833        0.0746\n",
      "BFGS:   75 17:55:16    -2007.012285        0.0733\n",
      "BFGS:   76 17:55:17    -2007.013880        0.0986\n",
      "BFGS:   77 17:55:18    -2007.015663        0.1189\n",
      "BFGS:   78 17:55:18    -2007.017487        0.1193\n",
      "BFGS:   79 17:55:19    -2007.018981        0.1525\n",
      "BFGS:   80 17:55:19    -2007.020789        0.1028\n",
      "BFGS:   81 17:55:20    -2007.022276        0.0965\n",
      "BFGS:   82 17:55:20    -2007.023948        0.1006\n",
      "BFGS:   83 17:55:21    -2007.025774        0.0914\n",
      "BFGS:   84 17:55:22    -2007.027279        0.0896\n",
      "BFGS:   85 17:55:22    -2007.028287        0.0709\n",
      "BFGS:   86 17:55:23    -2007.028963        0.0745\n",
      "BFGS:   87 17:55:23    -2007.029464        0.0392\n"
     ]
    },
    {
     "name": "stderr",
     "output_type": "stream",
     "text": [
      " 84%|████████▍ | 201/238 [2:29:39<15:46, 25.59s/it]"
     ]
    },
    {
     "name": "stdout",
     "output_type": "stream",
     "text": [
      "      Step     Time          Energy         fmax\n",
      "BFGS:    0 17:55:24    -1665.556499        5.1162\n",
      "BFGS:    1 17:55:25    -1666.496750        4.2463\n",
      "BFGS:    2 17:55:26    -1666.940554        1.4649\n",
      "BFGS:    3 17:55:26    -1667.195957        1.4289\n",
      "BFGS:    4 17:55:27    -1667.333019        1.1303\n",
      "BFGS:    5 17:55:28    -1667.391273        0.5032\n",
      "BFGS:    6 17:55:28    -1667.426222        0.4618\n",
      "BFGS:    7 17:55:29    -1667.463310        0.6741\n",
      "BFGS:    8 17:55:30    -1667.498238        0.5488\n",
      "BFGS:    9 17:55:30    -1667.531230        0.6450\n",
      "BFGS:   10 17:55:31    -1667.574057        0.6592\n",
      "BFGS:   11 17:55:32    -1667.627767        0.7968\n",
      "BFGS:   12 17:55:32    -1667.681207        0.6785\n",
      "BFGS:   13 17:55:33    -1667.730241        0.5653\n",
      "BFGS:   14 17:55:33    -1667.774574        0.5112\n",
      "BFGS:   15 17:55:34    -1667.812067        0.4940\n",
      "BFGS:   16 17:55:35    -1667.838890        0.3888\n",
      "BFGS:   17 17:55:35    -1667.858641        0.3761\n",
      "BFGS:   18 17:55:36    -1667.872282        0.5270\n",
      "BFGS:   19 17:55:36    -1667.894294        0.4227\n",
      "BFGS:   20 17:55:37    -1667.917765        0.2383\n",
      "BFGS:   21 17:55:38    -1667.929056        0.1860\n",
      "BFGS:   22 17:55:38    -1667.933905        0.1772\n",
      "BFGS:   23 17:55:39    -1667.940342        0.2040\n",
      "BFGS:   24 17:55:39    -1667.946053        0.1641\n",
      "BFGS:   25 17:55:40    -1667.950903        0.1569\n",
      "BFGS:   26 17:55:40    -1667.954793        0.1321\n",
      "BFGS:   27 17:55:41    -1667.957804        0.1639\n",
      "BFGS:   28 17:55:42    -1667.960472        0.1614\n",
      "BFGS:   29 17:55:42    -1667.962194        0.1007\n",
      "BFGS:   30 17:55:43    -1667.963533        0.0809\n",
      "BFGS:   31 17:55:43    -1667.964392        0.0736\n",
      "BFGS:   32 17:55:44    -1667.965702        0.0660\n",
      "BFGS:   33 17:55:44    -1667.966479        0.0595\n",
      "BFGS:   34 17:55:45    -1667.967147        0.0482\n"
     ]
    },
    {
     "name": "stderr",
     "output_type": "stream",
     "text": [
      " 85%|████████▍ | 202/238 [2:30:00<14:34, 24.29s/it]"
     ]
    },
    {
     "name": "stdout",
     "output_type": "stream",
     "text": [
      "      Step     Time          Energy         fmax\n",
      "BFGS:    0 17:55:45    -2070.727724        5.0909\n",
      "BFGS:    1 17:55:46    -2071.727572        4.3297\n",
      "BFGS:    2 17:55:47    -2072.178636        1.4614\n",
      "BFGS:    3 17:55:48    -2072.420990        1.5093\n",
      "BFGS:    4 17:55:49    -2072.593309        0.9419\n",
      "BFGS:    5 17:55:49    -2072.663409        0.5097\n",
      "BFGS:    6 17:55:50    -2072.705725        0.5003\n",
      "BFGS:    7 17:55:51    -2072.750262        0.7278\n",
      "BFGS:    8 17:55:51    -2072.786700        0.5717\n",
      "BFGS:    9 17:55:52    -2072.810664        0.3789\n",
      "BFGS:   10 17:55:53    -2072.835233        0.3990\n",
      "BFGS:   11 17:55:53    -2072.865882        0.4696\n",
      "BFGS:   12 17:55:54    -2072.897501        0.3827\n",
      "BFGS:   13 17:55:55    -2072.924803        0.3708\n",
      "BFGS:   14 17:55:56    -2072.946176        0.3322\n",
      "BFGS:   15 17:55:56    -2072.964501        0.3715\n",
      "BFGS:   16 17:55:57    -2072.982447        0.3014\n",
      "BFGS:   17 17:55:57    -2073.000969        0.2906\n",
      "BFGS:   18 17:55:58    -2073.019799        0.5649\n",
      "BFGS:   19 17:55:59    -2073.035782        0.5885\n",
      "BFGS:   20 17:55:59    -2073.055237        0.5359\n",
      "BFGS:   21 17:56:00    -2073.072159        0.4239\n",
      "BFGS:   22 17:56:01    -2073.081941        0.3662\n",
      "BFGS:   23 17:56:01    -2073.089704        0.2076\n",
      "BFGS:   24 17:56:02    -2073.097804        0.2131\n",
      "BFGS:   25 17:56:03    -2073.104159        0.2149\n",
      "BFGS:   26 17:56:03    -2073.108296        0.3501\n",
      "BFGS:   27 17:56:04    -2073.116547        0.2056\n",
      "BFGS:   28 17:56:04    -2073.126825        0.1709\n",
      "BFGS:   29 17:56:05    -2073.132214        0.1362\n",
      "BFGS:   30 17:56:06    -2073.135459        0.1211\n",
      "BFGS:   31 17:56:06    -2073.138954        0.1647\n",
      "BFGS:   32 17:56:07    -2073.142587        0.1245\n",
      "BFGS:   33 17:56:07    -2073.145109        0.1113\n",
      "BFGS:   34 17:56:08    -2073.147699        0.0950\n",
      "BFGS:   35 17:56:09    -2073.150038        0.1167\n",
      "BFGS:   36 17:56:09    -2073.152813        0.1385\n",
      "BFGS:   37 17:56:10    -2073.154486        0.1205\n",
      "BFGS:   38 17:56:10    -2073.155915        0.1008\n",
      "BFGS:   39 17:56:11    -2073.157166        0.1052\n",
      "BFGS:   40 17:56:11    -2073.158631        0.0940\n",
      "BFGS:   41 17:56:12    -2073.159576        0.1014\n",
      "BFGS:   42 17:56:12    -2073.160511        0.0675\n",
      "BFGS:   43 17:56:13    -2073.161475        0.0803\n",
      "BFGS:   44 17:56:14    -2073.162715        0.0803\n",
      "BFGS:   45 17:56:14    -2073.163749        0.0736\n",
      "BFGS:   46 17:56:15    -2073.164568        0.0624\n",
      "BFGS:   47 17:56:15    -2073.165213        0.0709\n",
      "BFGS:   48 17:56:16    -2073.166019        0.0756\n",
      "BFGS:   49 17:56:17    -2073.166903        0.0634\n",
      "BFGS:   50 17:56:17    -2073.167674        0.0487\n"
     ]
    },
    {
     "name": "stderr",
     "output_type": "stream",
     "text": [
      " 85%|████████▌ | 203/238 [2:30:33<15:36, 26.77s/it]"
     ]
    },
    {
     "name": "stdout",
     "output_type": "stream",
     "text": [
      "      Step     Time          Energy         fmax\n",
      "BFGS:    0 17:56:18    -3076.551636        3.8579\n",
      "BFGS:    1 17:56:19    -3077.285743        3.9201\n",
      "BFGS:    2 17:56:20    -3077.578410        1.1049\n",
      "BFGS:    3 17:56:21    -3077.730292        0.8296\n",
      "BFGS:    4 17:56:22    -3077.895547        0.5701\n",
      "BFGS:    5 17:56:22    -3077.976124        0.6417\n",
      "BFGS:    6 17:56:23    -3078.065150        0.6328\n",
      "BFGS:    7 17:56:24    -3078.117607        0.6475\n",
      "BFGS:    8 17:56:25    -3078.168074        0.5037\n",
      "BFGS:    9 17:56:26    -3078.214977        0.3596\n",
      "BFGS:   10 17:56:26    -3078.252092        0.2806\n",
      "BFGS:   11 17:56:27    -3078.283644        0.2699\n",
      "BFGS:   12 17:56:28    -3078.310714        0.3367\n",
      "BFGS:   13 17:56:29    -3078.329496        0.2319\n",
      "BFGS:   14 17:56:29    -3078.343650        0.1714\n",
      "BFGS:   15 17:56:30    -3078.355732        0.1691\n",
      "BFGS:   16 17:56:31    -3078.367416        0.2113\n",
      "BFGS:   17 17:56:32    -3078.378907        0.1902\n",
      "BFGS:   18 17:56:32    -3078.390045        0.1730\n",
      "BFGS:   19 17:56:33    -3078.400919        0.1656\n",
      "BFGS:   20 17:56:34    -3078.411337        0.2161\n",
      "BFGS:   21 17:56:34    -3078.420883        0.1792\n",
      "BFGS:   22 17:56:35    -3078.428907        0.1440\n",
      "BFGS:   23 17:56:36    -3078.435161        0.1112\n",
      "BFGS:   24 17:56:36    -3078.439759        0.1176\n",
      "BFGS:   25 17:56:37    -3078.443274        0.1068\n",
      "BFGS:   26 17:56:38    -3078.445962        0.0894\n",
      "BFGS:   27 17:56:39    -3078.448093        0.0564\n",
      "BFGS:   28 17:56:39    -3078.449885        0.0843\n",
      "BFGS:   29 17:56:40    -3078.451656        0.0923\n",
      "BFGS:   30 17:56:40    -3078.453628        0.0985\n",
      "BFGS:   31 17:56:41    -3078.455830        0.0736\n",
      "BFGS:   32 17:56:42    -3078.458007        0.0709\n",
      "BFGS:   33 17:56:42    -3078.459960        0.0620\n",
      "BFGS:   34 17:56:43    -3078.461626        0.0737\n",
      "BFGS:   35 17:56:44    -3078.463106        0.0646\n",
      "BFGS:   36 17:56:44    -3078.464468        0.0480\n"
     ]
    },
    {
     "name": "stderr",
     "output_type": "stream",
     "text": [
      " 87%|████████▋ | 207/238 [2:31:00<05:15, 10.19s/it]"
     ]
    },
    {
     "name": "stdout",
     "output_type": "stream",
     "text": [
      "      Step     Time          Energy         fmax\n",
      "BFGS:    0 17:56:46    -2417.539714        3.1213\n",
      "BFGS:    1 17:56:46    -2417.996093        2.7264\n",
      "BFGS:    2 17:56:47    -2418.224757        1.4574\n",
      "BFGS:    3 17:56:48    -2418.385650        0.7491\n",
      "BFGS:    4 17:56:49    -2418.498440        0.4902\n",
      "BFGS:    5 17:56:49    -2418.556868        0.5170\n",
      "BFGS:    6 17:56:50    -2418.627501        0.4793\n",
      "BFGS:    7 17:56:51    -2418.663006        0.3942\n",
      "BFGS:    8 17:56:51    -2418.694356        0.3226\n",
      "BFGS:    9 17:56:52    -2418.721916        0.2923\n",
      "BFGS:   10 17:56:53    -2418.751324        0.3209\n",
      "BFGS:   11 17:56:53    -2418.775463        0.2488\n",
      "BFGS:   12 17:56:54    -2418.792613        0.2468\n",
      "BFGS:   13 17:56:55    -2418.805500        0.2160\n",
      "BFGS:   14 17:56:55    -2418.817814        0.1690\n",
      "BFGS:   15 17:56:56    -2418.829920        0.1487\n",
      "BFGS:   16 17:56:57    -2418.840292        0.1783\n",
      "BFGS:   17 17:56:57    -2418.849027        0.1391\n",
      "BFGS:   18 17:56:58    -2418.857085        0.1470\n",
      "BFGS:   19 17:56:58    -2418.865267        0.1580\n",
      "BFGS:   20 17:56:59    -2418.873315        0.2179\n",
      "BFGS:   21 17:57:00    -2418.881174        0.1893\n",
      "BFGS:   22 17:57:00    -2418.888979        0.1523\n",
      "BFGS:   23 17:57:01    -2418.896762        0.1580\n",
      "BFGS:   24 17:57:02    -2418.903573        0.1696\n",
      "BFGS:   25 17:57:02    -2418.908816        0.1582\n",
      "BFGS:   26 17:57:03    -2418.912503        0.1173\n",
      "BFGS:   27 17:57:03    -2418.915340        0.0968\n",
      "BFGS:   28 17:57:04    -2418.917739        0.1163\n",
      "BFGS:   29 17:57:05    -2418.920174        0.1191\n",
      "BFGS:   30 17:57:05    -2418.922265        0.0724\n",
      "BFGS:   31 17:57:06    -2418.924416        0.0897\n",
      "BFGS:   32 17:57:06    -2418.926372        0.0876\n",
      "BFGS:   33 17:57:07    -2418.928081        0.0964\n",
      "BFGS:   34 17:57:08    -2418.929530        0.0644\n",
      "BFGS:   35 17:57:08    -2418.930820        0.0621\n",
      "BFGS:   36 17:57:09    -2418.932059        0.0615\n",
      "BFGS:   37 17:57:09    -2418.933379        0.0846\n",
      "BFGS:   38 17:57:10    -2418.934782        0.0753\n",
      "BFGS:   39 17:57:10    -2418.936102        0.0596\n",
      "BFGS:   40 17:57:11    -2418.937194        0.0458\n"
     ]
    },
    {
     "name": "stderr",
     "output_type": "stream",
     "text": [
      " 87%|████████▋ | 208/238 [2:31:26<07:05, 14.17s/it]"
     ]
    },
    {
     "name": "stdout",
     "output_type": "stream",
     "text": [
      "      Step     Time          Energy         fmax\n",
      "BFGS:    0 17:57:12    -2235.060474        4.2130\n",
      "BFGS:    1 17:57:13    -2235.429907        5.3009\n",
      "BFGS:    2 17:57:13    -2235.792540        1.0620\n",
      "BFGS:    3 17:57:14    -2235.927659        0.9039\n",
      "BFGS:    4 17:57:15    -2236.122450        0.6814\n",
      "BFGS:    5 17:57:16    -2236.182305        0.6133\n",
      "BFGS:    6 17:57:16    -2236.293030        0.5400\n",
      "BFGS:    7 17:57:17    -2236.331980        0.6787\n",
      "BFGS:    8 17:57:17    -2236.365946        0.5151\n",
      "BFGS:    9 17:57:18    -2236.391273        0.4720\n",
      "BFGS:   10 17:57:19    -2236.414891        0.3109\n",
      "BFGS:   11 17:57:19    -2236.432711        0.2480\n",
      "BFGS:   12 17:57:20    -2236.447364        0.2676\n",
      "BFGS:   13 17:57:20    -2236.465304        0.4124\n",
      "BFGS:   14 17:57:21    -2236.481292        0.3308\n",
      "BFGS:   15 17:57:22    -2236.494575        0.1533\n",
      "BFGS:   16 17:57:22    -2236.504836        0.1639\n",
      "BFGS:   17 17:57:23    -2236.513237        0.1876\n",
      "BFGS:   18 17:57:23    -2236.520028        0.1593\n",
      "BFGS:   19 17:57:24    -2236.525587        0.1209\n",
      "BFGS:   20 17:57:24    -2236.530454        0.1177\n",
      "BFGS:   21 17:57:25    -2236.534955        0.1557\n",
      "BFGS:   22 17:57:26    -2236.538833        0.1371\n",
      "BFGS:   23 17:57:26    -2236.541963        0.0892\n",
      "BFGS:   24 17:57:27    -2236.544752        0.0904\n",
      "BFGS:   25 17:57:27    -2236.547760        0.1015\n",
      "BFGS:   26 17:57:28    -2236.551144        0.1193\n",
      "BFGS:   27 17:57:28    -2236.554472        0.1057\n",
      "BFGS:   28 17:57:29    -2236.557302        0.0856\n",
      "BFGS:   29 17:57:29    -2236.559705        0.0811\n",
      "BFGS:   30 17:57:30    -2236.561910        0.0829\n",
      "BFGS:   31 17:57:31    -2236.563951        0.0808\n",
      "BFGS:   32 17:57:31    -2236.565876        0.0836\n",
      "BFGS:   33 17:57:32    -2236.567933        0.0850\n",
      "BFGS:   34 17:57:32    -2236.570428        0.0910\n",
      "BFGS:   35 17:57:33    -2236.573371        0.0998\n",
      "BFGS:   36 17:57:33    -2236.576341        0.0976\n",
      "BFGS:   37 17:57:34    -2236.578960        0.0965\n",
      "BFGS:   38 17:57:34    -2236.581370        0.0847\n",
      "BFGS:   39 17:57:35    -2236.583930        0.0926\n",
      "BFGS:   40 17:57:36    -2236.586788        0.0994\n",
      "BFGS:   41 17:57:36    -2236.589819        0.1004\n",
      "BFGS:   42 17:57:37    -2236.592855        0.1059\n",
      "BFGS:   43 17:57:37    -2236.595741        0.0961\n",
      "BFGS:   44 17:57:38    -2236.598206        0.0854\n",
      "BFGS:   45 17:57:38    -2236.600049        0.0730\n",
      "BFGS:   46 17:57:39    -2236.601455        0.0737\n",
      "BFGS:   47 17:57:39    -2236.602789        0.0676\n",
      "BFGS:   48 17:57:40    -2236.604262        0.0631\n",
      "BFGS:   49 17:57:41    -2236.605799        0.0652\n",
      "BFGS:   50 17:57:41    -2236.607220        0.0505\n",
      "BFGS:   51 17:57:42    -2236.608490        0.0646\n",
      "BFGS:   52 17:57:42    -2236.609715        0.0686\n",
      "BFGS:   53 17:57:43    -2236.610927        0.0516\n",
      "BFGS:   54 17:57:43    -2236.612014        0.0485\n"
     ]
    },
    {
     "name": "stderr",
     "output_type": "stream",
     "text": [
      " 88%|████████▊ | 209/238 [2:31:59<09:10, 18.99s/it]"
     ]
    },
    {
     "name": "stdout",
     "output_type": "stream",
     "text": [
      "      Step     Time          Energy         fmax\n",
      "BFGS:    0 17:57:44    -2575.813928        4.0170\n",
      "BFGS:    1 17:57:45    -2576.216279        4.4379\n",
      "BFGS:    2 17:57:46    -2576.479642        1.0560\n",
      "BFGS:    3 17:57:47    -2576.652866        1.0430\n",
      "BFGS:    4 17:57:48    -2576.807496        0.7846\n",
      "BFGS:    5 17:57:48    -2576.868906        0.3903\n",
      "BFGS:    6 17:57:49    -2576.943201        0.5017\n",
      "BFGS:    7 17:57:50    -2576.987125        0.5143\n",
      "BFGS:    8 17:57:51    -2577.028589        0.3577\n",
      "BFGS:    9 17:57:51    -2577.061735        0.3275\n",
      "BFGS:   10 17:57:52    -2577.095197        0.3689\n",
      "BFGS:   11 17:57:53    -2577.121068        0.3369\n",
      "BFGS:   12 17:57:53    -2577.137553        0.2109\n",
      "BFGS:   13 17:57:54    -2577.147203        0.1671\n",
      "BFGS:   14 17:57:55    -2577.153873        0.1624\n",
      "BFGS:   15 17:57:55    -2577.159249        0.1270\n",
      "BFGS:   16 17:57:56    -2577.163634        0.1156\n",
      "BFGS:   17 17:57:56    -2577.167509        0.1185\n",
      "BFGS:   18 17:57:57    -2577.171062        0.1027\n",
      "BFGS:   19 17:57:58    -2577.174175        0.0912\n",
      "BFGS:   20 17:57:58    -2577.176791        0.0759\n",
      "BFGS:   21 17:57:59    -2577.179097        0.0790\n",
      "BFGS:   22 17:57:59    -2577.181329        0.0864\n",
      "BFGS:   23 17:58:00    -2577.183395        0.0691\n",
      "BFGS:   24 17:58:01    -2577.185159        0.0680\n",
      "BFGS:   25 17:58:01    -2577.186675        0.0624\n",
      "BFGS:   26 17:58:02    -2577.188160        0.0809\n",
      "BFGS:   27 17:58:03    -2577.189621        0.0744\n",
      "BFGS:   28 17:58:03    -2577.190971        0.0647\n",
      "BFGS:   29 17:58:04    -2577.192120        0.0626\n",
      "BFGS:   30 17:58:04    -2577.193243        0.0556\n",
      "BFGS:   31 17:58:05    -2577.194493        0.0602\n",
      "BFGS:   32 17:58:06    -2577.195895        0.0656\n",
      "BFGS:   33 17:58:06    -2577.197302        0.0660\n",
      "BFGS:   34 17:58:07    -2577.198684        0.0620\n",
      "BFGS:   35 17:58:07    -2577.200170        0.0640\n",
      "BFGS:   36 17:58:08    -2577.201907        0.0764\n",
      "BFGS:   37 17:58:09    -2577.203821        0.0738\n",
      "BFGS:   38 17:58:09    -2577.205602        0.0625\n",
      "BFGS:   39 17:58:10    -2577.207084        0.0661\n",
      "BFGS:   40 17:58:10    -2577.208406        0.0703\n",
      "BFGS:   41 17:58:11    -2577.209788        0.0581\n",
      "BFGS:   42 17:58:12    -2577.211313        0.0623\n",
      "BFGS:   43 17:58:12    -2577.212854        0.0604\n",
      "BFGS:   44 17:58:13    -2577.214329        0.0643\n",
      "BFGS:   45 17:58:14    -2577.215802        0.0727\n",
      "BFGS:   46 17:58:14    -2577.217378        0.0607\n",
      "BFGS:   47 17:58:15    -2577.218997        0.0676\n",
      "BFGS:   48 17:58:16    -2577.220529        0.0809\n",
      "BFGS:   49 17:58:16    -2577.221959        0.0696\n",
      "BFGS:   50 17:58:17    -2577.223402        0.0812\n",
      "BFGS:   51 17:58:18    -2577.225106        0.0764\n",
      "BFGS:   52 17:58:18    -2577.227075        0.0790\n",
      "BFGS:   53 17:58:19    -2577.229087        0.0811\n",
      "BFGS:   54 17:58:19    -2577.231097        0.0990\n",
      "BFGS:   55 17:58:20    -2577.233094        0.0954\n",
      "BFGS:   56 17:58:21    -2577.234820        0.0634\n",
      "BFGS:   57 17:58:21    -2577.236637        0.0588\n",
      "BFGS:   58 17:58:22    -2577.238146        0.0918\n",
      "BFGS:   59 17:58:23    -2577.239967        0.0793\n",
      "BFGS:   60 17:58:23    -2577.241355        0.0992\n",
      "BFGS:   61 17:58:24    -2577.242540        0.0621\n",
      "BFGS:   62 17:58:24    -2577.243667        0.0580\n",
      "BFGS:   63 17:58:25    -2577.245161        0.0608\n",
      "BFGS:   64 17:58:26    -2577.246729        0.0651\n",
      "BFGS:   65 17:58:26    -2577.248263        0.0659\n",
      "BFGS:   66 17:58:27    -2577.250092        0.0646\n",
      "BFGS:   67 17:58:28    -2577.252238        0.0954\n",
      "BFGS:   68 17:58:28    -2577.254366        0.1325\n",
      "BFGS:   69 17:58:29    -2577.256729        0.1249\n",
      "BFGS:   70 17:58:30    -2577.258803        0.0737\n",
      "BFGS:   71 17:58:30    -2577.260951        0.0679\n",
      "BFGS:   72 17:58:31    -2577.262594        0.0637\n",
      "BFGS:   73 17:58:32    -2577.264191        0.0669\n",
      "BFGS:   74 17:58:32    -2577.265449        0.0765\n",
      "BFGS:   75 17:58:33    -2577.266929        0.0706\n",
      "BFGS:   76 17:58:33    -2577.268775        0.0731\n",
      "BFGS:   77 17:58:34    -2577.270980        0.0997\n",
      "BFGS:   78 17:58:35    -2577.273276        0.1390\n",
      "BFGS:   79 17:58:35    -2577.276196        0.1066\n",
      "BFGS:   80 17:58:36    -2577.280465        0.1698\n",
      "BFGS:   81 17:58:37    -2577.284842        0.1412\n",
      "BFGS:   82 17:58:37    -2577.288678        0.1425\n",
      "BFGS:   83 17:58:38    -2577.293770        0.1982\n",
      "BFGS:   84 17:58:39    -2577.297847        0.1368\n",
      "BFGS:   85 17:58:40    -2577.296039        0.6567\n",
      "BFGS:   86 17:58:40    -2577.304120        0.1886\n",
      "BFGS:   87 17:58:41    -2577.306833        0.1059\n",
      "BFGS:   88 17:58:42    -2577.312821        0.1635\n",
      "BFGS:   89 17:58:42    -2577.316318        0.1941\n",
      "BFGS:   90 17:58:43    -2577.322774        0.1545\n",
      "BFGS:   91 17:58:44    -2577.326984        0.2352\n",
      "BFGS:   92 17:58:44    -2577.331666        0.1369\n",
      "BFGS:   93 17:58:45    -2577.335633        0.4072\n",
      "BFGS:   94 17:58:46    -2577.342068        0.2576\n",
      "BFGS:   95 17:58:46    -2577.351780        0.2165\n",
      "BFGS:   96 17:58:47    -2577.357500        0.1808\n",
      "BFGS:   97 17:58:48    -2577.365247        0.3270\n",
      "BFGS:   98 17:58:48    -2577.368882        0.2909\n",
      "BFGS:   99 17:58:49    -2577.372655        0.4252\n",
      "BFGS:  100 17:58:50    -2577.377328        0.2159\n",
      "BFGS:  101 17:58:50    -2577.382075        0.1588\n",
      "BFGS:  102 17:58:51    -2577.389454        0.1411\n",
      "BFGS:  103 17:58:52    -2577.395916        0.2860\n",
      "BFGS:  104 17:58:53    -2577.402079        0.2017\n",
      "BFGS:  105 17:58:53    -2577.408777        0.3742\n",
      "BFGS:  106 17:58:54    -2577.416576        0.2266\n",
      "BFGS:  107 17:58:55    -2577.422747        0.4953\n",
      "BFGS:  108 17:58:55    -2577.432150        0.2747\n",
      "BFGS:  109 17:58:56    -2577.442151        0.2061\n",
      "BFGS:  110 17:58:57    -2577.448859        0.1617\n",
      "BFGS:  111 17:58:57    -2577.457946        0.2575\n",
      "BFGS:  112 17:58:58    -2577.463037        0.3102\n",
      "BFGS:  113 17:58:59    -2577.467146        0.3207\n",
      "BFGS:  114 17:58:59    -2577.472319        0.1812\n",
      "BFGS:  115 17:59:00    -2577.479161        0.1248\n",
      "BFGS:  116 17:59:01    -2577.483372        0.1160\n",
      "BFGS:  117 17:59:01    -2577.490399        0.1669\n",
      "BFGS:  118 17:59:02    -2577.495904        0.1994\n",
      "BFGS:  119 17:59:03    -2577.500979        0.1824\n",
      "BFGS:  120 17:59:03    -2577.504936        0.1455\n",
      "BFGS:  121 17:59:04    -2577.508499        0.1829\n",
      "BFGS:  122 17:59:05    -2577.512614        0.1144\n",
      "BFGS:  123 17:59:05    -2577.515710        0.3477\n",
      "BFGS:  124 17:59:06    -2577.519419        0.1509\n",
      "BFGS:  125 17:59:07    -2577.523954        0.1019\n",
      "BFGS:  126 17:59:07    -2577.528536        0.1163\n",
      "BFGS:  127 17:59:08    -2577.532948        0.1271\n",
      "BFGS:  128 17:59:09    -2577.536347        0.0896\n",
      "BFGS:  129 17:59:09    -2577.539250        0.0926\n",
      "BFGS:  130 17:59:10    -2577.542176        0.0914\n",
      "BFGS:  131 17:59:11    -2577.545213        0.1312\n",
      "BFGS:  132 17:59:11    -2577.547816        0.1289\n",
      "BFGS:  133 17:59:12    -2577.549931        0.1466\n",
      "BFGS:  134 17:59:13    -2577.551720        0.1042\n",
      "BFGS:  135 17:59:13    -2577.553614        0.0564\n",
      "BFGS:  136 17:59:14    -2577.554757        0.0748\n",
      "BFGS:  137 17:59:14    -2577.555968        0.0597\n",
      "BFGS:  138 17:59:15    -2577.556803        0.0450\n"
     ]
    },
    {
     "name": "stderr",
     "output_type": "stream",
     "text": [
      " 88%|████████▊ | 210/238 [2:33:31<18:04, 38.74s/it]"
     ]
    },
    {
     "name": "stdout",
     "output_type": "stream",
     "text": [
      "      Step     Time          Energy         fmax\n",
      "BFGS:    0 17:59:16    -2400.456072        3.9116\n",
      "BFGS:    1 17:59:17    -2401.243545        1.8553\n",
      "BFGS:    2 17:59:18    -2401.502954        1.3233\n",
      "BFGS:    3 17:59:18    -2401.687531        1.1142\n",
      "BFGS:    4 17:59:19    -2401.795423        0.9720\n",
      "BFGS:    5 17:59:20    -2401.863969        0.4216\n",
      "BFGS:    6 17:59:20    -2401.888020        0.3794\n",
      "BFGS:    7 17:59:21    -2401.915388        0.2840\n",
      "BFGS:    8 17:59:22    -2401.931504        0.2672\n",
      "BFGS:    9 17:59:22    -2401.947322        0.3612\n",
      "BFGS:   10 17:59:23    -2401.963106        0.3700\n",
      "BFGS:   11 17:59:24    -2401.977945        0.2596\n",
      "BFGS:   12 17:59:24    -2401.988779        0.1615\n",
      "BFGS:   13 17:59:25    -2401.996142        0.1583\n",
      "BFGS:   14 17:59:26    -2402.001543        0.1534\n",
      "BFGS:   15 17:59:26    -2402.006314        0.1620\n",
      "BFGS:   16 17:59:27    -2402.010911        0.1197\n",
      "BFGS:   17 17:59:27    -2402.015538        0.1143\n",
      "BFGS:   18 17:59:28    -2402.020100        0.1425\n",
      "BFGS:   19 17:59:29    -2402.024225        0.1734\n",
      "BFGS:   20 17:59:29    -2402.027896        0.1298\n",
      "BFGS:   21 17:59:30    -2402.031539        0.1154\n",
      "BFGS:   22 17:59:30    -2402.035333        0.1348\n",
      "BFGS:   23 17:59:31    -2402.039357        0.1433\n",
      "BFGS:   24 17:59:31    -2402.043513        0.1279\n",
      "BFGS:   25 17:59:32    -2402.047782        0.1561\n",
      "BFGS:   26 17:59:33    -2402.051706        0.1280\n",
      "BFGS:   27 17:59:33    -2402.054803        0.1132\n",
      "BFGS:   28 17:59:34    -2402.056499        0.1445\n",
      "BFGS:   29 17:59:34    -2402.058259        0.0812\n",
      "BFGS:   30 17:59:35    -2402.059387        0.0631\n",
      "BFGS:   31 17:59:35    -2402.060456        0.0388\n"
     ]
    },
    {
     "name": "stderr",
     "output_type": "stream",
     "text": [
      " 89%|████████▊ | 211/238 [2:33:51<15:07, 33.62s/it]"
     ]
    },
    {
     "name": "stdout",
     "output_type": "stream",
     "text": [
      "      Step     Time          Energy         fmax\n",
      "BFGS:    0 17:59:37    -2461.005634        3.8383\n",
      "BFGS:    1 17:59:37    -2461.744067        1.6506\n",
      "BFGS:    2 17:59:38    -2461.976795        1.2782\n",
      "BFGS:    3 17:59:39    -2462.152949        1.3544\n",
      "BFGS:    4 17:59:40    -2462.280664        1.0753\n",
      "BFGS:    5 17:59:40    -2462.356963        0.3894\n",
      "BFGS:    6 17:59:41    -2462.385805        0.3317\n",
      "BFGS:    7 17:59:42    -2462.414880        0.2815\n",
      "BFGS:    8 17:59:42    -2462.432112        0.2698\n",
      "BFGS:    9 17:59:43    -2462.448365        0.2591\n",
      "BFGS:   10 17:59:44    -2462.463713        0.2479\n",
      "BFGS:   11 17:59:44    -2462.479209        0.2648\n",
      "BFGS:   12 17:59:45    -2462.492912        0.2036\n",
      "BFGS:   13 17:59:46    -2462.505272        0.1803\n",
      "BFGS:   14 17:59:46    -2462.516097        0.2181\n",
      "BFGS:   15 17:59:47    -2462.525748        0.2470\n",
      "BFGS:   16 17:59:47    -2462.534191        0.1862\n",
      "BFGS:   17 17:59:48    -2462.541634        0.1666\n",
      "BFGS:   18 17:59:49    -2462.548601        0.1429\n",
      "BFGS:   19 17:59:49    -2462.554895        0.1904\n",
      "BFGS:   20 17:59:50    -2462.560753        0.1673\n",
      "BFGS:   21 17:59:51    -2462.566559        0.1388\n",
      "BFGS:   22 17:59:51    -2462.572472        0.1403\n",
      "BFGS:   23 17:59:52    -2462.577812        0.1973\n",
      "BFGS:   24 17:59:53    -2462.582764        0.1677\n",
      "BFGS:   25 17:59:53    -2462.587172        0.1286\n",
      "BFGS:   26 17:59:54    -2462.591503        0.1114\n",
      "BFGS:   27 17:59:54    -2462.595911        0.1636\n",
      "BFGS:   28 17:59:55    -2462.600439        0.1872\n",
      "BFGS:   29 17:59:55    -2462.604447        0.1386\n",
      "BFGS:   30 17:59:56    -2462.608435        0.1359\n",
      "BFGS:   31 17:59:57    -2462.611590        0.2315\n",
      "BFGS:   32 17:59:58    -2462.616141        0.1205\n",
      "BFGS:   33 17:59:58    -2462.620417        0.1072\n",
      "BFGS:   34 17:59:59    -2462.624969        0.1537\n",
      "BFGS:   35 17:59:59    -2462.627750        0.1316\n",
      "BFGS:   36 18:00:00    -2462.632105        0.1964\n",
      "BFGS:   37 18:00:01    -2462.635736        0.1395\n",
      "BFGS:   38 18:00:01    -2462.638528        0.2651\n",
      "BFGS:   39 18:00:02    -2462.642798        0.1388\n",
      "BFGS:   40 18:00:03    -2462.647996        0.1152\n",
      "BFGS:   41 18:00:03    -2462.652677        0.1285\n",
      "BFGS:   42 18:00:04    -2462.656586        0.1228\n",
      "BFGS:   43 18:00:05    -2462.660006        0.1184\n",
      "BFGS:   44 18:00:05    -2462.663209        0.1439\n",
      "BFGS:   45 18:00:06    -2462.664576        0.1527\n",
      "BFGS:   46 18:00:06    -2462.666250        0.1261\n",
      "BFGS:   47 18:00:07    -2462.667428        0.1117\n",
      "BFGS:   48 18:00:08    -2462.669321        0.0969\n",
      "BFGS:   49 18:00:08    -2462.670740        0.0665\n",
      "BFGS:   50 18:00:09    -2462.672143        0.0612\n",
      "BFGS:   51 18:00:09    -2462.673048        0.0618\n",
      "BFGS:   52 18:00:10    -2462.673961        0.0643\n",
      "BFGS:   53 18:00:11    -2462.675041        0.0776\n",
      "BFGS:   54 18:00:11    -2462.676364        0.0783\n",
      "BFGS:   55 18:00:12    -2462.677985        0.1051\n",
      "BFGS:   56 18:00:12    -2462.679939        0.0878\n",
      "BFGS:   57 18:00:13    -2462.682131        0.2409\n",
      "BFGS:   58 18:00:13    -2462.684832        0.1228\n",
      "BFGS:   59 18:00:14    -2462.688516        0.0949\n",
      "BFGS:   60 18:00:15    -2462.691373        0.1152\n",
      "BFGS:   61 18:00:15    -2462.695477        0.1383\n",
      "BFGS:   62 18:00:16    -2462.700757        0.1621\n",
      "BFGS:   63 18:00:17    -2462.706576        0.1609\n",
      "BFGS:   64 18:00:17    -2462.712856        0.1632\n",
      "BFGS:   65 18:00:18    -2462.720342        0.1500\n",
      "BFGS:   66 18:00:18    -2462.728794        0.1845\n",
      "BFGS:   67 18:00:19    -2462.735313        0.3567\n",
      "BFGS:   68 18:00:20    -2462.742123        0.1977\n",
      "BFGS:   69 18:00:20    -2462.747994        0.1453\n",
      "BFGS:   70 18:00:21    -2462.758906        0.1764\n",
      "BFGS:   71 18:00:22    -2462.766733        0.2076\n",
      "BFGS:   72 18:00:22    -2462.778632        0.1664\n",
      "BFGS:   73 18:00:23    -2462.786869        0.1678\n",
      "BFGS:   74 18:00:24    -2462.792603        0.2012\n",
      "BFGS:   75 18:00:24    -2462.797230        0.2667\n",
      "BFGS:   76 18:00:25    -2462.801936        0.1235\n",
      "BFGS:   77 18:00:25    -2462.806574        0.1844\n",
      "BFGS:   78 18:00:26    -2462.808893        0.1729\n",
      "BFGS:   79 18:00:27    -2462.812567        0.1153\n",
      "BFGS:   80 18:00:27    -2462.815114        0.1058\n",
      "BFGS:   81 18:00:28    -2462.817109        0.1028\n",
      "BFGS:   82 18:00:28    -2462.818727        0.0990\n",
      "BFGS:   83 18:00:29    -2462.820029        0.0683\n",
      "BFGS:   84 18:00:29    -2462.821087        0.0407\n"
     ]
    },
    {
     "name": "stderr",
     "output_type": "stream",
     "text": [
      " 89%|████████▉ | 212/238 [2:34:45<17:04, 39.40s/it]"
     ]
    },
    {
     "name": "stdout",
     "output_type": "stream",
     "text": [
      "      Step     Time          Energy         fmax\n",
      "BFGS:    0 18:00:30    -2571.523446        3.8671\n",
      "BFGS:    1 18:00:31    -2572.270307        1.8416\n",
      "BFGS:    2 18:00:32    -2572.518503        1.2933\n",
      "BFGS:    3 18:00:33    -2572.708480        1.3322\n",
      "BFGS:    4 18:00:33    -2572.824963        0.9155\n",
      "BFGS:    5 18:00:34    -2572.893991        0.3938\n",
      "BFGS:    6 18:00:35    -2572.920954        0.4070\n",
      "BFGS:    7 18:00:35    -2572.948062        0.3012\n",
      "BFGS:    8 18:00:36    -2572.964212        0.2625\n",
      "BFGS:    9 18:00:37    -2572.980301        0.3248\n",
      "BFGS:   10 18:00:37    -2572.996433        0.3389\n",
      "BFGS:   11 18:00:38    -2573.012669        0.2761\n",
      "BFGS:   12 18:00:38    -2573.026420        0.2411\n",
      "BFGS:   13 18:00:39    -2573.037727        0.1713\n",
      "BFGS:   14 18:00:40    -2573.046978        0.2116\n",
      "BFGS:   15 18:00:40    -2573.055694        0.2224\n",
      "BFGS:   16 18:00:41    -2573.064559        0.1897\n",
      "BFGS:   17 18:00:42    -2573.073470        0.1720\n",
      "BFGS:   18 18:00:42    -2573.081794        0.1915\n",
      "BFGS:   19 18:00:43    -2573.088324        0.1924\n",
      "BFGS:   20 18:00:44    -2573.093230        0.1662\n",
      "BFGS:   21 18:00:44    -2573.097395        0.1089\n",
      "BFGS:   22 18:00:45    -2573.101327        0.1073\n",
      "BFGS:   23 18:00:45    -2573.104821        0.1435\n",
      "BFGS:   24 18:00:46    -2573.107990        0.1506\n",
      "BFGS:   25 18:00:47    -2573.110880        0.1175\n",
      "BFGS:   26 18:00:47    -2573.113766        0.1037\n",
      "BFGS:   27 18:00:48    -2573.116165        0.1032\n",
      "BFGS:   28 18:00:48    -2573.118474        0.1005\n",
      "BFGS:   29 18:00:49    -2573.120372        0.0822\n",
      "BFGS:   30 18:00:50    -2573.122164        0.0774\n",
      "BFGS:   31 18:00:50    -2573.123966        0.0650\n",
      "BFGS:   32 18:00:51    -2573.125942        0.0703\n",
      "BFGS:   33 18:00:51    -2573.128060        0.0908\n",
      "BFGS:   34 18:00:52    -2573.130310        0.0903\n",
      "BFGS:   35 18:00:52    -2573.132736        0.0765\n",
      "BFGS:   36 18:00:53    -2573.135485        0.0868\n",
      "BFGS:   37 18:00:54    -2573.138721        0.1105\n",
      "BFGS:   38 18:00:54    -2573.141052        0.3021\n",
      "BFGS:   39 18:00:55    -2573.145103        0.1726\n",
      "BFGS:   40 18:00:56    -2573.148202        0.1328\n",
      "BFGS:   41 18:00:56    -2573.154009        0.1555\n",
      "BFGS:   42 18:00:57    -2573.156362        0.1335\n",
      "BFGS:   43 18:00:57    -2573.161956        0.1547\n",
      "BFGS:   44 18:00:58    -2573.166757        0.1134\n",
      "BFGS:   45 18:00:59    -2573.170286        0.2475\n",
      "BFGS:   46 18:00:59    -2573.174688        0.1354\n",
      "BFGS:   47 18:01:00    -2573.179086        0.1438\n",
      "BFGS:   48 18:01:01    -2573.185298        0.1218\n",
      "BFGS:   49 18:01:01    -2573.189813        0.1917\n",
      "BFGS:   50 18:01:02    -2573.196083        0.1531\n",
      "BFGS:   51 18:01:03    -2573.200252        0.3302\n",
      "BFGS:   52 18:01:03    -2573.203818        0.3263\n",
      "BFGS:   53 18:01:04    -2573.211962        0.1833\n",
      "BFGS:   54 18:01:05    -2573.220037        0.2449\n",
      "BFGS:   55 18:01:05    -2573.226616        0.3977\n",
      "BFGS:   56 18:01:06    -2573.234687        0.1934\n",
      "BFGS:   57 18:01:06    -2573.238619        0.6105\n",
      "BFGS:   58 18:01:07    -2573.246660        0.1160\n",
      "BFGS:   59 18:01:08    -2573.249507        0.1037\n",
      "BFGS:   60 18:01:08    -2573.253680        0.1811\n",
      "BFGS:   61 18:01:09    -2573.255646        0.1427\n",
      "BFGS:   62 18:01:09    -2573.260172        0.1173\n",
      "BFGS:   63 18:01:10    -2573.263642        0.1615\n",
      "BFGS:   64 18:01:11    -2573.267193        0.1251\n",
      "BFGS:   65 18:01:11    -2573.270562        0.1737\n",
      "BFGS:   66 18:01:12    -2573.273867        0.1103\n",
      "BFGS:   67 18:01:12    -2573.276761        0.1684\n",
      "BFGS:   68 18:01:13    -2573.279462        0.1078\n",
      "BFGS:   69 18:01:14    -2573.283042        0.0868\n",
      "BFGS:   70 18:01:14    -2573.286412        0.0907\n",
      "BFGS:   71 18:01:15    -2573.289881        0.0946\n",
      "BFGS:   72 18:01:15    -2573.292643        0.1105\n",
      "BFGS:   73 18:01:16    -2573.295354        0.1446\n",
      "BFGS:   74 18:01:16    -2573.298356        0.1391\n",
      "BFGS:   75 18:01:17    -2573.301878        0.1361\n",
      "BFGS:   76 18:01:18    -2573.305707        0.1780\n",
      "BFGS:   77 18:01:18    -2573.309783        0.1183\n",
      "BFGS:   78 18:01:19    -2573.313773        0.1626\n",
      "BFGS:   79 18:01:19    -2573.317527        0.1109\n",
      "BFGS:   80 18:01:20    -2573.321143        0.1141\n",
      "BFGS:   81 18:01:21    -2573.325271        0.1485\n",
      "BFGS:   82 18:01:21    -2573.329783        0.1392\n",
      "BFGS:   83 18:01:22    -2573.334158        0.1568\n",
      "BFGS:   84 18:01:23    -2573.337951        0.1046\n",
      "BFGS:   85 18:01:23    -2573.341281        0.1233\n",
      "BFGS:   86 18:01:24    -2573.344495        0.1368\n",
      "BFGS:   87 18:01:25    -2573.347465        0.1289\n",
      "BFGS:   88 18:01:25    -2573.350241        0.1095\n",
      "BFGS:   89 18:01:26    -2573.352283        0.0982\n",
      "BFGS:   90 18:01:26    -2573.354237        0.0808\n",
      "BFGS:   91 18:01:27    -2573.356176        0.0769\n",
      "BFGS:   92 18:01:28    -2573.357943        0.0659\n",
      "BFGS:   93 18:01:28    -2573.359510        0.0634\n",
      "BFGS:   94 18:01:29    -2573.360923        0.0615\n",
      "BFGS:   95 18:01:29    -2573.362192        0.0585\n",
      "BFGS:   96 18:01:30    -2573.363281        0.0773\n",
      "BFGS:   97 18:01:31    -2573.364325        0.0733\n",
      "BFGS:   98 18:01:31    -2573.365422        0.0758\n",
      "BFGS:   99 18:01:32    -2573.366551        0.0640\n",
      "BFGS:  100 18:01:32    -2573.367653        0.0650\n",
      "BFGS:  101 18:01:33    -2573.368776        0.0741\n",
      "BFGS:  102 18:01:34    -2573.369904        0.0607\n",
      "BFGS:  103 18:01:34    -2573.370911        0.0593\n",
      "BFGS:  104 18:01:35    -2573.371685        0.0525\n",
      "BFGS:  105 18:01:35    -2573.372299        0.0436\n"
     ]
    },
    {
     "name": "stderr",
     "output_type": "stream",
     "text": [
      " 89%|████████▉ | 213/238 [2:35:51<19:36, 47.07s/it]"
     ]
    },
    {
     "name": "stdout",
     "output_type": "stream",
     "text": [
      "      Step     Time          Energy         fmax\n",
      "BFGS:    0 18:01:36    -2346.120453        3.8923\n",
      "BFGS:    1 18:01:37    -2346.872750        1.8574\n",
      "BFGS:    2 18:01:38    -2347.123426        1.3279\n",
      "BFGS:    3 18:01:39    -2347.300916        1.2398\n",
      "BFGS:    4 18:01:39    -2347.414589        0.8653\n",
      "BFGS:    5 18:01:40    -2347.470824        0.3494\n",
      "BFGS:    6 18:01:41    -2347.489573        0.3254\n",
      "BFGS:    7 18:01:41    -2347.506384        0.2035\n",
      "BFGS:    8 18:01:42    -2347.514525        0.1736\n",
      "BFGS:    9 18:01:43    -2347.521918        0.2532\n",
      "BFGS:   10 18:01:43    -2347.530015        0.2566\n",
      "BFGS:   11 18:01:44    -2347.538814        0.2304\n",
      "BFGS:   12 18:01:45    -2347.546899        0.1840\n",
      "BFGS:   13 18:01:45    -2347.554249        0.1516\n",
      "BFGS:   14 18:01:46    -2347.561651        0.2005\n",
      "BFGS:   15 18:01:46    -2347.569787        0.2626\n",
      "BFGS:   16 18:01:47    -2347.578174        0.2063\n",
      "BFGS:   17 18:01:48    -2347.585871        0.1738\n",
      "BFGS:   18 18:01:48    -2347.593461        0.1968\n",
      "BFGS:   19 18:01:49    -2347.599338        0.4105\n",
      "BFGS:   20 18:01:49    -2347.606363        0.2763\n",
      "BFGS:   21 18:01:50    -2347.612893        0.1690\n",
      "BFGS:   22 18:01:51    -2347.621358        0.2544\n",
      "BFGS:   23 18:01:51    -2347.624800        0.1549\n",
      "BFGS:   24 18:01:52    -2347.631573        0.1462\n",
      "BFGS:   25 18:01:53    -2347.636943        0.1282\n",
      "BFGS:   26 18:01:53    -2347.641118        0.2108\n",
      "BFGS:   27 18:01:54    -2347.646760        0.1831\n",
      "BFGS:   28 18:01:54    -2347.650807        0.2515\n",
      "BFGS:   29 18:01:55    -2347.655452        0.1401\n",
      "BFGS:   30 18:01:56    -2347.658378        0.1074\n",
      "BFGS:   31 18:01:56    -2347.663038        0.1046\n",
      "BFGS:   32 18:01:57    -2347.665392        0.1007\n",
      "BFGS:   33 18:01:57    -2347.668364        0.1178\n",
      "BFGS:   34 18:01:58    -2347.671065        0.1057\n",
      "BFGS:   35 18:01:58    -2347.673963        0.1024\n",
      "BFGS:   36 18:01:59    -2347.673652        0.4666\n",
      "BFGS:   37 18:01:59    -2347.677928        0.0767\n",
      "BFGS:   38 18:02:00    -2347.679613        0.0722\n",
      "BFGS:   39 18:02:01    -2347.683611        0.0995\n",
      "BFGS:   40 18:02:01    -2347.685222        0.1338\n",
      "BFGS:   41 18:02:02    -2347.687822        0.1911\n",
      "BFGS:   42 18:02:02    -2347.690095        0.1390\n",
      "BFGS:   43 18:02:03    -2347.692679        0.1142\n",
      "BFGS:   44 18:02:03    -2347.694698        0.0922\n",
      "BFGS:   45 18:02:04    -2347.695039        0.2719\n",
      "BFGS:   46 18:02:05    -2347.697294        0.0785\n",
      "BFGS:   47 18:02:05    -2347.698305        0.0967\n",
      "BFGS:   48 18:02:06    -2347.701356        0.1128\n",
      "BFGS:   49 18:02:06    -2347.702547        0.0808\n",
      "BFGS:   50 18:02:07    -2347.704322        0.0565\n",
      "BFGS:   51 18:02:07    -2347.705169        0.0813\n",
      "BFGS:   52 18:02:08    -2347.706014        0.0691\n",
      "BFGS:   53 18:02:08    -2347.706815        0.1175\n",
      "BFGS:   54 18:02:09    -2347.707748        0.0555\n",
      "BFGS:   55 18:02:10    -2347.708581        0.0620\n",
      "BFGS:   56 18:02:10    -2347.709314        0.0570\n",
      "BFGS:   57 18:02:11    -2347.709984        0.0539\n",
      "BFGS:   58 18:02:11    -2347.710681        0.0463\n"
     ]
    },
    {
     "name": "stderr",
     "output_type": "stream",
     "text": [
      " 90%|████████▉ | 214/238 [2:36:27<17:32, 43.85s/it]"
     ]
    },
    {
     "name": "stdout",
     "output_type": "stream",
     "text": [
      "      Step     Time          Energy         fmax\n",
      "BFGS:    0 18:02:12    -2738.334911        5.2423\n",
      "BFGS:    1 18:02:13    -2739.422678        4.5846\n",
      "BFGS:    2 18:02:14    -2739.920333        1.3155\n",
      "BFGS:    3 18:02:15    -2740.127609        1.4689\n",
      "BFGS:    4 18:02:15    -2740.264979        1.0488\n",
      "BFGS:    5 18:02:16    -2740.324184        0.4911\n",
      "BFGS:    6 18:02:17    -2740.362473        0.5164\n",
      "BFGS:    7 18:02:17    -2740.416032        0.6861\n",
      "BFGS:    8 18:02:18    -2740.469373        0.7212\n",
      "BFGS:    9 18:02:19    -2740.512140        0.5636\n",
      "BFGS:   10 18:02:20    -2740.553219        0.5534\n",
      "BFGS:   11 18:02:20    -2740.588524        0.4711\n",
      "BFGS:   12 18:02:21    -2740.615040        0.4648\n",
      "BFGS:   13 18:02:22    -2740.635778        0.3343\n",
      "BFGS:   14 18:02:22    -2740.658750        0.3995\n",
      "BFGS:   15 18:02:23    -2740.685180        0.4303\n",
      "BFGS:   16 18:02:24    -2740.706670        0.2586\n",
      "BFGS:   17 18:02:25    -2740.723917        0.2298\n",
      "BFGS:   18 18:02:25    -2740.740790        0.3129\n",
      "BFGS:   19 18:02:26    -2740.759148        0.3906\n",
      "BFGS:   20 18:02:27    -2740.777445        0.3159\n",
      "BFGS:   21 18:02:27    -2740.790053        0.6009\n",
      "BFGS:   22 18:02:28    -2740.802567        0.3730\n",
      "BFGS:   23 18:02:28    -2740.815649        0.3416\n",
      "BFGS:   24 18:02:29    -2740.841785        0.6525\n",
      "BFGS:   25 18:02:30    -2740.855100        0.2799\n",
      "BFGS:   26 18:02:30    -2740.874988        0.4528\n",
      "BFGS:   27 18:02:31    -2740.890821        0.2591\n",
      "BFGS:   28 18:02:32    -2740.902457        0.4570\n",
      "BFGS:   29 18:02:33    -2740.917349        0.2276\n",
      "BFGS:   30 18:02:33    -2740.926167        0.6401\n",
      "BFGS:   31 18:02:34    -2740.938335        0.3194\n",
      "BFGS:   32 18:02:35    -2740.947312        0.2173\n",
      "BFGS:   33 18:02:35    -2740.958205        0.1792\n",
      "BFGS:   34 18:02:36    -2740.968153        0.2047\n",
      "BFGS:   35 18:02:36    -2740.977029        0.2016\n",
      "BFGS:   36 18:02:37    -2740.984763        0.3976\n",
      "BFGS:   37 18:02:38    -2740.994785        0.4727\n",
      "BFGS:   38 18:02:38    -2741.004151        0.2175\n",
      "BFGS:   39 18:02:39    -2741.019079        0.2572\n",
      "BFGS:   40 18:02:39    -2741.025499        0.1971\n",
      "BFGS:   41 18:02:40    -2741.037236        0.2682\n",
      "BFGS:   42 18:02:41    -2741.043398        0.1691\n",
      "BFGS:   43 18:02:41    -2741.049470        0.2373\n",
      "BFGS:   44 18:02:42    -2741.055892        0.2030\n",
      "BFGS:   45 18:02:43    -2741.063782        0.1899\n",
      "BFGS:   46 18:02:43    -2741.070968        0.2019\n",
      "BFGS:   47 18:02:44    -2741.079802        0.1786\n",
      "BFGS:   48 18:02:44    -2741.089895        0.2091\n",
      "BFGS:   49 18:02:45    -2741.101865        0.2077\n",
      "BFGS:   50 18:02:46    -2741.046589        1.6148\n",
      "BFGS:   51 18:02:47    -2741.119221        0.2353\n",
      "BFGS:   52 18:02:47    -2741.128576        0.2137\n",
      "BFGS:   53 18:02:48    -2741.153988        1.2550\n",
      "BFGS:   54 18:02:49    -2741.176823        0.4380\n",
      "BFGS:   55 18:02:50    -2741.201868        0.3434\n",
      "BFGS:   56 18:02:50    -2741.249274        1.1248\n",
      "BFGS:   57 18:02:51    -2741.281815        0.3098\n",
      "BFGS:   58 18:02:52    -2741.310514        0.2767\n",
      "BFGS:   59 18:02:52    -2741.342365        0.2823\n",
      "BFGS:   60 18:02:53    -2741.361684        0.4295\n",
      "BFGS:   61 18:02:54    -2741.376201        0.2179\n",
      "BFGS:   62 18:02:54    -2741.391719        0.2201\n",
      "BFGS:   63 18:02:55    -2741.408760        0.2781\n",
      "BFGS:   64 18:02:56    -2741.421282        0.2645\n",
      "BFGS:   65 18:02:57    -2741.432054        0.2995\n",
      "BFGS:   66 18:02:57    -2741.442459        0.1955\n",
      "BFGS:   67 18:02:58    -2741.453864        0.2053\n",
      "BFGS:   68 18:02:59    -2741.464901        0.2170\n",
      "BFGS:   69 18:02:59    -2741.473686        0.1916\n",
      "BFGS:   70 18:03:00    -2741.480948        0.1956\n",
      "BFGS:   71 18:03:01    -2741.488106        0.1659\n",
      "BFGS:   72 18:03:01    -2741.496694        0.1640\n",
      "BFGS:   73 18:03:02    -2741.503252        0.1282\n",
      "BFGS:   74 18:03:03    -2741.507607        0.1032\n",
      "BFGS:   75 18:03:03    -2741.513117        0.1254\n",
      "BFGS:   76 18:03:04    -2741.518960        0.1236\n",
      "BFGS:   77 18:03:05    -2741.523979        0.1111\n",
      "BFGS:   78 18:03:05    -2741.527428        0.1058\n",
      "BFGS:   79 18:03:06    -2741.530391        0.0985\n",
      "BFGS:   80 18:03:07    -2741.533470        0.1368\n",
      "BFGS:   81 18:03:07    -2741.536959        0.1093\n",
      "BFGS:   82 18:03:08    -2741.540582        0.0965\n",
      "BFGS:   83 18:03:08    -2741.542960        0.1123\n",
      "BFGS:   84 18:03:09    -2741.545555        0.1035\n",
      "BFGS:   85 18:03:10    -2741.548115        0.1059\n",
      "BFGS:   86 18:03:10    -2741.550272        0.0876\n",
      "BFGS:   87 18:03:11    -2741.552052        0.0951\n",
      "BFGS:   88 18:03:11    -2741.553794        0.1051\n",
      "BFGS:   89 18:03:12    -2741.555704        0.0831\n",
      "BFGS:   90 18:03:12    -2741.557713        0.1001\n",
      "BFGS:   91 18:03:13    -2741.559438        0.0690\n",
      "BFGS:   92 18:03:14    -2741.560671        0.0462\n"
     ]
    },
    {
     "name": "stderr",
     "output_type": "stream",
     "text": [
      " 91%|█████████ | 216/238 [2:37:29<12:44, 34.74s/it]"
     ]
    },
    {
     "name": "stdout",
     "output_type": "stream",
     "text": [
      "      Step     Time          Energy         fmax\n",
      "BFGS:    0 18:03:15    -2934.912558        4.3923\n",
      "BFGS:    1 18:03:16    -2935.922633        3.5950\n",
      "BFGS:    2 18:03:17    -2936.348487        1.2585\n",
      "BFGS:    3 18:03:18    -2936.605196        1.7456\n",
      "BFGS:    4 18:03:18    -2936.831462        1.4550\n",
      "BFGS:    5 18:03:19    -2936.974892        0.7823\n",
      "BFGS:    6 18:03:20    -2937.061144        0.7766\n",
      "BFGS:    7 18:03:21    -2937.132640        0.5914\n",
      "BFGS:    8 18:03:21    -2937.199898        0.6774\n",
      "BFGS:    9 18:03:22    -2937.261533        0.6112\n",
      "BFGS:   10 18:03:23    -2937.328470        0.7097\n",
      "BFGS:   11 18:03:24    -2937.391933        0.5912\n",
      "BFGS:   12 18:03:24    -2937.440584        0.4263\n",
      "BFGS:   13 18:03:25    -2937.473873        0.3793\n",
      "BFGS:   14 18:03:26    -2937.502833        0.3984\n",
      "BFGS:   15 18:03:26    -2937.531697        0.4122\n",
      "BFGS:   16 18:03:27    -2937.558109        0.3479\n",
      "BFGS:   17 18:03:28    -2937.583045        0.3555\n",
      "BFGS:   18 18:03:28    -2937.606526        0.4222\n",
      "BFGS:   19 18:03:29    -2937.629717        0.3252\n",
      "BFGS:   20 18:03:30    -2937.647334        0.1937\n",
      "BFGS:   21 18:03:31    -2937.661487        0.1941\n",
      "BFGS:   22 18:03:31    -2937.674746        0.3016\n",
      "BFGS:   23 18:03:32    -2937.687334        0.2922\n",
      "BFGS:   24 18:03:33    -2937.701144        0.2816\n",
      "BFGS:   25 18:03:33    -2937.712880        0.1768\n",
      "BFGS:   26 18:03:34    -2937.727321        0.2877\n",
      "BFGS:   27 18:03:35    -2937.737133        0.2995\n",
      "BFGS:   28 18:03:36    -2937.751699        0.2247\n",
      "BFGS:   29 18:03:36    -2937.761297        0.3065\n",
      "BFGS:   30 18:03:37    -2937.771489        0.1959\n",
      "BFGS:   31 18:03:38    -2937.778028        0.4943\n",
      "BFGS:   32 18:03:39    -2937.787882        0.1529\n",
      "BFGS:   33 18:03:39    -2937.797018        0.1351\n",
      "BFGS:   34 18:03:40    -2937.807396        0.2236\n",
      "BFGS:   35 18:03:41    -2937.816981        0.2857\n",
      "BFGS:   36 18:03:42    -2937.827652        0.2361\n",
      "BFGS:   37 18:03:43    -2937.836558        0.1589\n",
      "BFGS:   38 18:03:43    -2937.842122        0.3133\n",
      "BFGS:   39 18:03:44    -2937.845063        0.4115\n",
      "BFGS:   40 18:03:45    -2937.852994        0.1862\n",
      "BFGS:   41 18:03:45    -2937.858863        0.1297\n",
      "BFGS:   42 18:03:46    -2937.866194        0.1634\n",
      "BFGS:   43 18:03:47    -2937.872198        0.1958\n",
      "BFGS:   44 18:03:48    -2937.880293        0.2388\n",
      "BFGS:   45 18:03:48    -2937.888008        0.1913\n",
      "BFGS:   46 18:03:49    -2937.894540        0.1953\n",
      "BFGS:   47 18:03:50    -2937.898445        0.2085\n",
      "BFGS:   48 18:03:50    -2937.903628        0.1785\n",
      "BFGS:   49 18:03:51    -2937.911510        0.2016\n",
      "BFGS:   50 18:03:52    -2937.916734        0.1753\n",
      "BFGS:   51 18:03:52    -2937.923134        0.1290\n",
      "BFGS:   52 18:03:53    -2937.930097        0.1963\n",
      "BFGS:   53 18:03:54    -2937.936821        0.2783\n",
      "BFGS:   54 18:03:55    -2937.941145        0.3308\n",
      "BFGS:   55 18:03:55    -2937.948012        0.1871\n",
      "BFGS:   56 18:03:56    -2937.953741        0.1940\n",
      "BFGS:   57 18:03:57    -2937.960711        0.2839\n",
      "BFGS:   58 18:03:57    -2937.967782        0.2562\n",
      "BFGS:   59 18:03:58    -2937.976146        0.4847\n",
      "BFGS:   60 18:03:59    -2937.984122        0.2682\n",
      "BFGS:   61 18:03:59    -2937.990317        0.1994\n",
      "BFGS:   62 18:04:00    -2937.995214        0.1665\n",
      "BFGS:   63 18:04:01    -2937.999616        0.2112\n",
      "BFGS:   64 18:04:02    -2938.004669        0.1532\n",
      "BFGS:   65 18:04:02    -2938.009402        0.2763\n",
      "BFGS:   66 18:04:03    -2938.014952        0.1206\n",
      "BFGS:   67 18:04:04    -2938.020362        0.1358\n",
      "BFGS:   68 18:04:04    -2938.026663        0.1230\n",
      "BFGS:   69 18:04:05    -2938.031305        0.2480\n",
      "BFGS:   70 18:04:06    -2938.036562        0.1224\n",
      "BFGS:   71 18:04:06    -2938.040645        0.2775\n",
      "BFGS:   72 18:04:07    -2938.045666        0.1796\n",
      "BFGS:   73 18:04:08    -2938.050229        0.2078\n",
      "BFGS:   74 18:04:08    -2938.056180        0.1656\n",
      "BFGS:   75 18:04:09    -2938.061503        0.2092\n",
      "BFGS:   76 18:04:10    -2938.066642        0.2552\n",
      "BFGS:   77 18:04:10    -2938.070165        0.3330\n",
      "BFGS:   78 18:04:11    -2938.076237        0.1285\n",
      "BFGS:   79 18:04:12    -2938.082841        0.1697\n",
      "BFGS:   80 18:04:12    -2938.088848        0.1342\n",
      "BFGS:   81 18:04:13    -2938.095323        0.1512\n",
      "BFGS:   82 18:04:14    -2938.100584        0.1645\n",
      "BFGS:   83 18:04:15    -2938.106536        0.1953\n",
      "BFGS:   84 18:04:15    -2938.112488        0.1473\n",
      "BFGS:   85 18:04:16    -2938.117396        0.2326\n",
      "BFGS:   86 18:04:17    -2938.120666        0.2047\n",
      "BFGS:   87 18:04:17    -2938.124486        0.1296\n",
      "BFGS:   88 18:04:18    -2938.127798        0.1740\n",
      "BFGS:   89 18:04:19    -2938.132029        0.1621\n",
      "BFGS:   90 18:04:19    -2938.135204        0.1484\n",
      "BFGS:   91 18:04:20    -2938.138811        0.1367\n",
      "BFGS:   92 18:04:21    -2938.141634        0.1201\n",
      "BFGS:   93 18:04:21    -2938.144247        0.1356\n",
      "BFGS:   94 18:04:22    -2938.146542        0.0936\n",
      "BFGS:   95 18:04:23    -2938.148926        0.0815\n",
      "BFGS:   96 18:04:23    -2938.150904        0.1903\n",
      "BFGS:   97 18:04:24    -2938.153182        0.0885\n",
      "BFGS:   98 18:04:25    -2938.155601        0.0855\n",
      "BFGS:   99 18:04:25    -2938.158335        0.0766\n",
      "BFGS:  100 18:04:26    -2938.160995        0.1149\n",
      "BFGS:  101 18:04:27    -2938.164301        0.1010\n",
      "BFGS:  102 18:04:28    -2938.167233        0.1334\n",
      "BFGS:  103 18:04:28    -2938.169954        0.1175\n",
      "BFGS:  104 18:04:29    -2938.172647        0.1186\n",
      "BFGS:  105 18:04:30    -2938.176120        0.1325\n",
      "BFGS:  106 18:04:30    -2938.179715        0.3373\n",
      "BFGS:  107 18:04:31    -2938.185847        0.1415\n",
      "BFGS:  108 18:04:32    -2938.195182        0.1773\n",
      "BFGS:  109 18:04:33    -2938.204599        0.2595\n",
      "BFGS:  110 18:04:33    -2938.213267        0.1844\n",
      "BFGS:  111 18:04:34    -2938.218433        0.4706\n",
      "BFGS:  112 18:04:35    -2938.224989        0.1763\n",
      "BFGS:  113 18:04:35    -2938.230212        0.3139\n",
      "BFGS:  114 18:04:36    -2938.238693        0.3205\n",
      "BFGS:  115 18:04:37    -2938.247062        0.2816\n",
      "BFGS:  116 18:04:38    -2938.254973        0.3246\n",
      "BFGS:  117 18:04:39    -2938.264133        0.2336\n",
      "BFGS:  118 18:04:39    -2938.269623        0.4888\n",
      "BFGS:  119 18:04:40    -2938.274656        0.5794\n",
      "BFGS:  120 18:04:41    -2938.282388        0.2999\n",
      "BFGS:  121 18:04:41    -2938.287173        0.2525\n",
      "BFGS:  122 18:04:42    -2938.294994        0.3349\n",
      "BFGS:  123 18:04:43    -2938.301514        0.3438\n",
      "BFGS:  124 18:04:43    -2938.307894        0.3114\n",
      "BFGS:  125 18:04:44    -2938.314218        0.2366\n",
      "BFGS:  126 18:04:45    -2938.319888        0.2034\n",
      "BFGS:  127 18:04:46    -2938.325598        0.2044\n",
      "BFGS:  128 18:04:46    -2938.331030        0.1752\n",
      "BFGS:  129 18:04:47    -2938.336038        0.2586\n",
      "BFGS:  130 18:04:48    -2938.340565        0.2237\n",
      "BFGS:  131 18:04:48    -2938.346828        0.1598\n",
      "BFGS:  132 18:04:49    -2938.356002        0.1442\n",
      "BFGS:  133 18:04:50    -2938.361682        0.1699\n",
      "BFGS:  134 18:04:50    -2938.368450        0.1913\n",
      "BFGS:  135 18:04:51    -2938.374255        0.1835\n",
      "BFGS:  136 18:04:52    -2938.380106        0.1359\n",
      "BFGS:  137 18:04:52    -2938.384557        0.1133\n",
      "BFGS:  138 18:04:53    -2938.388492        0.2448\n",
      "BFGS:  139 18:04:54    -2938.392086        0.1207\n",
      "BFGS:  140 18:04:54    -2938.395700        0.1096\n",
      "BFGS:  141 18:04:55    -2938.399426        0.1143\n",
      "BFGS:  142 18:04:56    -2938.402084        0.1180\n",
      "BFGS:  143 18:04:56    -2938.405333        0.1082\n",
      "BFGS:  144 18:04:57    -2938.408564        0.0873\n",
      "BFGS:  145 18:04:58    -2938.411732        0.0772\n",
      "BFGS:  146 18:04:58    -2938.414312        0.0783\n",
      "BFGS:  147 18:04:59    -2938.416510        0.1014\n",
      "BFGS:  148 18:05:00    -2938.418690        0.1052\n",
      "BFGS:  149 18:05:00    -2938.421016        0.1109\n",
      "BFGS:  150 18:05:01    -2938.423484        0.0935\n",
      "BFGS:  151 18:05:02    -2938.426259        0.1104\n",
      "BFGS:  152 18:05:02    -2938.429439        0.1154\n",
      "BFGS:  153 18:05:03    -2938.432560        0.1041\n",
      "BFGS:  154 18:05:04    -2938.435240        0.0826\n",
      "BFGS:  155 18:05:04    -2938.437550        0.0780\n",
      "BFGS:  156 18:05:05    -2938.440271        0.0997\n",
      "BFGS:  157 18:05:06    -2938.443142        0.1297\n",
      "BFGS:  158 18:05:07    -2938.445950        0.1083\n",
      "BFGS:  159 18:05:07    -2938.448430        0.0797\n",
      "BFGS:  160 18:05:08    -2938.450834        0.0817\n",
      "BFGS:  161 18:05:08    -2938.453068        0.0736\n",
      "BFGS:  162 18:05:09    -2938.455025        0.0970\n",
      "BFGS:  163 18:05:10    -2938.456747        0.0876\n",
      "BFGS:  164 18:05:10    -2938.458554        0.0732\n",
      "BFGS:  165 18:05:11    -2938.460490        0.0804\n",
      "BFGS:  166 18:05:12    -2938.462384        0.0834\n",
      "BFGS:  167 18:05:13    -2938.463818        0.0743\n",
      "BFGS:  168 18:05:13    -2938.464907        0.0556\n",
      "BFGS:  169 18:05:14    -2938.466003        0.0646\n",
      "BFGS:  170 18:05:15    -2938.467296        0.0881\n",
      "BFGS:  171 18:05:15    -2938.468658        0.0778\n",
      "BFGS:  172 18:05:16    -2938.469894        0.0485\n"
     ]
    },
    {
     "name": "stderr",
     "output_type": "stream",
     "text": [
      " 92%|█████████▏| 218/238 [2:39:32<15:36, 46.81s/it]"
     ]
    },
    {
     "name": "stdout",
     "output_type": "stream",
     "text": [
      "      Step     Time          Energy         fmax\n",
      "BFGS:    0 18:05:17    -3050.154937        4.4753\n",
      "BFGS:    1 18:05:18    -3051.171309        3.7320\n",
      "BFGS:    2 18:05:19    -3051.623803        1.1576\n",
      "BFGS:    3 18:05:20    -3051.865498        1.5869\n",
      "BFGS:    4 18:05:21    -3052.081203        1.0968\n",
      "BFGS:    5 18:05:21    -3052.178972        0.6203\n",
      "BFGS:    6 18:05:22    -3052.240879        0.5132\n",
      "BFGS:    7 18:05:23    -3052.295311        0.7171\n",
      "BFGS:    8 18:05:24    -3052.343901        0.6679\n",
      "BFGS:    9 18:05:24    -3052.380510        0.4916\n",
      "BFGS:   10 18:05:25    -3052.415158        0.3892\n",
      "BFGS:   11 18:05:26    -3052.447819        0.5258\n",
      "BFGS:   12 18:05:26    -3052.473139        0.3693\n",
      "BFGS:   13 18:05:27    -3052.494638        0.3110\n",
      "BFGS:   14 18:05:28    -3052.517322        0.3819\n",
      "BFGS:   15 18:05:28    -3052.539429        0.2801\n",
      "BFGS:   16 18:05:29    -3052.555955        0.2253\n",
      "BFGS:   17 18:05:30    -3052.570971        0.3208\n",
      "BFGS:   18 18:05:31    -3052.587828        0.3868\n",
      "BFGS:   19 18:05:31    -3052.606498        0.3307\n",
      "BFGS:   20 18:05:32    -3052.624539        0.2266\n",
      "BFGS:   21 18:05:33    -3052.639664        0.1903\n",
      "BFGS:   22 18:05:33    -3052.652262        0.1813\n",
      "BFGS:   23 18:05:34    -3052.662349        0.1771\n",
      "BFGS:   24 18:05:35    -3052.670507        0.2319\n",
      "BFGS:   25 18:05:36    -3052.677277        0.2060\n",
      "BFGS:   26 18:05:36    -3052.684989        0.1763\n",
      "BFGS:   27 18:05:37    -3052.696177        0.1873\n",
      "BFGS:   28 18:05:38    -3052.705831        0.1657\n",
      "BFGS:   29 18:05:38    -3052.715509        0.1298\n",
      "BFGS:   30 18:05:39    -3052.723420        0.1269\n",
      "BFGS:   31 18:05:40    -3052.730826        0.1720\n",
      "BFGS:   32 18:05:41    -3052.737771        0.1654\n",
      "BFGS:   33 18:05:41    -3052.743363        0.1886\n",
      "BFGS:   34 18:05:42    -3052.746598        0.3865\n",
      "BFGS:   35 18:05:43    -3052.753049        0.1629\n",
      "BFGS:   36 18:05:43    -3052.759649        0.1899\n",
      "BFGS:   37 18:05:44    -3052.766222        0.2257\n",
      "BFGS:   38 18:05:45    -3052.772425        0.1900\n",
      "BFGS:   39 18:05:46    -3052.778763        0.1392\n",
      "BFGS:   40 18:05:47    -3052.784941        0.1288\n",
      "BFGS:   41 18:05:47    -3052.790899        0.1255\n",
      "BFGS:   42 18:05:48    -3052.795908        0.1650\n",
      "BFGS:   43 18:05:49    -3052.798821        0.2636\n",
      "BFGS:   44 18:05:49    -3052.804640        0.1745\n",
      "BFGS:   45 18:05:50    -3052.810354        0.1906\n",
      "BFGS:   46 18:05:51    -3052.816871        0.2366\n",
      "BFGS:   47 18:05:52    -3052.822431        0.2027\n",
      "BFGS:   48 18:05:52    -3052.828879        0.1422\n",
      "BFGS:   49 18:05:53    -3052.834340        0.1056\n",
      "BFGS:   50 18:05:54    -3052.838799        0.1186\n",
      "BFGS:   51 18:05:54    -3052.843380        0.1721\n",
      "BFGS:   52 18:05:55    -3052.837046        0.6571\n",
      "BFGS:   53 18:05:56    -3052.852985        0.2538\n",
      "BFGS:   54 18:05:56    -3052.857521        0.1726\n",
      "BFGS:   55 18:05:57    -3052.871225        0.1599\n",
      "BFGS:   56 18:05:58    -3052.875484        0.2266\n",
      "BFGS:   57 18:05:58    -3052.887389        0.2535\n",
      "BFGS:   58 18:05:59    -3052.891966        0.1677\n",
      "BFGS:   59 18:06:00    -3052.897718        0.1133\n",
      "BFGS:   60 18:06:01    -3052.902711        0.1999\n",
      "BFGS:   61 18:06:01    -3052.905413        0.3778\n",
      "BFGS:   62 18:06:02    -3052.913031        0.2110\n",
      "BFGS:   63 18:06:03    -3052.917804        0.1735\n",
      "BFGS:   64 18:06:03    -3052.927245        0.1599\n",
      "BFGS:   65 18:06:04    -3052.930094        0.1205\n",
      "BFGS:   66 18:06:05    -3052.936757        0.1134\n",
      "BFGS:   67 18:06:05    -3052.940239        0.2056\n",
      "BFGS:   68 18:06:06    -3052.944853        0.1432\n",
      "BFGS:   69 18:06:07    -3052.949292        0.1124\n",
      "BFGS:   70 18:06:08    -3052.953931        0.1408\n",
      "BFGS:   71 18:06:08    -3052.957532        0.1684\n",
      "BFGS:   72 18:06:09    -3052.961417        0.1440\n",
      "BFGS:   73 18:06:10    -3052.964375        0.1471\n",
      "BFGS:   74 18:06:10    -3052.967299        0.1207\n",
      "BFGS:   75 18:06:11    -3052.969992        0.1323\n",
      "BFGS:   76 18:06:12    -3052.974783        0.1126\n",
      "BFGS:   77 18:06:12    -3052.978502        0.1103\n",
      "BFGS:   78 18:06:13    -3052.983442        0.1691\n",
      "BFGS:   79 18:06:14    -3052.987824        0.1717\n",
      "BFGS:   80 18:06:14    -3052.992323        0.1784\n",
      "BFGS:   81 18:06:15    -3052.996325        0.2032\n",
      "BFGS:   82 18:06:16    -3053.000758        0.2243\n",
      "BFGS:   83 18:06:16    -3053.005722        0.1926\n",
      "BFGS:   84 18:06:17    -3053.010589        0.2805\n",
      "BFGS:   85 18:06:18    -3053.014921        0.1389\n",
      "BFGS:   86 18:06:19    -3053.021105        0.1330\n",
      "BFGS:   87 18:06:19    -3053.026443        0.1683\n",
      "BFGS:   88 18:06:20    -3053.030428        0.1335\n",
      "BFGS:   89 18:06:21    -3053.034698        0.4236\n",
      "BFGS:   90 18:06:21    -3053.039402        0.1221\n",
      "BFGS:   91 18:06:22    -3053.043323        0.0936\n",
      "BFGS:   92 18:06:23    -3053.049392        0.3000\n",
      "BFGS:   93 18:06:23    -3053.052656        0.1455\n",
      "BFGS:   94 18:06:24    -3053.059155        0.1609\n",
      "BFGS:   95 18:06:25    -3053.064671        0.1111\n",
      "BFGS:   96 18:06:26    -3053.067295        0.3251\n",
      "BFGS:   97 18:06:26    -3053.071131        0.1032\n",
      "BFGS:   98 18:06:27    -3053.074346        0.0906\n",
      "BFGS:   99 18:06:28    -3053.077971        0.0889\n",
      "BFGS:  100 18:06:28    -3053.081421        0.1629\n",
      "BFGS:  101 18:06:29    -3053.086593        0.2408\n",
      "BFGS:  102 18:06:30    -3053.092234        0.1982\n",
      "BFGS:  103 18:06:31    -3053.097477        0.2470\n",
      "BFGS:  104 18:06:31    -3053.102532        0.1866\n",
      "BFGS:  105 18:06:32    -3053.107380        0.2120\n",
      "BFGS:  106 18:06:33    -3053.112437        0.1411\n",
      "BFGS:  107 18:06:33    -3053.117462        0.1193\n",
      "BFGS:  108 18:06:34    -3053.121794        0.1921\n",
      "BFGS:  109 18:06:35    -3053.128316        0.1521\n",
      "BFGS:  110 18:06:35    -3053.134455        0.1707\n",
      "BFGS:  111 18:06:36    -3053.139852        0.2448\n",
      "BFGS:  112 18:06:37    -3053.143297        0.3369\n",
      "BFGS:  113 18:06:38    -3053.147910        0.1325\n",
      "BFGS:  114 18:06:38    -3053.151131        0.0921\n",
      "BFGS:  115 18:06:39    -3053.154658        0.1382\n",
      "BFGS:  116 18:06:40    -3053.157930        0.1013\n",
      "BFGS:  117 18:06:40    -3053.161218        0.1030\n",
      "BFGS:  118 18:06:41    -3053.164279        0.1048\n",
      "BFGS:  119 18:06:42    -3053.167045        0.1127\n",
      "BFGS:  120 18:06:42    -3053.169804        0.1262\n",
      "BFGS:  121 18:06:43    -3053.172905        0.1055\n",
      "BFGS:  122 18:06:44    -3053.176169        0.1035\n",
      "BFGS:  123 18:06:44    -3053.179448        0.1313\n",
      "BFGS:  124 18:06:45    -3053.182994        0.1262\n",
      "BFGS:  125 18:06:46    -3053.187062        0.1394\n",
      "BFGS:  126 18:06:47    -3053.191451        0.1172\n",
      "BFGS:  127 18:06:47    -3053.195986        0.1214\n",
      "BFGS:  128 18:06:48    -3053.200213        0.1155\n",
      "BFGS:  129 18:06:48    -3053.204385        0.1625\n",
      "BFGS:  130 18:06:49    -3053.208039        0.1625\n",
      "BFGS:  131 18:06:50    -3053.211238        0.1003\n",
      "BFGS:  132 18:06:50    -3053.214041        0.1047\n",
      "BFGS:  133 18:06:51    -3053.216964        0.1065\n",
      "BFGS:  134 18:06:52    -3053.220027        0.1230\n",
      "BFGS:  135 18:06:52    -3053.223267        0.1148\n",
      "BFGS:  136 18:06:53    -3053.226617        0.1226\n",
      "BFGS:  137 18:06:54    -3053.230400        0.1136\n",
      "BFGS:  138 18:06:55    -3053.234181        0.1310\n",
      "BFGS:  139 18:06:55    -3053.237726        0.1026\n",
      "BFGS:  140 18:06:56    -3053.240515        0.0828\n",
      "BFGS:  141 18:06:57    -3053.243308        0.0897\n",
      "BFGS:  142 18:06:57    -3053.245521        0.0713\n",
      "BFGS:  143 18:06:58    -3053.247501        0.0634\n",
      "BFGS:  144 18:06:59    -3053.248946        0.0684\n",
      "BFGS:  145 18:06:59    -3053.250382        0.0606\n",
      "BFGS:  146 18:07:00    -3053.251841        0.0649\n",
      "BFGS:  147 18:07:00    -3053.253172        0.0654\n",
      "BFGS:  148 18:07:01    -3053.254272        0.0695\n",
      "BFGS:  149 18:07:02    -3053.255319        0.0712\n",
      "BFGS:  150 18:07:02    -3053.256466        0.0642\n",
      "BFGS:  151 18:07:03    -3053.257610        0.0575\n",
      "BFGS:  152 18:07:04    -3053.258653        0.0808\n",
      "BFGS:  153 18:07:04    -3053.259532        0.0827\n",
      "BFGS:  154 18:07:05    -3053.260364        0.0656\n",
      "BFGS:  155 18:07:06    -3053.261168        0.0659\n",
      "BFGS:  156 18:07:06    -3053.261976        0.0480\n"
     ]
    },
    {
     "name": "stderr",
     "output_type": "stream",
     "text": [
      " 92%|█████████▏| 219/238 [2:41:22<19:46, 62.47s/it]"
     ]
    },
    {
     "name": "stdout",
     "output_type": "stream",
     "text": [
      "      Step     Time          Energy         fmax\n",
      "BFGS:    0 18:07:07    -2659.596264        3.8667\n",
      "BFGS:    1 18:07:08    -2660.047331        3.5381\n",
      "BFGS:    2 18:07:09    -2660.284316        0.7025\n",
      "BFGS:    3 18:07:10    -2660.340812        0.4415\n",
      "BFGS:    4 18:07:11    -2660.407252        0.3935\n",
      "BFGS:    5 18:07:12    -2660.435391        0.4296\n",
      "BFGS:    6 18:07:12    -2660.478487        0.3030\n",
      "BFGS:    7 18:07:13    -2660.505216        0.3840\n",
      "BFGS:    8 18:07:14    -2660.526626        0.2668\n",
      "BFGS:    9 18:07:15    -2660.542491        0.1795\n",
      "BFGS:   10 18:07:16    -2660.554901        0.1724\n",
      "BFGS:   11 18:07:17    -2660.565964        0.1673\n",
      "BFGS:   12 18:07:17    -2660.574996        0.1833\n",
      "BFGS:   13 18:07:18    -2660.583740        0.1723\n",
      "BFGS:   14 18:07:19    -2660.592929        0.2509\n",
      "BFGS:   15 18:07:20    -2660.601796        0.1937\n",
      "BFGS:   16 18:07:20    -2660.609254        0.1963\n",
      "BFGS:   17 18:07:21    -2660.615479        0.1575\n",
      "BFGS:   18 18:07:22    -2660.621202        0.1275\n",
      "BFGS:   19 18:07:22    -2660.626551        0.1091\n",
      "BFGS:   20 18:07:23    -2660.631266        0.1045\n",
      "BFGS:   21 18:07:24    -2660.635361        0.0995\n",
      "BFGS:   22 18:07:25    -2660.639214        0.1141\n",
      "BFGS:   23 18:07:25    -2660.642978        0.1032\n",
      "BFGS:   24 18:07:26    -2660.646384        0.1028\n",
      "BFGS:   25 18:07:27    -2660.649257        0.0901\n",
      "BFGS:   26 18:07:27    -2660.651620        0.0860\n",
      "BFGS:   27 18:07:28    -2660.653575        0.0722\n",
      "BFGS:   28 18:07:29    -2660.655216        0.0764\n",
      "BFGS:   29 18:07:29    -2660.656665        0.0877\n",
      "BFGS:   30 18:07:30    -2660.658052        0.0724\n",
      "BFGS:   31 18:07:31    -2660.659435        0.0628\n",
      "BFGS:   32 18:07:31    -2660.660724        0.0574\n",
      "BFGS:   33 18:07:32    -2660.661878        0.0553\n",
      "BFGS:   34 18:07:33    -2660.662982        0.0606\n",
      "BFGS:   35 18:07:33    -2660.664161        0.0703\n",
      "BFGS:   36 18:07:34    -2660.665401        0.0603\n",
      "BFGS:   37 18:07:35    -2660.666549        0.0575\n",
      "BFGS:   38 18:07:35    -2660.667539        0.0510\n",
      "BFGS:   39 18:07:36    -2660.668402        0.0527\n",
      "BFGS:   40 18:07:37    -2660.669210        0.0599\n",
      "BFGS:   41 18:07:38    -2660.669894        0.0415\n"
     ]
    },
    {
     "name": "stderr",
     "output_type": "stream",
     "text": [
      " 93%|█████████▎| 222/238 [2:41:53<08:19, 31.19s/it]"
     ]
    },
    {
     "name": "stdout",
     "output_type": "stream",
     "text": [
      "      Step     Time          Energy         fmax\n",
      "BFGS:    0 18:07:39    -2341.246968        4.3861\n",
      "BFGS:    1 18:07:40    -2342.015043        3.3800\n",
      "BFGS:    2 18:07:40    -2342.289292        1.4154\n",
      "BFGS:    3 18:07:41    -2342.465741        1.2005\n",
      "BFGS:    4 18:07:42    -2342.559458        0.6749\n",
      "BFGS:    5 18:07:43    -2342.601892        0.3871\n",
      "BFGS:    6 18:07:44    -2342.625926        0.3569\n",
      "BFGS:    7 18:07:44    -2342.653926        0.4103\n",
      "BFGS:    8 18:07:45    -2342.675324        0.2892\n",
      "BFGS:    9 18:07:46    -2342.693149        0.3299\n",
      "BFGS:   10 18:07:46    -2342.710778        0.3006\n",
      "BFGS:   11 18:07:47    -2342.728536        0.3148\n",
      "BFGS:   12 18:07:47    -2342.743550        0.2587\n",
      "BFGS:   13 18:07:48    -2342.754726        0.2182\n",
      "BFGS:   14 18:07:49    -2342.764128        0.2239\n",
      "BFGS:   15 18:07:49    -2342.774137        0.2606\n",
      "BFGS:   16 18:07:50    -2342.784451        0.2187\n",
      "BFGS:   17 18:07:51    -2342.793786        0.2443\n",
      "BFGS:   18 18:07:51    -2342.802686        0.2503\n",
      "BFGS:   19 18:07:52    -2342.806677        0.7214\n",
      "BFGS:   20 18:07:53    -2342.817027        0.2357\n",
      "BFGS:   21 18:07:53    -2342.824109        0.1591\n",
      "BFGS:   22 18:07:54    -2342.831689        0.2526\n",
      "BFGS:   23 18:07:55    -2342.835992        0.1947\n",
      "BFGS:   24 18:07:55    -2342.843513        0.2269\n",
      "BFGS:   25 18:07:56    -2342.850091        0.2324\n",
      "BFGS:   26 18:07:57    -2342.852214        0.4702\n",
      "BFGS:   27 18:07:57    -2342.857926        0.1282\n",
      "BFGS:   28 18:07:58    -2342.861821        0.1007\n",
      "BFGS:   29 18:07:59    -2342.865780        0.1134\n",
      "BFGS:   30 18:07:59    -2342.868982        0.1585\n",
      "BFGS:   31 18:08:00    -2342.872318        0.1753\n",
      "BFGS:   32 18:08:00    -2342.875599        0.1408\n",
      "BFGS:   33 18:08:01    -2342.878249        0.1257\n",
      "BFGS:   34 18:08:02    -2342.881036        0.1292\n",
      "BFGS:   35 18:08:02    -2342.884193        0.1562\n",
      "BFGS:   36 18:08:03    -2342.886535        0.2252\n",
      "BFGS:   37 18:08:03    -2342.888732        0.1845\n",
      "BFGS:   38 18:08:04    -2342.890433        0.1329\n",
      "BFGS:   39 18:08:05    -2342.892199        0.0841\n",
      "BFGS:   40 18:08:05    -2342.893450        0.0668\n",
      "BFGS:   41 18:08:06    -2342.895101        0.0789\n",
      "BFGS:   42 18:08:07    -2342.896254        0.0849\n",
      "BFGS:   43 18:08:07    -2342.897338        0.0765\n",
      "BFGS:   44 18:08:08    -2342.898415        0.0775\n",
      "BFGS:   45 18:08:08    -2342.899439        0.0614\n",
      "BFGS:   46 18:08:09    -2342.900224        0.1180\n",
      "BFGS:   47 18:08:09    -2342.901023        0.0527\n",
      "BFGS:   48 18:08:10    -2342.901862        0.0455\n"
     ]
    },
    {
     "name": "stderr",
     "output_type": "stream",
     "text": [
      " 94%|█████████▎| 223/238 [2:42:26<07:51, 31.46s/it]"
     ]
    },
    {
     "name": "stdout",
     "output_type": "stream",
     "text": [
      "      Step     Time          Energy         fmax\n",
      "BFGS:    0 18:08:11    -2451.696617        3.9289\n",
      "BFGS:    1 18:08:12    -2452.470569        2.1059\n",
      "BFGS:    2 18:08:13    -2452.746131        1.3534\n",
      "BFGS:    3 18:08:14    -2452.970765        1.4075\n",
      "BFGS:    4 18:08:15    -2453.114176        0.9709\n",
      "BFGS:    5 18:08:16    -2453.194178        0.4080\n",
      "BFGS:    6 18:08:16    -2453.223098        0.3820\n",
      "BFGS:    7 18:08:17    -2453.248335        0.2990\n",
      "BFGS:    8 18:08:18    -2453.262751        0.2295\n",
      "BFGS:    9 18:08:18    -2453.275546        0.3038\n",
      "BFGS:   10 18:08:19    -2453.288377        0.2949\n",
      "BFGS:   11 18:08:20    -2453.300842        0.2390\n",
      "BFGS:   12 18:08:20    -2453.310934        0.1801\n",
      "BFGS:   13 18:08:21    -2453.318937        0.1482\n",
      "BFGS:   14 18:08:22    -2453.326193        0.2127\n",
      "BFGS:   15 18:08:22    -2453.333724        0.2438\n",
      "BFGS:   16 18:08:23    -2453.341358        0.1544\n",
      "BFGS:   17 18:08:23    -2453.348772        0.1505\n",
      "BFGS:   18 18:08:24    -2453.356323        0.1754\n",
      "BFGS:   19 18:08:25    -2453.363414        0.2515\n",
      "BFGS:   20 18:08:25    -2453.369809        0.2257\n",
      "BFGS:   21 18:08:26    -2453.374445        0.3539\n",
      "BFGS:   22 18:08:27    -2453.380706        0.1376\n",
      "BFGS:   23 18:08:27    -2453.387219        0.1662\n",
      "BFGS:   24 18:08:28    -2453.393084        0.1716\n",
      "BFGS:   25 18:08:29    -2453.398831        0.1602\n",
      "BFGS:   26 18:08:29    -2453.404813        0.1607\n",
      "BFGS:   27 18:08:30    -2453.410483        0.2304\n",
      "BFGS:   28 18:08:31    -2453.414287        0.2362\n",
      "BFGS:   29 18:08:31    -2453.418337        0.1630\n",
      "BFGS:   30 18:08:32    -2453.421481        0.1468\n",
      "BFGS:   31 18:08:32    -2453.424894        0.1306\n",
      "BFGS:   32 18:08:33    -2453.427879        0.1315\n",
      "BFGS:   33 18:08:34    -2453.431738        0.1341\n",
      "BFGS:   34 18:08:34    -2453.435679        0.1071\n",
      "BFGS:   35 18:08:35    -2453.438569        0.2984\n",
      "BFGS:   36 18:08:36    -2453.441936        0.1741\n",
      "BFGS:   37 18:08:36    -2453.444432        0.0952\n",
      "BFGS:   38 18:08:37    -2453.447776        0.2402\n",
      "BFGS:   39 18:08:38    -2453.450096        0.1408\n",
      "BFGS:   40 18:08:38    -2453.453587        0.2052\n",
      "BFGS:   41 18:08:39    -2453.457213        0.0984\n",
      "BFGS:   42 18:08:40    -2453.459106        0.3211\n",
      "BFGS:   43 18:08:40    -2453.463151        0.1295\n",
      "BFGS:   44 18:08:41    -2453.467861        0.1125\n",
      "BFGS:   45 18:08:42    -2453.473033        0.1905\n",
      "BFGS:   46 18:08:42    -2453.475771        0.2349\n",
      "BFGS:   47 18:08:43    -2453.480039        0.2363\n",
      "BFGS:   48 18:08:44    -2453.485940        0.1896\n",
      "BFGS:   49 18:08:44    -2453.493159        0.2168\n",
      "BFGS:   50 18:08:45    -2453.496311        0.1428\n",
      "BFGS:   51 18:08:46    -2453.499025        0.4428\n",
      "BFGS:   52 18:08:46    -2453.503438        0.0773\n",
      "BFGS:   53 18:08:47    -2453.506073        0.0821\n",
      "BFGS:   54 18:08:47    -2453.509337        0.1106\n",
      "BFGS:   55 18:08:48    -2453.511209        0.1215\n",
      "BFGS:   56 18:08:49    -2453.513363        0.1142\n",
      "BFGS:   57 18:08:49    -2453.514870        0.1162\n",
      "BFGS:   58 18:08:50    -2453.516629        0.1484\n",
      "BFGS:   59 18:08:51    -2453.518565        0.1297\n",
      "BFGS:   60 18:08:51    -2453.520900        0.0853\n",
      "BFGS:   61 18:08:52    -2453.522481        0.2542\n",
      "BFGS:   62 18:08:52    -2453.524749        0.0850\n",
      "BFGS:   63 18:08:53    -2453.526634        0.0695\n",
      "BFGS:   64 18:08:53    -2453.529474        0.0790\n",
      "BFGS:   65 18:08:54    -2453.531052        0.0820\n",
      "BFGS:   66 18:08:55    -2453.532933        0.0753\n",
      "BFGS:   67 18:08:55    -2453.534304        0.0701\n",
      "BFGS:   68 18:08:56    -2453.535625        0.0723\n",
      "BFGS:   69 18:08:56    -2453.536876        0.1065\n",
      "BFGS:   70 18:08:57    -2453.537971        0.0768\n",
      "BFGS:   71 18:08:58    -2453.539249        0.1357\n",
      "BFGS:   72 18:08:58    -2453.540575        0.1388\n",
      "BFGS:   73 18:08:59    -2453.542415        0.0805\n",
      "BFGS:   74 18:08:59    -2453.543592        0.0641\n",
      "BFGS:   75 18:09:00    -2453.545070        0.0648\n",
      "BFGS:   76 18:09:01    -2453.545992        0.0552\n",
      "BFGS:   77 18:09:01    -2453.546766        0.0864\n",
      "BFGS:   78 18:09:02    -2453.547280        0.0970\n",
      "BFGS:   79 18:09:02    -2453.547927        0.0400\n"
     ]
    },
    {
     "name": "stderr",
     "output_type": "stream",
     "text": [
      " 95%|█████████▍| 225/238 [2:43:18<05:51, 27.03s/it]"
     ]
    },
    {
     "name": "stdout",
     "output_type": "stream",
     "text": [
      "      Step     Time          Energy         fmax\n",
      "BFGS:    0 18:09:03    -2738.032443        5.1961\n",
      "BFGS:    1 18:09:04    -2739.097300        4.5754\n",
      "BFGS:    2 18:09:05    -2739.563306        1.5235\n",
      "BFGS:    3 18:09:06    -2739.798260        1.6787\n",
      "BFGS:    4 18:09:07    -2740.023650        1.3423\n",
      "BFGS:    5 18:09:07    -2740.131131        0.7126\n",
      "BFGS:    6 18:09:08    -2740.199647        0.6029\n",
      "BFGS:    7 18:09:09    -2740.257406        0.7324\n",
      "BFGS:    8 18:09:09    -2740.309623        0.5016\n",
      "BFGS:    9 18:09:10    -2740.350643        0.5561\n",
      "BFGS:   10 18:09:11    -2740.391715        0.6047\n",
      "BFGS:   11 18:09:11    -2740.434782        0.5800\n",
      "BFGS:   12 18:09:12    -2740.469264        0.4561\n",
      "BFGS:   13 18:09:13    -2740.496668        0.3662\n",
      "BFGS:   14 18:09:13    -2740.521590        0.3903\n",
      "BFGS:   15 18:09:14    -2740.546015        0.3551\n",
      "BFGS:   16 18:09:15    -2740.568629        0.3045\n",
      "BFGS:   17 18:09:15    -2740.591049        0.3354\n",
      "BFGS:   18 18:09:16    -2740.613418        0.4278\n",
      "BFGS:   19 18:09:17    -2740.633766        0.4023\n",
      "BFGS:   20 18:09:18    -2740.649792        0.2111\n",
      "BFGS:   21 18:09:18    -2740.660341        0.2515\n",
      "BFGS:   22 18:09:19    -2740.669395        0.2454\n",
      "BFGS:   23 18:09:20    -2740.678316        0.2450\n",
      "BFGS:   24 18:09:20    -2740.691715        0.2107\n",
      "BFGS:   25 18:09:21    -2740.704370        0.3139\n",
      "BFGS:   26 18:09:22    -2740.725021        0.3788\n",
      "BFGS:   27 18:09:22    -2740.745424        0.3778\n",
      "BFGS:   28 18:09:23    -2740.763829        0.3932\n",
      "BFGS:   29 18:09:24    -2740.767376        0.5316\n",
      "BFGS:   30 18:09:25    -2740.784928        0.2518\n",
      "BFGS:   31 18:09:25    -2740.794007        0.3018\n",
      "BFGS:   32 18:09:26    -2740.810928        0.3774\n",
      "BFGS:   33 18:09:27    -2740.823606        0.2588\n",
      "BFGS:   34 18:09:27    -2740.837621        0.4911\n",
      "BFGS:   35 18:09:28    -2740.851864        0.3635\n",
      "BFGS:   36 18:09:29    -2740.863532        0.2402\n",
      "BFGS:   37 18:09:29    -2740.875088        0.1913\n",
      "BFGS:   38 18:09:30    -2740.889618        0.1802\n",
      "BFGS:   39 18:09:31    -2740.899020        0.2852\n",
      "BFGS:   40 18:09:31    -2740.911629        0.2772\n",
      "BFGS:   41 18:09:32    -2740.920720        0.5036\n",
      "BFGS:   42 18:09:33    -2740.932649        0.2543\n",
      "BFGS:   43 18:09:33    -2740.943942        0.1895\n",
      "BFGS:   44 18:09:34    -2740.953616        0.1849\n",
      "BFGS:   45 18:09:35    -2740.967052        0.2230\n",
      "BFGS:   46 18:09:36    -2740.978607        0.1685\n",
      "BFGS:   47 18:09:36    -2740.988255        0.3432\n",
      "BFGS:   48 18:09:37    -2740.996078        0.1909\n",
      "BFGS:   49 18:09:38    -2741.004653        0.2086\n",
      "BFGS:   50 18:09:38    -2741.018002        0.4589\n",
      "BFGS:   51 18:09:39    -2741.027836        0.4305\n",
      "BFGS:   52 18:09:40    -2741.039892        0.4034\n",
      "BFGS:   53 18:09:41    -2741.053275        0.2434\n",
      "BFGS:   54 18:09:41    -2741.067293        0.4699\n",
      "BFGS:   55 18:09:42    -2741.081137        0.4377\n",
      "BFGS:   56 18:09:42    -2741.093306        0.3426\n",
      "BFGS:   57 18:09:43    -2741.109237        0.2639\n",
      "BFGS:   58 18:09:44    -2741.126142        0.2360\n",
      "BFGS:   59 18:09:44    -2741.136887        0.1877\n",
      "BFGS:   60 18:09:45    -2741.147899        0.1909\n",
      "BFGS:   61 18:09:45    -2741.153528        0.4392\n",
      "BFGS:   62 18:09:46    -2741.159064        0.1978\n",
      "BFGS:   63 18:09:47    -2741.165406        0.1355\n",
      "BFGS:   64 18:09:48    -2741.171727        0.1481\n",
      "BFGS:   65 18:09:48    -2741.175811        0.1611\n",
      "BFGS:   66 18:09:49    -2741.181312        0.1398\n",
      "BFGS:   67 18:09:49    -2741.186665        0.1871\n",
      "BFGS:   68 18:09:50    -2741.192481        0.2449\n",
      "BFGS:   69 18:09:51    -2741.198642        0.2700\n",
      "BFGS:   70 18:09:51    -2741.205005        0.2212\n",
      "BFGS:   71 18:09:52    -2741.211803        0.1828\n",
      "BFGS:   72 18:09:52    -2741.218041        0.1556\n",
      "BFGS:   73 18:09:53    -2741.224911        0.1421\n",
      "BFGS:   74 18:09:54    -2741.232227        0.1632\n",
      "BFGS:   75 18:09:54    -2741.240662        0.2276\n",
      "BFGS:   76 18:09:55    -2741.248596        0.2673\n",
      "BFGS:   77 18:09:56    -2741.255401        0.1674\n",
      "BFGS:   78 18:09:57    -2741.260077        0.2368\n",
      "BFGS:   79 18:09:57    -2741.265386        0.1092\n",
      "BFGS:   80 18:09:58    -2741.271400        0.1978\n",
      "BFGS:   81 18:09:59    -2741.276411        0.1958\n",
      "BFGS:   82 18:09:59    -2741.281437        0.2250\n",
      "BFGS:   83 18:10:00    -2741.286534        0.1738\n",
      "BFGS:   84 18:10:01    -2741.292328        0.1980\n",
      "BFGS:   85 18:10:01    -2741.297755        0.1664\n",
      "BFGS:   86 18:10:02    -2741.302155        0.1031\n",
      "BFGS:   87 18:10:03    -2741.305821        0.1918\n",
      "BFGS:   88 18:10:03    -2741.308806        0.3361\n",
      "BFGS:   89 18:10:04    -2741.313327        0.2108\n",
      "BFGS:   90 18:10:04    -2741.318617        0.1599\n",
      "BFGS:   91 18:10:05    -2741.322549        0.1339\n",
      "BFGS:   92 18:10:06    -2741.326188        0.1068\n",
      "BFGS:   93 18:10:06    -2741.329201        0.0975\n",
      "BFGS:   94 18:10:07    -2741.332430        0.0851\n",
      "BFGS:   95 18:10:07    -2741.335755        0.0912\n",
      "BFGS:   96 18:10:08    -2741.338808        0.0921\n",
      "BFGS:   97 18:10:09    -2741.341066        0.0890\n",
      "BFGS:   98 18:10:09    -2741.342928        0.0812\n",
      "BFGS:   99 18:10:10    -2741.344705        0.0785\n",
      "BFGS:  100 18:10:10    -2741.347067        0.0976\n",
      "BFGS:  101 18:10:11    -2741.349681        0.1123\n",
      "BFGS:  102 18:10:12    -2741.352204        0.1259\n",
      "BFGS:  103 18:10:12    -2741.354395        0.0956\n",
      "BFGS:  104 18:10:13    -2741.356247        0.0872\n",
      "BFGS:  105 18:10:14    -2741.357706        0.0749\n",
      "BFGS:  106 18:10:14    -2741.358894        0.0765\n",
      "BFGS:  107 18:10:15    -2741.359904        0.0655\n",
      "BFGS:  108 18:10:15    -2741.360908        0.0581\n",
      "BFGS:  109 18:10:16    -2741.361941        0.0693\n",
      "BFGS:  110 18:10:17    -2741.363003        0.0633\n",
      "BFGS:  111 18:10:17    -2741.363982        0.0581\n",
      "BFGS:  112 18:10:18    -2741.364838        0.0591\n",
      "BFGS:  113 18:10:18    -2741.365547        0.0464\n"
     ]
    },
    {
     "name": "stderr",
     "output_type": "stream",
     "text": [
      " 96%|█████████▌| 229/238 [2:44:34<02:25, 16.19s/it]"
     ]
    },
    {
     "name": "stdout",
     "output_type": "stream",
     "text": [
      "      Step     Time          Energy         fmax\n",
      "BFGS:    0 18:10:20    -2934.936934        5.0949\n",
      "BFGS:    1 18:10:21    -2936.088545        4.5085\n",
      "BFGS:    2 18:10:22    -2936.601844        1.3814\n",
      "BFGS:    3 18:10:23    -2936.816846        1.4038\n",
      "BFGS:    4 18:10:23    -2936.982945        0.8800\n",
      "BFGS:    5 18:10:24    -2937.045821        0.4115\n",
      "BFGS:    6 18:10:25    -2937.078820        0.4490\n",
      "BFGS:    7 18:10:26    -2937.121058        0.5465\n",
      "BFGS:    8 18:10:26    -2937.168092        0.5119\n",
      "BFGS:    9 18:10:27    -2937.200226        0.3290\n",
      "BFGS:   10 18:10:28    -2937.228110        0.4318\n",
      "BFGS:   11 18:10:29    -2937.256226        0.3358\n",
      "BFGS:   12 18:10:30    -2937.282942        0.4386\n",
      "BFGS:   13 18:10:30    -2937.307339        0.3481\n",
      "BFGS:   14 18:10:31    -2937.331170        0.3359\n",
      "BFGS:   15 18:10:32    -2937.356147        0.3170\n",
      "BFGS:   16 18:10:33    -2937.380990        0.3199\n",
      "BFGS:   17 18:10:33    -2937.404447        0.2762\n",
      "BFGS:   18 18:10:34    -2937.425102        0.2462\n",
      "BFGS:   19 18:10:35    -2937.442096        0.2660\n",
      "BFGS:   20 18:10:36    -2937.456791        0.1966\n",
      "BFGS:   21 18:10:36    -2937.470415        0.1915\n",
      "BFGS:   22 18:10:37    -2937.485622        0.2768\n",
      "BFGS:   23 18:10:38    -2937.502958        0.3544\n",
      "BFGS:   24 18:10:39    -2937.524900        0.3213\n",
      "BFGS:   25 18:10:39    -2937.547932        0.3548\n",
      "BFGS:   26 18:10:40    -2937.577039        0.4087\n",
      "BFGS:   27 18:10:41    -2937.600348        0.3770\n",
      "BFGS:   28 18:10:41    -2937.635523        0.3262\n",
      "BFGS:   29 18:10:42    -2937.653984        0.9585\n",
      "BFGS:   30 18:10:43    -2937.691097        0.4453\n",
      "BFGS:   31 18:10:44    -2937.729594        0.4222\n",
      "BFGS:   32 18:10:45    -2937.770776        0.3361\n",
      "BFGS:   33 18:10:45    -2937.796361        0.2681\n",
      "BFGS:   34 18:10:46    -2937.812751        0.2607\n",
      "BFGS:   35 18:10:47    -2937.829082        0.3062\n",
      "BFGS:   36 18:10:47    -2937.842425        0.2140\n",
      "BFGS:   37 18:10:48    -2937.865601        0.2070\n",
      "BFGS:   38 18:10:49    -2937.875243        0.2029\n",
      "BFGS:   39 18:10:49    -2937.889877        0.1567\n",
      "BFGS:   40 18:10:50    -2937.900904        0.1650\n",
      "BFGS:   41 18:10:51    -2937.911934        0.1368\n",
      "BFGS:   42 18:10:52    -2937.920971        0.1406\n",
      "BFGS:   43 18:10:52    -2937.929159        0.1502\n",
      "BFGS:   44 18:10:53    -2937.936750        0.1269\n",
      "BFGS:   45 18:10:54    -2937.943977        0.1667\n",
      "BFGS:   46 18:10:55    -2937.951449        0.1317\n",
      "BFGS:   47 18:10:55    -2937.957744        0.1194\n",
      "BFGS:   48 18:10:56    -2937.963682        0.1159\n",
      "BFGS:   49 18:10:57    -2937.969692        0.1230\n",
      "BFGS:   50 18:10:57    -2937.975173        0.1391\n",
      "BFGS:   51 18:10:58    -2937.979823        0.1156\n",
      "BFGS:   52 18:10:59    -2937.983836        0.0948\n",
      "BFGS:   53 18:10:59    -2937.987598        0.0966\n",
      "BFGS:   54 18:11:00    -2937.991176        0.1710\n",
      "BFGS:   55 18:11:01    -2937.995028        0.1249\n",
      "BFGS:   56 18:11:01    -2937.999185        0.1175\n",
      "BFGS:   57 18:11:02    -2938.003696        0.1092\n",
      "BFGS:   58 18:11:03    -2938.006815        0.0815\n",
      "BFGS:   59 18:11:03    -2938.009748        0.0849\n",
      "BFGS:   60 18:11:04    -2938.011966        0.0781\n",
      "BFGS:   61 18:11:05    -2938.014278        0.0909\n",
      "BFGS:   62 18:11:05    -2938.016263        0.0867\n",
      "BFGS:   63 18:11:06    -2938.017956        0.0848\n",
      "BFGS:   64 18:11:06    -2938.019166        0.0623\n",
      "BFGS:   65 18:11:07    -2938.020253        0.0669\n",
      "BFGS:   66 18:11:08    -2938.021177        0.0768\n",
      "BFGS:   67 18:11:08    -2938.022170        0.0669\n",
      "BFGS:   68 18:11:09    -2938.023125        0.0512\n",
      "BFGS:   69 18:11:10    -2938.024080        0.0528\n",
      "BFGS:   70 18:11:10    -2938.024964        0.0467\n"
     ]
    },
    {
     "name": "stderr",
     "output_type": "stream",
     "text": [
      " 97%|█████████▋| 230/238 [2:45:26<03:17, 24.72s/it]"
     ]
    },
    {
     "name": "stdout",
     "output_type": "stream",
     "text": [
      "      Step     Time          Energy         fmax\n",
      "BFGS:    0 18:11:11    -2824.820716        4.3096\n",
      "BFGS:    1 18:11:12    -2825.860001        3.0800\n",
      "BFGS:    2 18:11:13    -2826.294916        1.2018\n",
      "BFGS:    3 18:11:14    -2826.492199        1.2648\n",
      "BFGS:    4 18:11:15    -2826.617425        0.8023\n",
      "BFGS:    5 18:11:15    -2826.685611        0.5243\n",
      "BFGS:    6 18:11:16    -2826.734646        0.5928\n",
      "BFGS:    7 18:11:17    -2826.790773        0.6135\n",
      "BFGS:    8 18:11:18    -2826.845206        0.6507\n",
      "BFGS:    9 18:11:18    -2826.891856        0.5208\n",
      "BFGS:   10 18:11:19    -2826.938113        0.5889\n",
      "BFGS:   11 18:11:20    -2826.978789        0.5648\n",
      "BFGS:   12 18:11:20    -2827.007634        0.3725\n",
      "BFGS:   13 18:11:21    -2827.030319        0.3617\n",
      "BFGS:   14 18:11:22    -2827.056100        0.5823\n",
      "BFGS:   15 18:11:22    -2827.087897        0.5990\n",
      "BFGS:   16 18:11:23    -2827.119949        0.3696\n",
      "BFGS:   17 18:11:24    -2827.145256        0.2732\n",
      "BFGS:   18 18:11:25    -2827.167105        0.2861\n",
      "BFGS:   19 18:11:25    -2827.187282        0.3250\n",
      "BFGS:   20 18:11:26    -2827.203361        0.1994\n",
      "BFGS:   21 18:11:27    -2827.214754        0.2407\n",
      "BFGS:   22 18:11:27    -2827.224830        0.2985\n",
      "BFGS:   23 18:11:28    -2827.235934        0.2823\n",
      "BFGS:   24 18:11:29    -2827.250079        0.2583\n",
      "BFGS:   25 18:11:29    -2827.263212        0.2207\n",
      "BFGS:   26 18:11:30    -2827.271810        0.1810\n",
      "BFGS:   27 18:11:30    -2827.280748        0.1832\n",
      "BFGS:   28 18:11:31    -2827.288525        0.1562\n",
      "BFGS:   29 18:11:32    -2827.294635        0.1878\n",
      "BFGS:   30 18:11:32    -2827.300637        0.1829\n",
      "BFGS:   31 18:11:33    -2827.307316        0.1544\n",
      "BFGS:   32 18:11:34    -2827.317790        0.1363\n",
      "BFGS:   33 18:11:34    -2827.324030        0.1669\n",
      "BFGS:   34 18:11:35    -2827.331935        0.1642\n",
      "BFGS:   35 18:11:36    -2827.338944        0.1493\n",
      "BFGS:   36 18:11:36    -2827.345082        0.1743\n",
      "BFGS:   37 18:11:37    -2827.349767        0.1613\n",
      "BFGS:   38 18:11:38    -2827.353927        0.1345\n",
      "BFGS:   39 18:11:38    -2827.359090        0.1680\n",
      "BFGS:   40 18:11:39    -2827.363615        0.1455\n",
      "BFGS:   41 18:11:40    -2827.368268        0.1160\n",
      "BFGS:   42 18:11:41    -2827.372167        0.0926\n",
      "BFGS:   43 18:11:41    -2827.375626        0.0880\n",
      "BFGS:   44 18:11:42    -2827.379059        0.0869\n",
      "BFGS:   45 18:11:42    -2827.382397        0.0958\n",
      "BFGS:   46 18:11:43    -2827.385514        0.1569\n",
      "BFGS:   47 18:11:44    -2827.388698        0.1198\n",
      "BFGS:   48 18:11:44    -2827.392794        0.1248\n",
      "BFGS:   49 18:11:45    -2827.396658        0.1061\n",
      "BFGS:   50 18:11:46    -2827.399713        0.0948\n",
      "BFGS:   51 18:11:46    -2827.403409        0.1099\n",
      "BFGS:   52 18:11:47    -2827.407484        0.1269\n",
      "BFGS:   53 18:11:48    -2827.413011        0.1431\n",
      "BFGS:   54 18:11:48    -2827.419734        0.1821\n",
      "BFGS:   55 18:11:49    -2827.427574        0.2143\n",
      "BFGS:   56 18:11:49    -2827.433428        0.3267\n",
      "BFGS:   57 18:11:50    -2827.442513        0.1967\n",
      "BFGS:   58 18:11:51    -2827.450719        0.1498\n",
      "BFGS:   59 18:11:51    -2827.461697        0.1252\n",
      "BFGS:   60 18:11:52    -2827.466794        0.1002\n",
      "BFGS:   61 18:11:53    -2827.471161        0.0995\n",
      "BFGS:   62 18:11:53    -2827.475508        0.1197\n",
      "BFGS:   63 18:11:54    -2827.480217        0.1103\n",
      "BFGS:   64 18:11:55    -2827.484031        0.1688\n",
      "BFGS:   65 18:11:55    -2827.486956        0.1026\n",
      "BFGS:   66 18:11:56    -2827.489847        0.1181\n",
      "BFGS:   67 18:11:57    -2827.493231        0.1342\n",
      "BFGS:   68 18:11:57    -2827.497043        0.1197\n",
      "BFGS:   69 18:11:58    -2827.501816        0.1150\n",
      "BFGS:   70 18:11:59    -2827.506838        0.0986\n",
      "BFGS:   71 18:11:59    -2827.512005        0.1172\n",
      "BFGS:   72 18:12:00    -2827.516594        0.1272\n",
      "BFGS:   73 18:12:00    -2827.520348        0.0946\n",
      "BFGS:   74 18:12:01    -2827.523685        0.0994\n",
      "BFGS:   75 18:12:02    -2827.527156        0.0969\n",
      "BFGS:   76 18:12:02    -2827.530708        0.1181\n",
      "BFGS:   77 18:12:03    -2827.533872        0.1292\n",
      "BFGS:   78 18:12:04    -2827.536497        0.0848\n",
      "BFGS:   79 18:12:04    -2827.538843        0.0809\n",
      "BFGS:   80 18:12:05    -2827.541531        0.0870\n",
      "BFGS:   81 18:12:05    -2827.545266        0.0871\n",
      "BFGS:   82 18:12:06    -2827.548471        0.0915\n",
      "BFGS:   83 18:12:07    -2827.551865        0.0934\n",
      "BFGS:   84 18:12:07    -2827.555691        0.1012\n",
      "BFGS:   85 18:12:08    -2827.559833        0.1435\n",
      "BFGS:   86 18:12:09    -2827.563812        0.1446\n",
      "BFGS:   87 18:12:09    -2827.567327        0.0938\n",
      "BFGS:   88 18:12:10    -2827.570774        0.1038\n",
      "BFGS:   89 18:12:10    -2827.574411        0.1171\n",
      "BFGS:   90 18:12:11    -2827.577785        0.1208\n",
      "BFGS:   91 18:12:12    -2827.580650        0.1355\n",
      "BFGS:   92 18:12:12    -2827.583197        0.1326\n",
      "BFGS:   93 18:12:13    -2827.585934        0.1169\n",
      "BFGS:   94 18:12:14    -2827.589028        0.0866\n",
      "BFGS:   95 18:12:14    -2827.591142        0.0724\n",
      "BFGS:   96 18:12:15    -2827.593553        0.0822\n",
      "BFGS:   97 18:12:16    -2827.595735        0.0854\n",
      "BFGS:   98 18:12:16    -2827.597907        0.0748\n",
      "BFGS:   99 18:12:17    -2827.599842        0.0714\n",
      "BFGS:  100 18:12:18    -2827.601974        0.0821\n",
      "BFGS:  101 18:12:18    -2827.604615        0.1039\n",
      "BFGS:  102 18:12:19    -2827.607616        0.1328\n",
      "BFGS:  103 18:12:19    -2827.610371        0.1212\n",
      "BFGS:  104 18:12:20    -2827.612812        0.1210\n",
      "BFGS:  105 18:12:21    -2827.615398        0.1123\n",
      "BFGS:  106 18:12:21    -2827.618420        0.1554\n",
      "BFGS:  107 18:12:22    -2827.621753        0.0972\n",
      "BFGS:  108 18:12:23    -2827.624398        0.1205\n",
      "BFGS:  109 18:12:23    -2827.626736        0.0817\n",
      "BFGS:  110 18:12:24    -2827.628785        0.0797\n",
      "BFGS:  111 18:12:24    -2827.630548        0.0808\n",
      "BFGS:  112 18:12:25    -2827.632026        0.0986\n",
      "BFGS:  113 18:12:25    -2827.633402        0.0923\n",
      "BFGS:  114 18:12:26    -2827.634859        0.0691\n",
      "BFGS:  115 18:12:27    -2827.636339        0.0555\n",
      "BFGS:  116 18:12:27    -2827.637537        0.0581\n",
      "BFGS:  117 18:12:28    -2827.638536        0.0541\n",
      "BFGS:  118 18:12:28    -2827.639508        0.0537\n",
      "BFGS:  119 18:12:29    -2827.640571        0.0586\n",
      "BFGS:  120 18:12:30    -2827.641806        0.0557\n",
      "BFGS:  121 18:12:30    -2827.643006        0.0559\n",
      "BFGS:  122 18:12:31    -2827.644139        0.0627\n",
      "BFGS:  123 18:12:31    -2827.645187        0.0697\n",
      "BFGS:  124 18:12:32    -2827.646154        0.0554\n",
      "BFGS:  125 18:12:33    -2827.647110        0.0531\n",
      "BFGS:  126 18:12:33    -2827.648053        0.0400\n"
     ]
    },
    {
     "name": "stderr",
     "output_type": "stream",
     "text": [
      " 97%|█████████▋| 232/238 [2:46:49<02:54, 29.07s/it]"
     ]
    },
    {
     "name": "stdout",
     "output_type": "stream",
     "text": [
      "      Step     Time          Energy         fmax\n",
      "BFGS:    0 18:12:35    -2456.435037        3.9064\n",
      "BFGS:    1 18:12:35    -2457.161613        2.1668\n",
      "BFGS:    2 18:12:36    -2457.418772        1.3442\n",
      "BFGS:    3 18:12:37    -2457.618470        1.4258\n",
      "BFGS:    4 18:12:38    -2457.729890        1.0079\n",
      "BFGS:    5 18:12:39    -2457.789754        0.4300\n",
      "BFGS:    6 18:12:39    -2457.816346        0.3898\n",
      "BFGS:    7 18:12:40    -2457.845732        0.3142\n",
      "BFGS:    8 18:12:41    -2457.864148        0.2657\n",
      "BFGS:    9 18:12:42    -2457.880352        0.3287\n",
      "BFGS:   10 18:12:42    -2457.897074        0.3380\n",
      "BFGS:   11 18:12:43    -2457.913450        0.2777\n",
      "BFGS:   12 18:12:44    -2457.925638        0.2450\n",
      "BFGS:   13 18:12:44    -2457.934377        0.2057\n",
      "BFGS:   14 18:12:45    -2457.941504        0.1848\n",
      "BFGS:   15 18:12:45    -2457.947800        0.2121\n",
      "BFGS:   16 18:12:46    -2457.953125        0.1338\n",
      "BFGS:   17 18:12:46    -2457.957820        0.1558\n",
      "BFGS:   18 18:12:47    -2457.962806        0.1483\n",
      "BFGS:   19 18:12:48    -2457.967941        0.1932\n",
      "BFGS:   20 18:12:48    -2457.973151        0.1821\n",
      "BFGS:   21 18:12:49    -2457.977020        0.2431\n",
      "BFGS:   22 18:12:50    -2457.981170        0.1334\n",
      "BFGS:   23 18:12:50    -2457.984123        0.1107\n",
      "BFGS:   24 18:12:51    -2457.986670        0.0928\n",
      "BFGS:   25 18:12:52    -2457.989087        0.1186\n",
      "BFGS:   26 18:12:52    -2457.992532        0.1315\n",
      "BFGS:   27 18:12:53    -2457.996556        0.1387\n",
      "BFGS:   28 18:12:53    -2457.999972        0.2871\n",
      "BFGS:   29 18:12:54    -2458.002135        0.2510\n",
      "BFGS:   30 18:12:55    -2458.005377        0.1098\n",
      "BFGS:   31 18:12:55    -2458.008566        0.1825\n",
      "BFGS:   32 18:12:56    -2458.012007        0.2004\n",
      "BFGS:   33 18:12:56    -2458.016031        0.1839\n",
      "BFGS:   34 18:12:57    -2458.020168        0.1056\n",
      "BFGS:   35 18:12:58    -2458.023256        0.2116\n",
      "BFGS:   36 18:12:58    -2458.024669        0.2547\n",
      "BFGS:   37 18:12:59    -2458.027510        0.1084\n",
      "BFGS:   38 18:12:59    -2458.029202        0.1741\n",
      "BFGS:   39 18:13:00    -2458.031061        0.1874\n",
      "BFGS:   40 18:13:01    -2458.032447        0.1471\n",
      "BFGS:   41 18:13:01    -2458.034241        0.1018\n",
      "BFGS:   42 18:13:02    -2458.036205        0.1498\n",
      "BFGS:   43 18:13:02    -2458.038319        0.1283\n",
      "BFGS:   44 18:13:03    -2458.038587        0.2948\n",
      "BFGS:   45 18:13:04    -2458.041531        0.0787\n",
      "BFGS:   46 18:13:04    -2458.042890        0.0603\n",
      "BFGS:   47 18:13:05    -2458.044815        0.0962\n",
      "BFGS:   48 18:13:06    -2458.045895        0.1593\n",
      "BFGS:   49 18:13:06    -2458.047770        0.1275\n",
      "BFGS:   50 18:13:07    -2458.049704        0.0739\n",
      "BFGS:   51 18:13:07    -2458.050810        0.0716\n",
      "BFGS:   52 18:13:08    -2458.052202        0.0849\n",
      "BFGS:   53 18:13:09    -2458.052857        0.1331\n",
      "BFGS:   54 18:13:09    -2458.052507        0.3056\n",
      "BFGS:   55 18:13:10    -2458.054219        0.0454\n"
     ]
    },
    {
     "name": "stderr",
     "output_type": "stream",
     "text": [
      " 98%|█████████▊| 233/238 [2:47:25<02:35, 31.09s/it]"
     ]
    },
    {
     "name": "stdout",
     "output_type": "stream",
     "text": [
      "      Step     Time          Energy         fmax\n",
      "BFGS:    0 18:13:11    -3504.676470        5.2575\n",
      "BFGS:    1 18:13:12    -3505.905555        4.5793\n",
      "BFGS:    2 18:13:13    -3506.469797        1.2263\n",
      "BFGS:    3 18:13:14    -3506.700511        1.5888\n",
      "BFGS:    4 18:13:15    -3506.857327        0.7585\n",
      "BFGS:    5 18:13:16    -3506.921905        0.6124\n",
      "BFGS:    6 18:13:17    -3506.965189        0.5180\n",
      "BFGS:    7 18:13:17    -3507.017824        0.6470\n",
      "BFGS:    8 18:13:18    -3507.068025        0.5485\n",
      "BFGS:    9 18:13:19    -3507.109683        0.5829\n",
      "BFGS:   10 18:13:20    -3507.151271        0.5301\n",
      "BFGS:   11 18:13:21    -3507.186657        0.4912\n",
      "BFGS:   12 18:13:21    -3507.211463        0.3107\n",
      "BFGS:   13 18:13:22    -3507.230660        0.2757\n",
      "BFGS:   14 18:13:23    -3507.252056        0.3429\n",
      "BFGS:   15 18:13:24    -3507.277402        0.3623\n",
      "BFGS:   16 18:13:25    -3507.301163        0.3060\n",
      "BFGS:   17 18:13:25    -3507.322066        0.2266\n",
      "BFGS:   18 18:13:26    -3507.342099        0.2703\n",
      "BFGS:   19 18:13:27    -3507.363583        0.3525\n",
      "BFGS:   20 18:13:28    -3507.386731        0.3169\n",
      "BFGS:   21 18:13:29    -3507.408716        0.3307\n",
      "BFGS:   22 18:13:29    -3507.429365        0.3317\n",
      "BFGS:   23 18:13:30    -3507.421840        1.4680\n",
      "BFGS:   24 18:13:31    -3507.465603        0.2925\n",
      "BFGS:   25 18:13:32    -3507.486834        0.3023\n",
      "BFGS:   26 18:13:33    -3507.524696        1.1002\n",
      "BFGS:   27 18:13:33    -3507.541114        0.3260\n",
      "BFGS:   28 18:13:34    -3507.552904        0.2323\n",
      "BFGS:   29 18:13:35    -3507.566280        1.2128\n",
      "BFGS:   30 18:13:36    -3507.583304        0.2489\n",
      "BFGS:   31 18:13:37    -3507.590991        0.2317\n",
      "BFGS:   32 18:13:37    -3507.610164        0.5369\n",
      "BFGS:   33 18:13:38    -3507.617063        0.1884\n",
      "BFGS:   34 18:13:39    -3507.627687        0.1990\n",
      "BFGS:   35 18:13:39    -3507.641210        0.2155\n",
      "BFGS:   36 18:13:40    -3507.651342        0.1986\n",
      "BFGS:   37 18:13:41    -3507.661315        0.2056\n",
      "BFGS:   38 18:13:42    -3507.671451        0.4088\n",
      "BFGS:   39 18:13:42    -3507.678209        0.4544\n",
      "BFGS:   40 18:13:43    -3507.687658        0.1976\n",
      "BFGS:   41 18:13:44    -3507.698156        0.1412\n",
      "BFGS:   42 18:13:45    -3507.707055        0.1335\n",
      "BFGS:   43 18:13:45    -3507.715224        0.1836\n",
      "BFGS:   44 18:13:46    -3507.721236        0.1879\n",
      "BFGS:   45 18:13:47    -3507.728252        0.1776\n",
      "BFGS:   46 18:13:48    -3507.734182        0.1596\n",
      "BFGS:   47 18:13:48    -3507.740007        0.1779\n",
      "BFGS:   48 18:13:49    -3507.745960        0.1318\n",
      "BFGS:   49 18:13:50    -3507.749071        0.4722\n",
      "BFGS:   50 18:13:51    -3507.756844        0.1291\n",
      "BFGS:   51 18:13:51    -3507.762641        0.1255\n",
      "BFGS:   52 18:13:52    -3507.771544        0.1351\n",
      "BFGS:   53 18:13:53    -3507.777240        0.1755\n",
      "BFGS:   54 18:13:54    -3507.786549        0.2683\n",
      "BFGS:   55 18:13:54    -3507.798746        0.2191\n",
      "BFGS:   56 18:13:55    -3507.813002        0.3867\n",
      "BFGS:   57 18:13:56    -3507.821351        0.4411\n",
      "BFGS:   58 18:13:57    -3507.834675        0.6405\n",
      "BFGS:   59 18:13:58    -3507.850355        0.3161\n",
      "BFGS:   60 18:13:58    -3507.868742        0.3213\n",
      "BFGS:   61 18:13:59    -3507.894725        0.5397\n",
      "BFGS:   62 18:14:00    -3507.914704        0.3074\n",
      "BFGS:   63 18:14:01    -3507.941370        0.2659\n",
      "BFGS:   64 18:14:02    -3507.955644        1.0198\n",
      "BFGS:   65 18:14:03    -3507.971862        0.4579\n",
      "BFGS:   66 18:14:04    -3507.995440        0.1989\n",
      "BFGS:   67 18:14:04    -3508.015117        0.1599\n",
      "BFGS:   68 18:14:05    -3508.037937        0.1671\n",
      "BFGS:   69 18:14:06    -3508.051300        0.1805\n",
      "BFGS:   70 18:14:07    -3508.068484        0.2046\n",
      "BFGS:   71 18:14:08    -3508.084937        0.2094\n",
      "BFGS:   72 18:14:08    -3508.097134        0.1920\n",
      "BFGS:   73 18:14:09    -3508.106830        0.3288\n",
      "BFGS:   74 18:14:10    -3508.115345        0.1846\n",
      "BFGS:   75 18:14:11    -3508.124561        0.1327\n",
      "BFGS:   76 18:14:11    -3508.133429        0.1194\n",
      "BFGS:   77 18:14:12    -3508.140456        0.1310\n",
      "BFGS:   78 18:14:13    -3508.146844        0.1358\n",
      "BFGS:   79 18:14:14    -3508.152942        0.1326\n",
      "BFGS:   80 18:14:14    -3508.159332        0.1386\n",
      "BFGS:   81 18:14:15    -3508.166392        0.1464\n",
      "BFGS:   82 18:14:16    -3508.173780        0.1451\n",
      "BFGS:   83 18:14:17    -3508.180970        0.1686\n",
      "BFGS:   84 18:14:17    -3508.186726        0.1235\n",
      "BFGS:   85 18:14:18    -3508.190447        0.2403\n",
      "BFGS:   86 18:14:19    -3508.194268        0.1395\n",
      "BFGS:   87 18:14:19    -3508.197615        0.1437\n",
      "BFGS:   88 18:14:20    -3508.201395        0.1382\n",
      "BFGS:   89 18:14:21    -3508.204871        0.0973\n",
      "BFGS:   90 18:14:22    -3508.208606        0.0970\n",
      "BFGS:   91 18:14:22    -3508.211924        0.1102\n",
      "BFGS:   92 18:14:23    -3508.214879        0.1063\n",
      "BFGS:   93 18:14:24    -3508.217292        0.0784\n",
      "BFGS:   94 18:14:24    -3508.219195        0.0572\n",
      "BFGS:   95 18:14:25    -3508.220532        0.0574\n",
      "BFGS:   96 18:14:26    -3508.221673        0.0732\n",
      "BFGS:   97 18:14:27    -3508.222906        0.0684\n",
      "BFGS:   98 18:14:27    -3508.224113        0.0688\n",
      "BFGS:   99 18:14:28    -3508.225208        0.0520\n",
      "BFGS:  100 18:14:29    -3508.226283        0.0587\n",
      "BFGS:  101 18:14:29    -3508.227372        0.0529\n",
      "BFGS:  102 18:14:30    -3508.228522        0.0826\n",
      "BFGS:  103 18:14:31    -3508.229752        0.0603\n",
      "BFGS:  104 18:14:31    -3508.231131        0.0571\n",
      "BFGS:  105 18:14:32    -3508.232532        0.0544\n",
      "BFGS:  106 18:14:33    -3508.233900        0.0657\n",
      "BFGS:  107 18:14:33    -3508.235048        0.0649\n",
      "BFGS:  108 18:14:34    -3508.236082        0.0616\n",
      "BFGS:  109 18:14:35    -3508.237298        0.0696\n",
      "BFGS:  110 18:14:35    -3508.238874        0.0842\n",
      "BFGS:  111 18:14:36    -3508.240714        0.0898\n",
      "BFGS:  112 18:14:37    -3508.242594        0.0823\n",
      "BFGS:  113 18:14:38    -3508.244540        0.0723\n",
      "BFGS:  114 18:14:38    -3508.246801        0.0886\n",
      "BFGS:  115 18:14:39    -3508.249568        0.0869\n",
      "BFGS:  116 18:14:40    -3508.252489        0.1392\n",
      "BFGS:  117 18:14:40    -3508.254974        0.0830\n",
      "BFGS:  118 18:14:41    -3508.256766        0.1446\n",
      "BFGS:  119 18:14:42    -3508.258741        0.0820\n",
      "BFGS:  120 18:14:42    -3508.261034        0.0827\n",
      "BFGS:  121 18:14:43    -3508.262767        0.0688\n",
      "BFGS:  122 18:14:44    -3508.264416        0.0554\n",
      "BFGS:  123 18:14:44    -3508.265824        0.0688\n",
      "BFGS:  124 18:14:45    -3508.267384        0.0553\n",
      "BFGS:  125 18:14:46    -3508.268899        0.0633\n",
      "BFGS:  126 18:14:47    -3508.270553        0.0621\n",
      "BFGS:  127 18:14:47    -3508.272353        0.0650\n",
      "BFGS:  128 18:14:48    -3508.274247        0.0695\n",
      "BFGS:  129 18:14:49    -3508.275834        0.0918\n",
      "BFGS:  130 18:14:50    -3508.277425        0.0714\n",
      "BFGS:  131 18:14:50    -3508.278919        0.0569\n",
      "BFGS:  132 18:14:51    -3508.281057        0.0624\n",
      "BFGS:  133 18:14:52    -3508.282519        0.0658\n",
      "BFGS:  134 18:14:52    -3508.284380        0.0523\n",
      "BFGS:  135 18:14:53    -3508.285737        0.0505\n",
      "BFGS:  136 18:14:54    -3508.287179        0.0725\n",
      "BFGS:  137 18:14:54    -3508.288646        0.0985\n",
      "BFGS:  138 18:14:55    -3508.290226        0.0870\n",
      "BFGS:  139 18:14:56    -3508.291529        0.0492\n"
     ]
    },
    {
     "name": "stderr",
     "output_type": "stream",
     "text": [
      " 98%|█████████▊| 234/238 [2:49:12<03:29, 52.35s/it]"
     ]
    },
    {
     "name": "stdout",
     "output_type": "stream",
     "text": [
      "      Step     Time          Energy         fmax\n",
      "BFGS:    0 18:14:57    -2456.357242        4.3071\n",
      "BFGS:    1 18:14:58    -2457.147304        3.1583\n",
      "BFGS:    2 18:14:59    -2457.427794        1.4595\n",
      "BFGS:    3 18:15:00    -2457.610260        1.4860\n",
      "BFGS:    4 18:15:01    -2457.724297        0.8257\n",
      "BFGS:    5 18:15:02    -2457.768558        0.4182\n",
      "BFGS:    6 18:15:02    -2457.790791        0.4084\n",
      "BFGS:    7 18:15:03    -2457.816958        0.3519\n",
      "BFGS:    8 18:15:04    -2457.835826        0.2250\n",
      "BFGS:    9 18:15:04    -2457.850297        0.2189\n",
      "BFGS:   10 18:15:05    -2457.863254        0.2688\n",
      "BFGS:   11 18:15:06    -2457.876481        0.2567\n",
      "BFGS:   12 18:15:06    -2457.888846        0.2421\n",
      "BFGS:   13 18:15:07    -2457.899507        0.2078\n",
      "BFGS:   14 18:15:08    -2457.908981        0.1974\n",
      "BFGS:   15 18:15:08    -2457.918213        0.2368\n",
      "BFGS:   16 18:15:09    -2457.926696        0.1908\n",
      "BFGS:   17 18:15:10    -2457.932441        0.2497\n",
      "BFGS:   18 18:15:10    -2457.936700        0.1685\n",
      "BFGS:   19 18:15:11    -2457.939771        0.1199\n",
      "BFGS:   20 18:15:12    -2457.942701        0.0944\n",
      "BFGS:   21 18:15:12    -2457.944338        0.0843\n",
      "BFGS:   22 18:15:13    -2457.946318        0.0698\n",
      "BFGS:   23 18:15:13    -2457.947774        0.0777\n",
      "BFGS:   24 18:15:14    -2457.949314        0.0783\n",
      "BFGS:   25 18:15:15    -2457.950808        0.0701\n",
      "BFGS:   26 18:15:15    -2457.952345        0.0688\n",
      "BFGS:   27 18:15:16    -2457.953830        0.0586\n",
      "BFGS:   28 18:15:16    -2457.955216        0.0624\n",
      "BFGS:   29 18:15:17    -2457.956446        0.0677\n",
      "BFGS:   30 18:15:17    -2457.957560        0.0568\n",
      "BFGS:   31 18:15:18    -2457.958628        0.0514\n",
      "BFGS:   32 18:15:19    -2457.959618        0.0588\n",
      "BFGS:   33 18:15:19    -2457.960474        0.0838\n",
      "BFGS:   34 18:15:20    -2457.961229        0.0513\n",
      "BFGS:   35 18:15:20    -2457.962039        0.0478\n"
     ]
    },
    {
     "name": "stderr",
     "output_type": "stream",
     "text": [
      " 99%|█████████▊| 235/238 [2:49:36<02:12, 44.32s/it]"
     ]
    },
    {
     "name": "stdout",
     "output_type": "stream",
     "text": [
      "      Step     Time          Energy         fmax\n",
      "BFGS:    0 18:15:21    -1886.556556        2.0848\n",
      "BFGS:    1 18:15:22    -1886.812282        1.1908\n",
      "BFGS:    2 18:15:23    -1887.007714        0.9628\n",
      "BFGS:    3 18:15:23    -1887.124487        0.5295\n",
      "BFGS:    4 18:15:24    -1887.204924        0.2990\n",
      "BFGS:    5 18:15:24    -1887.238206        0.3454\n",
      "BFGS:    6 18:15:25    -1887.269714        0.3743\n",
      "BFGS:    7 18:15:26    -1887.292489        0.3125\n",
      "BFGS:    8 18:15:26    -1887.312493        0.2523\n",
      "BFGS:    9 18:15:27    -1887.328579        0.2069\n",
      "BFGS:   10 18:15:27    -1887.343135        0.1979\n",
      "BFGS:   11 18:15:28    -1887.355068        0.1621\n",
      "BFGS:   12 18:15:29    -1887.363587        0.1340\n",
      "BFGS:   13 18:15:29    -1887.369473        0.1373\n",
      "BFGS:   14 18:15:30    -1887.374573        0.1436\n",
      "BFGS:   15 18:15:30    -1887.379773        0.1457\n",
      "BFGS:   16 18:15:31    -1887.385376        0.1474\n",
      "BFGS:   17 18:15:31    -1887.391553        0.1523\n",
      "BFGS:   18 18:15:32    -1887.398161        0.1488\n",
      "BFGS:   19 18:15:32    -1887.404634        0.1430\n",
      "BFGS:   20 18:15:33    -1887.410599        0.1353\n",
      "BFGS:   21 18:15:34    -1887.416092        0.1212\n",
      "BFGS:   22 18:15:34    -1887.421382        0.1427\n",
      "BFGS:   23 18:15:35    -1887.426349        0.1178\n",
      "BFGS:   24 18:15:35    -1887.430632        0.1332\n",
      "BFGS:   25 18:15:36    -1887.433158        0.2642\n",
      "BFGS:   26 18:15:36    -1887.436531        0.0907\n",
      "BFGS:   27 18:15:37    -1887.438958        0.0934\n",
      "BFGS:   28 18:15:38    -1887.441053        0.0986\n",
      "BFGS:   29 18:15:38    -1887.442750        0.0862\n",
      "BFGS:   30 18:15:39    -1887.444545        0.0846\n",
      "BFGS:   31 18:15:39    -1887.446258        0.0793\n",
      "BFGS:   32 18:15:40    -1887.447809        0.0790\n",
      "BFGS:   33 18:15:40    -1887.449215        0.0687\n",
      "BFGS:   34 18:15:41    -1887.450634        0.0682\n",
      "BFGS:   35 18:15:41    -1887.452048        0.0640\n",
      "BFGS:   36 18:15:42    -1887.453368        0.0675\n",
      "BFGS:   37 18:15:42    -1887.454494        0.0603\n",
      "BFGS:   38 18:15:43    -1887.455419        0.0584\n",
      "BFGS:   39 18:15:43    -1887.456180        0.0483\n"
     ]
    },
    {
     "name": "stderr",
     "output_type": "stream",
     "text": [
      " 99%|█████████▉| 236/238 [2:49:59<01:16, 38.10s/it]"
     ]
    },
    {
     "name": "stdout",
     "output_type": "stream",
     "text": [
      "      Step     Time          Energy         fmax\n",
      "BFGS:    0 18:15:45    -2606.420382        2.8472\n",
      "BFGS:    1 18:15:45    -2606.840253        1.2135\n",
      "BFGS:    2 18:15:46    -2606.994342        0.8937\n",
      "BFGS:    3 18:15:47    -2607.158029        0.6109\n",
      "BFGS:    4 18:15:48    -2607.226847        0.3474\n",
      "BFGS:    5 18:15:49    -2607.283219        0.3933\n",
      "BFGS:    6 18:15:50    -2607.316708        0.4429\n",
      "BFGS:    7 18:15:50    -2607.346206        0.3872\n",
      "BFGS:    8 18:15:51    -2607.369285        0.2840\n",
      "BFGS:    9 18:15:52    -2607.389940        0.2205\n",
      "BFGS:   10 18:15:53    -2607.406557        0.1984\n",
      "BFGS:   11 18:15:53    -2607.420336        0.1841\n",
      "BFGS:   12 18:15:54    -2607.431984        0.1839\n",
      "BFGS:   13 18:15:55    -2607.442214        0.1680\n",
      "BFGS:   14 18:15:56    -2607.451279        0.1551\n",
      "BFGS:   15 18:15:56    -2607.459772        0.1382\n",
      "BFGS:   16 18:15:57    -2607.467761        0.1690\n",
      "BFGS:   17 18:15:58    -2607.475066        0.1561\n",
      "BFGS:   18 18:15:59    -2607.481455        0.1197\n",
      "BFGS:   19 18:15:59    -2607.487063        0.1206\n",
      "BFGS:   20 18:16:00    -2607.492323        0.1149\n",
      "BFGS:   21 18:16:01    -2607.497706        0.1377\n",
      "BFGS:   22 18:16:01    -2607.503446        0.1341\n",
      "BFGS:   23 18:16:02    -2607.509236        0.1208\n",
      "BFGS:   24 18:16:03    -2607.514280        0.1251\n",
      "BFGS:   25 18:16:03    -2607.517993        0.1003\n",
      "BFGS:   26 18:16:04    -2607.520601        0.0728\n",
      "BFGS:   27 18:16:05    -2607.522579        0.0841\n",
      "BFGS:   28 18:16:05    -2607.524325        0.0870\n",
      "BFGS:   29 18:16:06    -2607.525957        0.0889\n",
      "BFGS:   30 18:16:06    -2607.527612        0.0725\n",
      "BFGS:   31 18:16:07    -2607.528917        0.0617\n",
      "BFGS:   32 18:16:08    -2607.530251        0.0602\n",
      "BFGS:   33 18:16:08    -2607.531370        0.0585\n",
      "BFGS:   34 18:16:09    -2607.532336        0.0505\n",
      "BFGS:   35 18:16:10    -2607.533255        0.0424\n"
     ]
    },
    {
     "name": "stderr",
     "output_type": "stream",
     "text": [
      "100%|█████████▉| 237/238 [2:50:25<00:34, 34.62s/it]"
     ]
    },
    {
     "name": "stdout",
     "output_type": "stream",
     "text": [
      "      Step     Time          Energy         fmax\n",
      "BFGS:    0 18:16:11    -3504.724425        4.5720\n",
      "BFGS:    1 18:16:12    -3505.889073        4.2369\n",
      "BFGS:    2 18:16:13    -3506.404905        1.4429\n",
      "BFGS:    3 18:16:14    -3506.657901        1.8366\n",
      "BFGS:    4 18:16:15    -3506.854722        0.9038\n",
      "BFGS:    5 18:16:16    -3506.965694        0.5873\n",
      "BFGS:    6 18:16:16    -3507.038255        0.6277\n",
      "BFGS:    7 18:16:17    -3507.105697        0.5943\n",
      "BFGS:    8 18:16:18    -3507.156273        0.6496\n",
      "BFGS:    9 18:16:19    -3507.201849        0.5550\n",
      "BFGS:   10 18:16:20    -3507.253274        0.6264\n",
      "BFGS:   11 18:16:20    -3507.300890        0.5316\n",
      "BFGS:   12 18:16:21    -3507.336458        0.3675\n",
      "BFGS:   13 18:16:22    -3507.366062        0.3778\n",
      "BFGS:   14 18:16:23    -3507.396152        0.4466\n",
      "BFGS:   15 18:16:24    -3507.424078        0.3730\n",
      "BFGS:   16 18:16:25    -3507.444168        0.2202\n",
      "BFGS:   17 18:16:25    -3507.461189        0.2501\n",
      "BFGS:   18 18:16:26    -3507.479824        0.3781\n",
      "BFGS:   19 18:16:27    -3507.500146        0.3715\n",
      "BFGS:   20 18:16:28    -3507.518080        0.1947\n",
      "BFGS:   21 18:16:28    -3507.529631        0.2441\n",
      "BFGS:   22 18:16:29    -3507.538663        0.2183\n",
      "BFGS:   23 18:16:30    -3507.547002        0.2123\n",
      "BFGS:   24 18:16:31    -3507.559879        0.1756\n",
      "BFGS:   25 18:16:32    -3507.567632        0.1623\n",
      "BFGS:   26 18:16:32    -3507.579453        0.2222\n",
      "BFGS:   27 18:16:33    -3507.591169        0.2134\n",
      "BFGS:   28 18:16:34    -3507.602933        0.3796\n",
      "BFGS:   29 18:16:35    -3507.615045        0.2624\n",
      "BFGS:   30 18:16:35    -3507.626427        0.2291\n",
      "BFGS:   31 18:16:36    -3507.640813        0.2827\n",
      "BFGS:   32 18:16:37    -3507.648905        0.2905\n",
      "BFGS:   33 18:16:38    -3507.659735        0.2822\n",
      "BFGS:   34 18:16:38    -3507.669301        0.1803\n",
      "BFGS:   35 18:16:39    -3507.670973        0.7967\n",
      "BFGS:   36 18:16:40    -3507.683634        0.2956\n",
      "BFGS:   37 18:16:41    -3507.688651        0.1323\n",
      "BFGS:   38 18:16:41    -3507.696652        0.3105\n",
      "BFGS:   39 18:16:42    -3507.700318        0.2169\n",
      "BFGS:   40 18:16:43    -3507.707748        0.1584\n",
      "BFGS:   41 18:16:44    -3507.715237        0.1449\n",
      "BFGS:   42 18:16:44    -3507.724200        0.1450\n",
      "BFGS:   43 18:16:45    -3507.732522        0.1468\n",
      "BFGS:   44 18:16:46    -3507.740146        0.1783\n",
      "BFGS:   45 18:16:46    -3507.745627        0.2714\n",
      "BFGS:   46 18:16:47    -3507.732074        0.7166\n",
      "BFGS:   47 18:16:48    -3507.754307        0.1317\n",
      "BFGS:   48 18:16:49    -3507.757881        0.1132\n",
      "BFGS:   49 18:16:50    -3507.767513        0.1663\n",
      "BFGS:   50 18:16:50    -3507.770157        0.1311\n",
      "BFGS:   51 18:16:51    -3507.777544        0.1022\n",
      "BFGS:   52 18:16:52    -3507.780387        0.1236\n",
      "BFGS:   53 18:16:53    -3507.783786        0.1305\n",
      "BFGS:   54 18:16:53    -3507.786546        0.1362\n",
      "BFGS:   55 18:16:54    -3507.789351        0.1251\n",
      "BFGS:   56 18:16:55    -3507.792311        0.1165\n",
      "BFGS:   57 18:16:55    -3507.795700        0.1096\n",
      "BFGS:   58 18:16:56    -3507.800818        0.1142\n",
      "BFGS:   59 18:16:57    -3507.804499        0.1103\n",
      "BFGS:   60 18:16:58    -3507.809399        0.1374\n",
      "BFGS:   61 18:16:58    -3507.813675        0.1076\n",
      "BFGS:   62 18:16:59    -3507.817386        0.1811\n",
      "BFGS:   63 18:17:00    -3507.820499        0.1620\n",
      "BFGS:   64 18:17:01    -3507.823225        0.0978\n",
      "BFGS:   65 18:17:01    -3507.826315        0.0972\n",
      "BFGS:   66 18:17:02    -3507.828318        0.0930\n",
      "BFGS:   67 18:17:03    -3507.831457        0.0841\n",
      "BFGS:   68 18:17:03    -3507.834193        0.0878\n",
      "BFGS:   69 18:17:04    -3507.836541        0.0767\n",
      "BFGS:   70 18:17:05    -3507.838591        0.0823\n",
      "BFGS:   71 18:17:05    -3507.840801        0.0896\n",
      "BFGS:   72 18:17:06    -3507.843123        0.1650\n",
      "BFGS:   73 18:17:07    -3507.845868        0.0768\n",
      "BFGS:   74 18:17:07    -3507.848981        0.0818\n",
      "BFGS:   75 18:17:08    -3507.852399        0.0918\n",
      "BFGS:   76 18:17:09    -3507.855351        0.0964\n",
      "BFGS:   77 18:17:09    -3507.858113        0.0831\n",
      "BFGS:   78 18:17:10    -3507.860378        0.0742\n",
      "BFGS:   79 18:17:11    -3507.862888        0.0903\n",
      "BFGS:   80 18:17:12    -3507.865553        0.1250\n",
      "BFGS:   81 18:17:12    -3507.868484        0.1226\n",
      "BFGS:   82 18:17:13    -3507.871184        0.0747\n",
      "BFGS:   83 18:17:14    -3507.873826        0.0838\n",
      "BFGS:   84 18:17:14    -3507.875925        0.0928\n",
      "BFGS:   85 18:17:15    -3507.879422        0.1065\n",
      "BFGS:   86 18:17:16    -3507.882752        0.0986\n",
      "BFGS:   87 18:17:16    -3507.886068        0.0899\n",
      "BFGS:   88 18:17:17    -3507.888738        0.0767\n",
      "BFGS:   89 18:17:18    -3507.891031        0.0684\n",
      "BFGS:   90 18:17:18    -3507.893038        0.0735\n",
      "BFGS:   91 18:17:19    -3507.894786        0.0586\n",
      "BFGS:   92 18:17:20    -3507.896506        0.0922\n",
      "BFGS:   93 18:17:21    -3507.898153        0.0707\n",
      "BFGS:   94 18:17:21    -3507.899802        0.0557\n",
      "BFGS:   95 18:17:22    -3507.900779        0.0549\n",
      "BFGS:   96 18:17:23    -3507.902117        0.0573\n",
      "BFGS:   97 18:17:23    -3507.903364        0.0627\n",
      "BFGS:   98 18:17:24    -3507.904740        0.0589\n",
      "BFGS:   99 18:17:25    -3507.906065        0.0614\n",
      "BFGS:  100 18:17:25    -3507.907450        0.0590\n",
      "BFGS:  101 18:17:26    -3507.909047        0.0841\n",
      "BFGS:  102 18:17:27    -3507.910994        0.0938\n",
      "BFGS:  103 18:17:28    -3507.913351        0.0750\n",
      "BFGS:  104 18:17:28    -3507.916022        0.0901\n",
      "BFGS:  105 18:17:29    -3507.918924        0.0875\n",
      "BFGS:  106 18:17:30    -3507.921721        0.0893\n",
      "BFGS:  107 18:17:30    -3507.924486        0.0959\n",
      "BFGS:  108 18:17:31    -3507.927101        0.0772\n",
      "BFGS:  109 18:17:32    -3507.930166        0.0861\n",
      "BFGS:  110 18:17:33    -3507.933607        0.1005\n",
      "BFGS:  111 18:17:33    -3507.937714        0.1406\n",
      "BFGS:  112 18:17:34    -3507.941241        0.2220\n",
      "BFGS:  113 18:17:35    -3507.944849        0.2350\n",
      "BFGS:  114 18:17:35    -3507.948667        0.0859\n",
      "BFGS:  115 18:17:36    -3507.952488        0.2168\n",
      "BFGS:  116 18:17:37    -3507.954956        0.1829\n",
      "BFGS:  117 18:17:38    -3507.958301        0.1889\n",
      "BFGS:  118 18:17:38    -3507.961804        0.1264\n",
      "BFGS:  119 18:17:39    -3507.965038        0.2159\n",
      "BFGS:  120 18:17:40    -3507.968470        0.1797\n",
      "BFGS:  121 18:17:41    -3507.972086        0.1129\n",
      "BFGS:  122 18:17:41    -3507.976856        0.1754\n",
      "BFGS:  123 18:17:42    -3507.980549        0.1191\n",
      "BFGS:  124 18:17:43    -3507.984858        0.1800\n",
      "BFGS:  125 18:17:44    -3507.988031        0.1504\n",
      "BFGS:  126 18:17:44    -3507.990577        0.0961\n",
      "BFGS:  127 18:17:45    -3507.992756        0.0926\n",
      "BFGS:  128 18:17:46    -3507.994938        0.0799\n",
      "BFGS:  129 18:17:47    -3507.997064        0.0702\n",
      "BFGS:  130 18:17:47    -3507.999575        0.0726\n",
      "BFGS:  131 18:17:48    -3508.001198        0.0820\n",
      "BFGS:  132 18:17:49    -3508.002878        0.0688\n",
      "BFGS:  133 18:17:50    -3508.004322        0.0640\n",
      "BFGS:  134 18:17:50    -3508.005618        0.0636\n",
      "BFGS:  135 18:17:51    -3508.006866        0.0754\n",
      "BFGS:  136 18:17:52    -3508.008248        0.0677\n",
      "BFGS:  137 18:17:53    -3508.009775        0.0954\n",
      "BFGS:  138 18:17:53    -3508.011233        0.1168\n",
      "BFGS:  139 18:17:54    -3508.012465        0.0763\n",
      "BFGS:  140 18:17:55    -3508.013717        0.0721\n",
      "BFGS:  141 18:17:55    -3508.015046        0.0648\n",
      "BFGS:  142 18:17:56    -3508.016361        0.0515\n",
      "BFGS:  143 18:17:57    -3508.017728        0.0529\n",
      "BFGS:  144 18:17:57    -3508.019025        0.0429\n"
     ]
    },
    {
     "name": "stderr",
     "output_type": "stream",
     "text": [
      "100%|██████████| 238/238 [2:52:13<00:00, 43.42s/it]\n"
     ]
    }
   ],
   "source": [
    "charges = []\n",
    "for smiles in tqdm(df['smiles']):\n",
    "    sup = []\n",
    "    mol = get_charges(smiles)\n",
    "    if not mol.charges_g:\n",
    "        charges.append([0,0,0])\n",
    "        continue\n",
    "    \n",
    "    patt = Chem.MolFromSmarts('P(=O)(O)O')\n",
    "    if mol.HasSubstructMatch(patt):\n",
    "        sup.append(mol.charges[mol.GetSubstructMatch(patt)[1]].item())\n",
    "    else:\n",
    "        sup.append(0)\n",
    "\n",
    "    patt = Chem.MolFromSmarts('P***[#7]')\n",
    "    if mol.HasSubstructMatch(patt):\n",
    "        sup.append(mol.charges[mol.GetSubstructMatch(patt)[-1]].item())\n",
    "    else:\n",
    "        sup.append(0)\n",
    "    \n",
    "    patt = Chem.MolFromSmarts('P****[#7]')\n",
    "    if mol.HasSubstructMatch(patt):\n",
    "        sup.append(mol.charges[mol.GetSubstructMatch(patt)[-1]].item())\n",
    "    else:\n",
    "        sup.append(0)\n",
    "    charges.append(sup)"
   ]
  },
  {
   "cell_type": "code",
   "execution_count": 29,
   "id": "0cb182a8-2929-4c6e-9cda-f83a67066205",
   "metadata": {
    "tags": []
   },
   "outputs": [],
   "source": [
    "charges = np.array(charges)"
   ]
  },
  {
   "cell_type": "code",
   "execution_count": 30,
   "id": "8a173438-0704-41f5-981b-8b23343c4c27",
   "metadata": {
    "tags": []
   },
   "outputs": [],
   "source": [
    "df['ch_o'] = charges[:, 0]\n",
    "df['ch_4n'] = charges[:, 1]\n",
    "df['ch_5n'] = charges[:, 2]"
   ]
  },
  {
   "cell_type": "code",
   "execution_count": 31,
   "id": "d291645c-5f21-41b1-9477-d29bd33cca03",
   "metadata": {
    "tags": []
   },
   "outputs": [
    {
     "data": {
      "text/plain": [
       "<seaborn.axisgrid.FacetGrid at 0x7f75d6a39180>"
      ]
     },
     "execution_count": 31,
     "metadata": {},
     "output_type": "execute_result"
    },
    {
     "data": {
      "image/png": "[encoded data removed]",
      "text/plain": [
       "<Figure size 500x500 with 1 Axes>"
      ]
     },
     "metadata": {},
     "output_type": "display_data"
    }
   ],
   "source": [
    "sns.lmplot(data=df[df['ch_o'] != 0], x=\"standard_value\", y=\"ch_o\")"
   ]
  },
  {
   "cell_type": "code",
   "execution_count": 32,
   "id": "909626ce-4d69-4bba-86dc-b7be7d22672c",
   "metadata": {
    "tags": []
   },
   "outputs": [
    {
     "data": {
      "text/plain": [
       "<seaborn.axisgrid.FacetGrid at 0x7f75d45d9090>"
      ]
     },
     "execution_count": 32,
     "metadata": {},
     "output_type": "execute_result"
    },
    {
     "data": {
      "image/png": "[encoded data removed]",
      "text/plain": [
       "<Figure size 500x500 with 1 Axes>"
      ]
     },
     "metadata": {},
     "output_type": "display_data"
    }
   ],
   "source": [
    "sns.lmplot(data=df[df['ch_4n'] != 0], x=\"standard_value\", y=\"ch_4n\")"
   ]
  },
  {
   "cell_type": "code",
   "execution_count": 33,
   "id": "7dbae50a-aa15-4ddc-8231-fc906e1f935e",
   "metadata": {
    "tags": []
   },
   "outputs": [
    {
     "data": {
      "text/plain": [
       "<seaborn.axisgrid.FacetGrid at 0x7f75d69bdae0>"
      ]
     },
     "execution_count": 33,
     "metadata": {},
     "output_type": "execute_result"
    },
    {
     "data": {
      "image/png": "[encoded data removed]",
      "text/plain": [
       "<Figure size 500x500 with 1 Axes>"
      ]
     },
     "metadata": {},
     "output_type": "display_data"
    }
   ],
   "source": [
    "sns.lmplot(data=df[df['ch_5n'] != 0], x=\"standard_value\", y=\"ch_5n\")"
   ]
  },
  {
   "cell_type": "code",
   "execution_count": 34,
   "id": "1e1d4397-cd02-43e8-84f2-c25d05ab4e7d",
   "metadata": {},
   "outputs": [],
   "source": [
    "df.to_csv('../data/clean_data/fpps_cl_q.csv', index=False)"
   ]
  },
  {
   "cell_type": "markdown",
   "id": "2a778e0f",
   "metadata": {
    "tags": []
   },
   "source": [
    "## MCF7"
   ]
  },
  {
   "cell_type": "markdown",
   "id": "8e29ac87",
   "metadata": {},
   "source": [
    "### Cleaning"
   ]
  },
  {
   "cell_type": "code",
   "execution_count": 35,
   "id": "ff9f1837",
   "metadata": {
    "execution": {
     "iopub.execute_input": "2024-06-09T18:17:59.033923Z",
     "iopub.status.busy": "2024-06-09T18:17:59.033129Z",
     "iopub.status.idle": "2024-06-09T18:17:59.365669Z",
     "shell.execute_reply": "2024-06-09T18:17:59.364788Z",
     "shell.execute_reply.started": "2024-06-09T18:17:59.033885Z"
    },
    "tags": []
   },
   "outputs": [
    {
     "name": "stderr",
     "output_type": "stream",
     "text": [
      "/tmp/ipykernel_7863/262791938.py:1: DtypeWarning: Columns (3) have mixed types. Specify dtype option on import or set low_memory=False.\n",
      "  df = pd.read_csv('../data/raw_data/mcf7.csv', sep=';')\n"
     ]
    }
   ],
   "source": [
    "df = pd.read_csv('../data/raw_data/mcf7.csv', sep=';')\n",
    "df.columns = [col.lower().replace(' ', '_') for col in df.columns]\n",
    "df = df[[\n",
    "    'molecule_chembl_id', 'molecular_weight', 'alogp',\n",
    "    'smiles', 'standard_relation', 'standard_value',\n",
    "    'standard_units', 'data_validity_comment', 'assay_description',\n",
    "    'assay_organism',\n",
    "]]"
   ]
  },
  {
   "cell_type": "code",
   "execution_count": 36,
   "id": "db8c70aa-8c9a-4273-8cd2-4423662089d5",
   "metadata": {
    "execution": {
     "iopub.execute_input": "2024-06-09T18:29:48.132034Z",
     "iopub.status.busy": "2024-06-09T18:29:48.130592Z",
     "iopub.status.idle": "2024-06-09T18:29:48.195120Z",
     "shell.execute_reply": "2024-06-09T18:29:48.194403Z",
     "shell.execute_reply.started": "2024-06-09T18:29:48.131987Z"
    },
    "tags": []
   },
   "outputs": [],
   "source": [
    "df = df[df['assay_organism'] == 'Homo sapiens']\n",
    "df = df[df['data_validity_comment'] != 'Outside typical range']\n",
    "df = df[df['data_validity_comment'] != 'Potential missing data']\n",
    "df = df[df['standard_units'] == 'nM']\n",
    "df = df.dropna(subset=['smiles', 'standard_value',\n",
    "                       'alogp', 'standard_relation',\n",
    "                      'standard_units'])"
   ]
  },
  {
   "cell_type": "code",
   "execution_count": 37,
   "id": "8f3a66d1",
   "metadata": {
    "execution": {
     "iopub.execute_input": "2024-06-09T18:29:49.021396Z",
     "iopub.status.busy": "2024-06-09T18:29:49.020458Z",
     "iopub.status.idle": "2024-06-09T18:29:49.042483Z",
     "shell.execute_reply": "2024-06-09T18:29:49.041669Z",
     "shell.execute_reply.started": "2024-06-09T18:29:49.021354Z"
    },
    "tags": []
   },
   "outputs": [],
   "source": [
    "df = df[df['standard_relation'] == \"'='\"]\n",
    "df = df[['molecular_weight', 'smiles', 'standard_value', 'alogp']]\n",
    "df['standard_value'] = np.log(df['standard_value'])"
   ]
  },
  {
   "cell_type": "code",
   "execution_count": 38,
   "id": "50e0d023-c6b1-490f-bc13-dd910b6eb0a5",
   "metadata": {
    "execution": {
     "iopub.execute_input": "2024-06-09T18:29:52.419193Z",
     "iopub.status.busy": "2024-06-09T18:29:52.418166Z",
     "iopub.status.idle": "2024-06-09T18:29:52.482293Z",
     "shell.execute_reply": "2024-06-09T18:29:52.481465Z",
     "shell.execute_reply.started": "2024-06-09T18:29:52.419148Z"
    },
    "tags": []
   },
   "outputs": [],
   "source": [
    "mean_sv = df.groupby('smiles')['standard_value'].mean()\n",
    "df = df[~df['smiles'].duplicated()]\n",
    "df = df.set_index('smiles')\n",
    "df['standard_value'] = mean_sv\n",
    "\n",
    "df = df.reset_index()"
   ]
  },
  {
   "cell_type": "code",
   "execution_count": 39,
   "id": "fcf6b3ef-c5fc-433b-885f-f3ba0ce01b61",
   "metadata": {
    "execution": {
     "iopub.execute_input": "2024-06-09T18:29:53.751331Z",
     "iopub.status.busy": "2024-06-09T18:29:53.750311Z",
     "iopub.status.idle": "2024-06-09T18:29:53.777100Z",
     "shell.execute_reply": "2024-06-09T18:29:53.776371Z",
     "shell.execute_reply.started": "2024-06-09T18:29:53.751278Z"
    },
    "tags": []
   },
   "outputs": [
    {
     "name": "stdout",
     "output_type": "stream",
     "text": [
      "<class 'pandas.core.frame.DataFrame'>\n",
      "RangeIndex: 30073 entries, 0 to 30072\n",
      "Data columns (total 4 columns):\n",
      " #   Column            Non-Null Count  Dtype  \n",
      "---  ------            --------------  -----  \n",
      " 0   smiles            30073 non-null  object \n",
      " 1   molecular_weight  30073 non-null  object \n",
      " 2   standard_value    30073 non-null  float64\n",
      " 3   alogp             30073 non-null  object \n",
      "dtypes: float64(1), object(3)\n",
      "memory usage: 939.9+ KB\n"
     ]
    }
   ],
   "source": [
    "df.info()"
   ]
  },
  {
   "cell_type": "code",
   "execution_count": 40,
   "id": "77d63098-7347-4874-b563-764c0f7231bc",
   "metadata": {
    "execution": {
     "iopub.execute_input": "2024-06-09T18:29:54.984030Z",
     "iopub.status.busy": "2024-06-09T18:29:54.983016Z",
     "iopub.status.idle": "2024-06-09T18:30:01.863499Z",
     "shell.execute_reply": "2024-06-09T18:30:01.862628Z",
     "shell.execute_reply.started": "2024-06-09T18:29:54.983988Z"
    },
    "tags": []
   },
   "outputs": [
    {
     "data": {
      "image/png": "[encoded data removed]",
      "text/plain": [
       "<ml_kernel._vendor.IPython.core.display.Image object>"
      ]
     },
     "execution_count": 40,
     "metadata": {},
     "output_type": "execute_result"
    }
   ],
   "source": [
    "molecules = [Chem.MolFromSmiles(smiles) for smiles in df['smiles']][:8]\n",
    "Draw.MolsToGridImage(molecules, molsPerRow=4, subImgSize=(250,250))"
   ]
  },
  {
   "cell_type": "code",
   "execution_count": 41,
   "id": "cf014cf0",
   "metadata": {
    "execution": {
     "iopub.execute_input": "2024-06-09T18:30:02.752123Z",
     "iopub.status.busy": "2024-06-09T18:30:02.750989Z",
     "iopub.status.idle": "2024-06-09T18:30:03.084639Z",
     "shell.execute_reply": "2024-06-09T18:30:03.083897Z",
     "shell.execute_reply.started": "2024-06-09T18:30:02.752081Z"
    },
    "tags": []
   },
   "outputs": [
    {
     "data": {
      "image/png": "[encoded data removed]",
      "text/plain": [
       "<Figure size 600x400 with 1 Axes>"
      ]
     },
     "metadata": {},
     "output_type": "display_data"
    }
   ],
   "source": [
    "plt.figure(figsize=(6, 4))\n",
    "sns.histplot(data=df, x='standard_value', bins=100)\n",
    "plt.ylabel('Count', size=16)\n",
    "plt.xlabel('$log(IC_{50})$', size=16) \n",
    "plt.title('MCF7 $log(IC_{50})$', size=20) \n",
    "  \n",
    "# Display figure \n",
    "plt.show() "
   ]
  },
  {
   "cell_type": "code",
   "execution_count": 42,
   "id": "78801051-a9b1-4620-8f90-459d89739028",
   "metadata": {
    "execution": {
     "iopub.execute_input": "2024-06-09T18:30:08.998459Z",
     "iopub.status.busy": "2024-06-09T18:30:08.997383Z",
     "iopub.status.idle": "2024-06-09T18:30:09.136050Z",
     "shell.execute_reply": "2024-06-09T18:30:09.135198Z",
     "shell.execute_reply.started": "2024-06-09T18:30:08.998414Z"
    },
    "tags": []
   },
   "outputs": [],
   "source": [
    "df.to_csv('../data/clean_data/mcf7_cl.csv')"
   ]
  },
  {
   "cell_type": "markdown",
   "id": "cdb93c10",
   "metadata": {},
   "source": [
    "### Descryption"
   ]
  },
  {
   "cell_type": "code",
   "execution_count": 43,
   "id": "155d41c7",
   "metadata": {
    "execution": {
     "iopub.execute_input": "2024-06-09T18:30:10.768535Z",
     "iopub.status.busy": "2024-06-09T18:30:10.767605Z",
     "iopub.status.idle": "2024-06-09T19:56:11.697124Z",
     "shell.execute_reply": "2024-06-09T19:56:11.696355Z",
     "shell.execute_reply.started": "2024-06-09T18:30:10.768503Z"
    },
    "tags": []
   },
   "outputs": [
    {
     "name": "stderr",
     "output_type": "stream",
     "text": [
      "  0%|          | 8/30073 [00:01<1:02:23,  8.03it/s]"
     ]
    },
    {
     "name": "stdout",
     "output_type": "stream",
     "text": [
      "/usr/local/lib/python3.10/dist-packages/numpy/core/fromnumeric.py:88: RuntimeWarning: overflow encountered in reduce\n",
      "  return ufunc.reduce(obj, axis, dtype, out, **passkwargs)\n"
     ]
    },
    {
     "name": "stderr",
     "output_type": "stream",
     "text": [
      "  0%|          | 63/30073 [00:08<1:04:57,  7.70it/s]"
     ]
    },
    {
     "name": "stdout",
     "output_type": "stream",
     "text": [
      "/usr/local/lib/python3.10/dist-packages/numpy/core/fromnumeric.py:88: RuntimeWarning: overflow encountered in reduce\n",
      "  return ufunc.reduce(obj, axis, dtype, out, **passkwargs)\n"
     ]
    },
    {
     "name": "stderr",
     "output_type": "stream",
     "text": [
      "  0%|          | 83/30073 [00:10<59:21,  8.42it/s]  "
     ]
    },
    {
     "name": "stdout",
     "output_type": "stream",
     "text": [
      "/usr/local/lib/python3.10/dist-packages/numpy/core/fromnumeric.py:88: RuntimeWarning: overflow encountered in reduce\n",
      "  return ufunc.reduce(obj, axis, dtype, out, **passkwargs)\n"
     ]
    },
    {
     "name": "stderr",
     "output_type": "stream",
     "text": [
      "  0%|          | 90/30073 [00:12<1:53:15,  4.41it/s]"
     ]
    },
    {
     "name": "stdout",
     "output_type": "stream",
     "text": [
      "/usr/local/lib/python3.10/dist-packages/numpy/core/fromnumeric.py:88: RuntimeWarning: overflow encountered in reduce\n",
      "  return ufunc.reduce(obj, axis, dtype, out, **passkwargs)\n"
     ]
    },
    {
     "name": "stderr",
     "output_type": "stream",
     "text": [
      " 17%|█▋        | 5159/30073 [10:58<2:21:23,  2.94it/s]"
     ]
    },
    {
     "name": "stdout",
     "output_type": "stream",
     "text": [
      "/home/jupyter/.local/lib/python3.10/site-packages/mordred/_matrix_attributes.py:251: RuntimeWarning: divide by zero encountered in scalar power\n",
      "  s += (eig.vec[i, eig.max] * eig.vec[j, eig.max]) ** -0.5\n"
     ]
    },
    {
     "name": "stderr",
     "output_type": "stream",
     "text": [
      " 39%|███▉      | 11835/30073 [24:54<1:56:12,  2.62it/s]"
     ]
    },
    {
     "name": "stdout",
     "output_type": "stream",
     "text": [
      "/home/jupyter/.local/lib/python3.10/site-packages/mordred/_matrix_attributes.py:251: RuntimeWarning: invalid value encountered in scalar power\n",
      "  s += (eig.vec[i, eig.max] * eig.vec[j, eig.max]) ** -0.5\n"
     ]
    },
    {
     "name": "stderr",
     "output_type": "stream",
     "text": [
      " 44%|████▎     | 13117/30073 [27:40<2:10:40,  2.16it/s]"
     ]
    },
    {
     "name": "stdout",
     "output_type": "stream",
     "text": [
      "/home/jupyter/.local/lib/python3.10/site-packages/mordred/_matrix_attributes.py:251: RuntimeWarning: invalid value encountered in scalar power\n",
      "  s += (eig.vec[i, eig.max] * eig.vec[j, eig.max]) ** -0.5\n"
     ]
    },
    {
     "name": "stderr",
     "output_type": "stream",
     "text": [
      " 63%|██████▎   | 18903/30073 [39:52<2:11:10,  1.42it/s]"
     ]
    },
    {
     "name": "stdout",
     "output_type": "stream",
     "text": [
      "/home/jupyter/.local/lib/python3.10/site-packages/mordred/_matrix_attributes.py:251: RuntimeWarning: divide by zero encountered in scalar power\n",
      "  s += (eig.vec[i, eig.max] * eig.vec[j, eig.max]) ** -0.5\n"
     ]
    },
    {
     "name": "stderr",
     "output_type": "stream",
     "text": [
      "100%|██████████| 30073/30073 [1:04:48<00:00,  7.73it/s]\n"
     ]
    }
   ],
   "source": [
    "df_descr = get_descr_df(df)"
   ]
  },
  {
   "cell_type": "code",
   "execution_count": 44,
   "id": "bc16e3f7",
   "metadata": {
    "execution": {
     "iopub.execute_input": "2024-06-09T19:56:11.699599Z",
     "iopub.status.busy": "2024-06-09T19:56:11.698634Z",
     "iopub.status.idle": "2024-06-09T19:56:39.622315Z",
     "shell.execute_reply": "2024-06-09T19:56:39.621560Z",
     "shell.execute_reply.started": "2024-06-09T19:56:11.699561Z"
    },
    "tags": []
   },
   "outputs": [],
   "source": [
    "df_descr.to_csv('../data/desc_data/mcf7_desc.csv', index=False)"
   ]
  },
  {
   "cell_type": "markdown",
   "id": "2cde538b",
   "metadata": {},
   "source": [
    "## PC3"
   ]
  },
  {
   "cell_type": "markdown",
   "id": "69eeb044",
   "metadata": {},
   "source": [
    "### Cleaning"
   ]
  },
  {
   "cell_type": "code",
   "execution_count": 45,
   "id": "54de2266",
   "metadata": {
    "execution": {
     "iopub.execute_input": "2024-06-09T19:56:39.624592Z",
     "iopub.status.busy": "2024-06-09T19:56:39.623338Z",
     "iopub.status.idle": "2024-06-09T19:56:39.727788Z",
     "shell.execute_reply": "2024-06-09T19:56:39.726927Z",
     "shell.execute_reply.started": "2024-06-09T19:56:39.624540Z"
    },
    "tags": []
   },
   "outputs": [],
   "source": [
    "df = pd.read_csv('../data/raw_data/pc3.csv', sep=';')\n",
    "df.columns = [col.lower().replace(' ', '_') for col in df.columns]\n",
    "df = df[[\n",
    "    'molecule_chembl_id', 'molecular_weight', 'alogp',\n",
    "    'smiles', 'standard_relation', 'standard_value',\n",
    "    'standard_units', 'data_validity_comment', 'assay_description',\n",
    "    'assay_organism',\n",
    "]]"
   ]
  },
  {
   "cell_type": "code",
   "execution_count": 46,
   "id": "3a5da82f",
   "metadata": {
    "execution": {
     "iopub.execute_input": "2024-06-09T19:56:39.730538Z",
     "iopub.status.busy": "2024-06-09T19:56:39.729663Z",
     "iopub.status.idle": "2024-06-09T19:56:39.762224Z",
     "shell.execute_reply": "2024-06-09T19:56:39.761478Z",
     "shell.execute_reply.started": "2024-06-09T19:56:39.730499Z"
    },
    "tags": []
   },
   "outputs": [],
   "source": [
    "df = df[df['assay_organism'] == 'Homo sapiens']\n",
    "df = df[df['data_validity_comment'] != 'Outside typical range']\n",
    "df = df[df['standard_units'] == 'nM']\n",
    "df = df.dropna(subset=['smiles', 'standard_value',\n",
    "                       'alogp', 'standard_relation',\n",
    "                      'standard_units'])"
   ]
  },
  {
   "cell_type": "code",
   "execution_count": 47,
   "id": "609f12f0",
   "metadata": {
    "execution": {
     "iopub.execute_input": "2024-06-09T19:56:39.764232Z",
     "iopub.status.busy": "2024-06-09T19:56:39.763513Z",
     "iopub.status.idle": "2024-06-09T19:56:39.780065Z",
     "shell.execute_reply": "2024-06-09T19:56:39.779411Z",
     "shell.execute_reply.started": "2024-06-09T19:56:39.764196Z"
    },
    "tags": []
   },
   "outputs": [],
   "source": [
    "df = df[df['standard_relation'] == \"'='\"]\n",
    "df = df[['molecular_weight', 'smiles', 'standard_value', 'alogp']]\n",
    "df['standard_value'] = np.log(df['standard_value'])"
   ]
  },
  {
   "cell_type": "code",
   "execution_count": 48,
   "id": "1d13bebc-634d-44b5-a4f6-bf80d416e629",
   "metadata": {
    "execution": {
     "iopub.execute_input": "2024-06-09T19:56:39.781990Z",
     "iopub.status.busy": "2024-06-09T19:56:39.781182Z",
     "iopub.status.idle": "2024-06-09T19:56:39.820507Z",
     "shell.execute_reply": "2024-06-09T19:56:39.819801Z",
     "shell.execute_reply.started": "2024-06-09T19:56:39.781954Z"
    },
    "tags": []
   },
   "outputs": [],
   "source": [
    "mean_sv = df.groupby('smiles')['standard_value'].mean()\n",
    "df = df[~df['smiles'].duplicated()]\n",
    "df = df.set_index('smiles')\n",
    "df['standard_value'] = mean_sv\n",
    "\n",
    "df = df.reset_index()"
   ]
  },
  {
   "cell_type": "code",
   "execution_count": 49,
   "id": "63725600-ddf0-498e-b1d4-acf4d02b24fc",
   "metadata": {
    "execution": {
     "iopub.execute_input": "2024-06-09T19:56:39.822658Z",
     "iopub.status.busy": "2024-06-09T19:56:39.821689Z",
     "iopub.status.idle": "2024-06-09T19:56:39.841859Z",
     "shell.execute_reply": "2024-06-09T19:56:39.841041Z",
     "shell.execute_reply.started": "2024-06-09T19:56:39.822606Z"
    },
    "tags": []
   },
   "outputs": [
    {
     "name": "stdout",
     "output_type": "stream",
     "text": [
      "<class 'pandas.core.frame.DataFrame'>\n",
      "RangeIndex: 9071 entries, 0 to 9070\n",
      "Data columns (total 4 columns):\n",
      " #   Column            Non-Null Count  Dtype  \n",
      "---  ------            --------------  -----  \n",
      " 0   smiles            9071 non-null   object \n",
      " 1   molecular_weight  9071 non-null   float64\n",
      " 2   standard_value    9071 non-null   float64\n",
      " 3   alogp             9071 non-null   object \n",
      "dtypes: float64(2), object(2)\n",
      "memory usage: 283.6+ KB\n"
     ]
    }
   ],
   "source": [
    "df.info()"
   ]
  },
  {
   "cell_type": "code",
   "execution_count": 50,
   "id": "202bc2cb-7797-4c25-ac67-30fa10fb3da9",
   "metadata": {
    "execution": {
     "iopub.execute_input": "2024-06-09T19:56:39.843967Z",
     "iopub.status.busy": "2024-06-09T19:56:39.843329Z",
     "iopub.status.idle": "2024-06-09T19:56:41.841971Z",
     "shell.execute_reply": "2024-06-09T19:56:41.841187Z",
     "shell.execute_reply.started": "2024-06-09T19:56:39.843920Z"
    },
    "tags": []
   },
   "outputs": [
    {
     "data": {
      "image/png": "[encoded data removed]",
      "text/plain": [
       "<ml_kernel._vendor.IPython.core.display.Image object>"
      ]
     },
     "execution_count": 50,
     "metadata": {},
     "output_type": "execute_result"
    }
   ],
   "source": [
    "molecules = [Chem.MolFromSmiles(smiles) for smiles in df['smiles']][:8]\n",
    "Draw.MolsToGridImage(molecules, molsPerRow=4, subImgSize=(250,250))"
   ]
  },
  {
   "cell_type": "code",
   "execution_count": 51,
   "id": "373ebe43",
   "metadata": {
    "execution": {
     "iopub.execute_input": "2024-06-09T19:56:41.843844Z",
     "iopub.status.busy": "2024-06-09T19:56:41.843243Z",
     "iopub.status.idle": "2024-06-09T19:56:42.209261Z",
     "shell.execute_reply": "2024-06-09T19:56:42.208441Z",
     "shell.execute_reply.started": "2024-06-09T19:56:41.843810Z"
    },
    "tags": []
   },
   "outputs": [
    {
     "data": {
      "image/png": "[encoded data removed]",
      "text/plain": [
       "<Figure size 600x400 with 1 Axes>"
      ]
     },
     "metadata": {},
     "output_type": "display_data"
    }
   ],
   "source": [
    "plt.figure(figsize=(6, 4))\n",
    "sns.histplot(data=df, x='standard_value', bins=100)\n",
    "plt.ylabel('Count', size=16)\n",
    "plt.xlabel('$log(IC_{50})$', size=16) \n",
    "plt.title('PC3 $log(IC_{50})$', size=20) \n",
    "  \n",
    "# Display figure \n",
    "plt.show() "
   ]
  },
  {
   "cell_type": "code",
   "execution_count": 52,
   "id": "5ed0d5bd-436d-4d64-a984-c4c43df65904",
   "metadata": {
    "execution": {
     "iopub.execute_input": "2024-06-09T19:56:42.212374Z",
     "iopub.status.busy": "2024-06-09T19:56:42.211524Z",
     "iopub.status.idle": "2024-06-09T19:56:42.260273Z",
     "shell.execute_reply": "2024-06-09T19:56:42.259516Z",
     "shell.execute_reply.started": "2024-06-09T19:56:42.212334Z"
    }
   },
   "outputs": [],
   "source": [
    "df.to_csv('../data/clean_data/pc3_cl.csv')"
   ]
  },
  {
   "cell_type": "markdown",
   "id": "7ad54284",
   "metadata": {},
   "source": [
    "### Descryption"
   ]
  },
  {
   "cell_type": "code",
   "execution_count": 53,
   "id": "5da0e4eb",
   "metadata": {
    "execution": {
     "iopub.execute_input": "2024-06-09T19:56:42.262384Z",
     "iopub.status.busy": "2024-06-09T19:56:42.261231Z",
     "iopub.status.idle": "2024-06-09T20:21:19.550344Z",
     "shell.execute_reply": "2024-06-09T20:21:19.549117Z",
     "shell.execute_reply.started": "2024-06-09T19:56:42.262345Z"
    },
    "tags": []
   },
   "outputs": [
    {
     "name": "stderr",
     "output_type": "stream",
     "text": [
      "  0%|          | 12/9071 [00:02<29:49,  5.06it/s] "
     ]
    },
    {
     "name": "stdout",
     "output_type": "stream",
     "text": [
      "/usr/local/lib/python3.10/dist-packages/numpy/core/fromnumeric.py:88: RuntimeWarning: overflow encountered in reduce\n",
      "  return ufunc.reduce(obj, axis, dtype, out, **passkwargs)\n"
     ]
    },
    {
     "name": "stderr",
     "output_type": "stream",
     "text": [
      "  1%|▏         | 122/9071 [00:15<43:03,  3.46it/s]"
     ]
    },
    {
     "name": "stdout",
     "output_type": "stream",
     "text": [
      "/usr/local/lib/python3.10/dist-packages/numpy/core/fromnumeric.py:88: RuntimeWarning: overflow encountered in reduce\n",
      "  return ufunc.reduce(obj, axis, dtype, out, **passkwargs)\n"
     ]
    },
    {
     "name": "stderr",
     "output_type": "stream",
     "text": [
      "  2%|▏         | 142/9071 [00:17<41:19,  3.60it/s]"
     ]
    },
    {
     "name": "stdout",
     "output_type": "stream",
     "text": [
      "/usr/local/lib/python3.10/dist-packages/numpy/core/fromnumeric.py:88: RuntimeWarning: overflow encountered in reduce\n",
      "  return ufunc.reduce(obj, axis, dtype, out, **passkwargs)\n"
     ]
    },
    {
     "name": "stderr",
     "output_type": "stream",
     "text": [
      "  2%|▏         | 143/9071 [00:18<41:29,  3.59it/s]"
     ]
    },
    {
     "name": "stdout",
     "output_type": "stream",
     "text": [
      "/usr/local/lib/python3.10/dist-packages/numpy/core/fromnumeric.py:88: RuntimeWarning: overflow encountered in reduce\n",
      "  return ufunc.reduce(obj, axis, dtype, out, **passkwargs)\n"
     ]
    },
    {
     "name": "stderr",
     "output_type": "stream",
     "text": [
      "100%|██████████| 9071/9071 [18:47<00:00,  8.04it/s]  \n"
     ]
    }
   ],
   "source": [
    "df_descr = get_descr_df(df)"
   ]
  },
  {
   "cell_type": "code",
   "execution_count": 54,
   "id": "5d775968-b07f-4fb7-8037-71c39bc93db3",
   "metadata": {
    "execution": {
     "iopub.execute_input": "2024-06-09T20:21:19.552700Z",
     "iopub.status.busy": "2024-06-09T20:21:19.551556Z",
     "iopub.status.idle": "2024-06-09T20:21:28.949291Z",
     "shell.execute_reply": "2024-06-09T20:21:28.948529Z",
     "shell.execute_reply.started": "2024-06-09T20:21:19.552661Z"
    }
   },
   "outputs": [],
   "source": [
    "df_descr.to_csv('../data/desc_data/pc3_desc.csv', index=False)"
   ]
  }
 ],
 "metadata": {
  "kernelspec": {
   "display_name": "DataSphere Kernel",
   "language": "python",
   "name": "python3"
  },
  "language_info": {
   "codemirror_mode": {
    "name": "ipython",
    "version": 3
   },
   "file_extension": ".py",
   "mimetype": "text/x-python",
   "name": "python",
   "nbconvert_exporter": "python",
   "pygments_lexer": "ipython3",
   "version": "3.10.12"
  },
  "toc": {
   "base_numbering": 1,
   "nav_menu": {},
   "number_sections": true,
   "sideBar": true,
   "skip_h1_title": true,
   "title_cell": "Table of Contents",
   "title_sidebar": "Contents",
   "toc_cell": true,
   "toc_position": {},
   "toc_section_display": true,
   "toc_window_display": false
  }
 },
 "nbformat": 4,
 "nbformat_minor": 5
}
